{
 "cells": [
  {
   "cell_type": "markdown",
   "metadata": {},
   "source": [
    "# Erros e exceções\n",
    "\n",
    "## Objetivos\n",
    "\n",
    "- Compreender as diferentes mensagens de erros em Python;\n",
    "- Ser capaz de identificar erros lógicos e sintáticos a partir de mensagens de erro;\n",
    "- Inferir possíveis exceções que podem ser lançadas pelo código;\n",
    "- Implementar tratamento de exceções;\n",
    "\n",
    "---\n",
    "\n"
   ]
  },
  {
   "cell_type": "markdown",
   "metadata": {},
   "source": [
    "## Introdução\n",
    "\n",
    "- A primeira coisa que aprendemos em programação é implementar um programa simples que imprime (com a função ``print``) uma mensagem qualquer, tradicionalmente \"Hello World\" ou \"Olá Mundo\".\n",
    "- A segunda coisa que aprendemos é como o interpretador do Python indica a presença de (muitos) erros no código 😝"
   ]
  },
  {
   "cell_type": "markdown",
   "metadata": {},
   "source": [
    "## Erros lógicos\n",
    "\n",
    "- Podem ser entendidos como uma __má definição das instruções__ no código pelo programador que __não resulta na saída esperada__, dada uma __entrada correta__. \n",
    "- Dependem principalmente do __entendimento do domínio do problema__ e das __habilidades do programador__.\n",
    "- Exemplos de erros lógicos:\n",
    "    - Usar nome incorreto de variável ou função;\n",
    "    - Utilizar a quantidade equivocada de espaçamento para definir blocos de código;\n",
    "    - Criar uma condição com expressões booleanas que produzem o resultado lógico incorreto;\n",
    "    - Usar divisão inteira para números com ponto flutuante;\n",
    "    - Entre outros."
   ]
  },
  {
   "cell_type": "markdown",
   "metadata": {},
   "source": [
    "## Erros sintáticos\n",
    "\n",
    "- Acontecem quando o compilador ou interpretador não reconhece as instruções do código ou terminal inseridas pelo programador; \n",
    "- Nem sempre é trivial encontrar tal erro;\n",
    "- Geralmente resulta na imediata interrupção da execução do programa.\n",
    "- Exemplo:"
   ]
  },
  {
   "cell_type": "code",
   "execution_count": 1,
   "metadata": {},
   "outputs": [
    {
     "ename": "SyntaxError",
     "evalue": "invalid syntax (<ipython-input-1-3257c076f0e2>, line 1)",
     "output_type": "error",
     "traceback": [
      "\u001b[1;36m  File \u001b[1;32m\"<ipython-input-1-3257c076f0e2>\"\u001b[1;36m, line \u001b[1;32m1\u001b[0m\n\u001b[1;33m    while True print(\"Olá, Mundo!\")\u001b[0m\n\u001b[1;37m               ^\u001b[0m\n\u001b[1;31mSyntaxError\u001b[0m\u001b[1;31m:\u001b[0m invalid syntax\n"
     ]
    }
   ],
   "source": [
    "while True print(\"Olá, Mundo!\")"
   ]
  },
  {
   "cell_type": "markdown",
   "metadata": {},
   "source": [
    "- Aprendemos que a estrutura de decisão ``while`` requer uma condição seguida de dois pontos ``:``. Logo em seguida, adicionamos um nível de indentação marcando o início do bloco de instruções.\n",
    "- No terminal onde o código é executado, são indicados o arquivo, linha e um símbolo de ``^`` indicando a posição na instrução.\n",
    "- A última linha indica o tipo de erro, neste caso um erro de sintaxe.\n",
    "- Abaixo exemplificamos alguns tipos de erro:"
   ]
  },
  {
   "cell_type": "markdown",
   "metadata": {},
   "source": [
    "### SyntaxError\n",
    "\n",
    "- O parser encontra um erro de sintaxe.\n",
    "- Erro de sintaxe é um erro onde alguma instrução no código de uma linguagem de programação específica não segue as regras definidas pela linguagem."
   ]
  },
  {
   "cell_type": "code",
   "execution_count": 2,
   "metadata": {},
   "outputs": [],
   "source": [
    "a = \"100"
   ]
  },
  {
   "cell_type": "code",
   "execution_count": null,
   "metadata": {},
   "outputs": [],
   "source": [
    "for e in [1, 2, 3, 4]"
   ]
  },
  {
   "cell_type": "code",
   "execution_count": null,
   "metadata": {},
   "outputs": [],
   "source": [
    "msg = \"Uma mensagem qualquer.\"\n",
    "\n",
    "print msg"
   ]
  },
  {
   "cell_type": "markdown",
   "metadata": {},
   "source": [
    "### IndentationError\n",
    "\n",
    "- Quando a indentação não é realizada corretamente dos blocos de códigos não é realizada corretamente."
   ]
  },
  {
   "cell_type": "code",
   "execution_count": null,
   "metadata": {},
   "outputs": [],
   "source": [
    "contador = 1\n",
    "\n",
    "while contador < 100:\n",
    "contador = contador + 1"
   ]
  },
  {
   "cell_type": "markdown",
   "metadata": {},
   "source": [
    "### KeyError e IndexError\n",
    "\n",
    "- IndexError e KeyError ocorre quando tentamos acessar um elemento de uma lista ou dicionário utilizando valores de índices ou chaves inexistentes, respectivamente."
   ]
  },
  {
   "cell_type": "code",
   "execution_count": null,
   "metadata": {},
   "outputs": [],
   "source": [
    "L = list(range(10))\n",
    "L[11]"
   ]
  },
  {
   "cell_type": "code",
   "execution_count": null,
   "metadata": {},
   "outputs": [],
   "source": [
    "x1 = list(range(10))\n",
    "x2 = list(range(10,20))\n",
    "\n",
    "dicionario = dict(zip(x1,x2))\n",
    "\n",
    "print(dicionario)\n",
    "\n",
    "print(dicionario[55])\n"
   ]
  },
  {
   "cell_type": "markdown",
   "metadata": {},
   "source": [
    "### NameError\n",
    "\n",
    "- Ocorre quando o interpretador se deparar com um nome de variável local ou global não definida."
   ]
  },
  {
   "cell_type": "code",
   "execution_count": 3,
   "metadata": {},
   "outputs": [
    {
     "ename": "NameError",
     "evalue": "name 'x' is not defined",
     "output_type": "error",
     "traceback": [
      "\u001b[1;31m---------------------------------------------------------------------------\u001b[0m",
      "\u001b[1;31mNameError\u001b[0m                                 Traceback (most recent call last)",
      "\u001b[1;32m<ipython-input-3-da7782712f5d>\u001b[0m in \u001b[0;36m<module>\u001b[1;34m\u001b[0m\n\u001b[1;32m----> 1\u001b[1;33m \u001b[1;32mif\u001b[0m \u001b[0mx\u001b[0m \u001b[1;33m>\u001b[0m \u001b[1;36m0\u001b[0m\u001b[1;33m:\u001b[0m\u001b[1;33m\u001b[0m\u001b[1;33m\u001b[0m\u001b[0m\n\u001b[0m\u001b[0;32m      2\u001b[0m     \u001b[0mprint\u001b[0m\u001b[1;33m(\u001b[0m\u001b[0mx\u001b[0m\u001b[1;33m+\u001b[0m\u001b[1;36m1\u001b[0m\u001b[1;33m)\u001b[0m\u001b[1;33m\u001b[0m\u001b[1;33m\u001b[0m\u001b[0m\n",
      "\u001b[1;31mNameError\u001b[0m: name 'x' is not defined"
     ]
    }
   ],
   "source": [
    "if x > 0:\n",
    "    print(x+1)"
   ]
  },
  {
   "cell_type": "markdown",
   "metadata": {},
   "source": [
    "### ValueError\n",
    "\n",
    "- Ocorre quando uma operação ou função recebe uma valor não-apropriado; "
   ]
  },
  {
   "cell_type": "code",
   "execution_count": null,
   "metadata": {},
   "outputs": [],
   "source": [
    "float(\"A\")"
   ]
  },
  {
   "cell_type": "code",
   "execution_count": null,
   "metadata": {},
   "outputs": [],
   "source": [
    "mensagem = \"Esta é apenas uma simples mensagem.\"\n",
    "\n",
    "print(\"Índice = \",mensagem.index(\"apenas\"))\n",
    "\n",
    "print(\"__\"*30)\n",
    "\n",
    "print(mensagem.index(\"complexa\"))"
   ]
  },
  {
   "cell_type": "markdown",
   "metadata": {},
   "source": [
    "### TypeError\n",
    "\n",
    "- Quando uma operação ou função recebe uma tipo não apropriado; \n",
    "- Utilização de vírgula em vez de ponto decimal para representar números com ponto flutuante;\n",
    "    - Função vê a chamada como usando mais argumentos do que ela requer;"
   ]
  },
  {
   "cell_type": "code",
   "execution_count": null,
   "metadata": {},
   "outputs": [],
   "source": [
    "print(int(12.2))\n",
    "\n",
    "print(int(12,2))\n",
    "\n"
   ]
  },
  {
   "cell_type": "markdown",
   "metadata": {},
   "source": [
    "- Mais exemplos de erros da linguagem de programação Python podem ser encontrados na documentação do Python (https://docs.python.org/3/tutorial/errors.html)."
   ]
  },
  {
   "cell_type": "markdown",
   "metadata": {},
   "source": [
    "***\n",
    "\n",
    "## Exceções\n",
    "- Ocorrem em tempo de execução; \n",
    "- Mesmo quando a sintaxe do seu código está correta, mas o programa se depara com uma situação que não permite que realize a instrução. \n",
    "- Podem ser manipuladas de forma que não sejam \"fatais\" para o programa.\n",
    "- Tipos de exceções e descrição pode ser encontrada em: \n",
    "    - https://docs.python.org/2.7/library/exceptions.html\n",
    "    - https://docs.python.org/3.4/library/exceptions.html\n",
    "- Diferenciamos erros de exceções pelo fato dos erros acontecerem durante a etapa de compilação do seu programa (conversão para byte-code) enquanto que exceções acontecem durante a execução."
   ]
  },
  {
   "cell_type": "markdown",
   "metadata": {},
   "source": [
    "### Tratamento de exceções\n",
    "\n",
    "- Python utiliza blocos especializados para tratamento de exceções: try, except e finally; \n",
    "- ``try``: delimita um bloco de códigos que queremos executar e testa para determinado(s) tipo(s) de erro(s);\n",
    "- ``except``: permite manipular o erro quando for testado positivo para sua ocorrência no bloco ``try``;\n",
    "- ``finally`` (opcional): permite execução de código independente do resultado de ``try``/``except``."
   ]
  },
  {
   "cell_type": "markdown",
   "metadata": {},
   "source": [
    "#### Exemplo:"
   ]
  },
  {
   "cell_type": "code",
   "execution_count": null,
   "metadata": {},
   "outputs": [],
   "source": [
    "try:\n",
    "    print(v)\n",
    "except NameError:\n",
    "    print(\"A variável v não foi definida em lugar nenhum!\")\n",
    "finally:\n",
    "    print(\"Vou executar independentemente\")"
   ]
  },
  {
   "cell_type": "markdown",
   "metadata": {},
   "source": [
    "💣 Experimente executar somente ``print(v)`` sem tratamento de exceção."
   ]
  },
  {
   "cell_type": "markdown",
   "metadata": {},
   "source": [
    "#### Funcionamento de ``try``/``except``/``finally``\n",
    "\n",
    "<ol>\n",
    "    <li>O bloco delimitado por try é executado.</li>\n",
    "    <li>Caso não ocorra nenhuma exceção, o bloco except é ignorado e a execução do bloco delimitado por try termina. </li>\n",
    "    <li>Caso ocorra uma exceção durante a execução do bloco delimitado por try, a execução do restante do bloco é interrompida.</li>\n",
    "    <li>Se o tipo da exceção for a mesma definida pelo bloco except (por exemplo, ArithmeticError, IndentationError, SyntaxError, etc), o bloco delimitado por except é executado, permitindo a continuidade da execução do programa.</li>\n",
    "    <li>Se o tipo da exceção não for definido em nenhum bloco except subsequente ao try, significa que a exceção não é manipulada, a execução é interrompida e emite-se uma mensagem de erro.</li>\n",
    "    <li>O bloco finally sempre é executado.</li>\n",
    "</ol>"
   ]
  },
  {
   "cell_type": "markdown",
   "metadata": {},
   "source": [
    "### Exemplos:"
   ]
  },
  {
   "cell_type": "code",
   "execution_count": null,
   "metadata": {},
   "outputs": [],
   "source": [
    "## Varios tratamentos\n",
    "\n",
    "import sys\n",
    "\n",
    "try:\n",
    "    arquivo = open(\"numeros.docx\")\n",
    "    ### outras instruções\n",
    "    \n",
    "except IOError as erro_entrada_saida:\n",
    "    errno,strerror = erro_entrada_saida.args\n",
    "    print(\"Erro de entrada de saída ({0}): {1}\".format(errno,strerror))\n",
    "\n",
    "except ValueError:\n",
    "    print(\"Número no arquivo inválido.\")\n",
    "    \n",
    "except:\n",
    "    print(\"Erro inesperado:\", sys.exc_info()[0])\n",
    "    "
   ]
  },
  {
   "cell_type": "markdown",
   "metadata": {},
   "source": [
    "- ``args`` é uma tupla que armazena os argumentos de um construtor de exceções;\n",
    "- O primeiro elemento da tupla (``errno``) é o código de erro;\n",
    "- O segundo elemento da tupla (``strerror``) é a mensagem de erro;\n",
    "- Ambos elementos são emitidos pelo sistema operacional e seguem o padrão da linguagem C.\n",
    "- O último bloco ``except`` é um tratamento genético. __Experimente remover o bloco do ``IOError`` e executar o código acima novamente__."
   ]
  },
  {
   "cell_type": "markdown",
   "metadata": {},
   "source": [
    "#### Função sem tratamento de exceção interno"
   ]
  },
  {
   "cell_type": "code",
   "execution_count": 7,
   "metadata": {},
   "outputs": [
    {
     "name": "stdout",
     "output_type": "stream",
     "text": [
      "Não foi passado um valor numérico para a função:  invalid literal for int() with base 10: '10.5'\n",
      "Continua execução.\n"
     ]
    }
   ],
   "source": [
    "def float_to_int(num):\n",
    "    return int(num)\n",
    "\n",
    "try:\n",
    "    print(float_to_int(\"10.5\"))\n",
    "except ValueError as erro:\n",
    "    print(\"Não foi passado um valor numérico para a função: \", erro)\n",
    "\n",
    "print(\"Continua execução.\")"
   ]
  },
  {
   "cell_type": "markdown",
   "metadata": {},
   "source": [
    "#### Função com tratamento de exceção interno"
   ]
  },
  {
   "cell_type": "code",
   "execution_count": 9,
   "metadata": {},
   "outputs": [
    {
     "name": "stdout",
     "output_type": "stream",
     "text": [
      "Não foi passado um valor numérico para a função:  invalid literal for int() with base 10: '12.3'\n",
      "Erro durante a execução da função float_to_int_2!\n",
      "Continua a execução.\n"
     ]
    }
   ],
   "source": [
    "def float_to_int_2(num):\n",
    "    try:\n",
    "        return int(num)\n",
    "    except ValueError as erro:\n",
    "        print(\"Não foi passado um valor numérico para a função: \", erro)\n",
    "    return -1\n",
    "\n",
    "result = float_to_int_2(\"12.3\")\n",
    "\n",
    "if result == -1:\n",
    "    print(\"Erro durante a execução da função float_to_int_2!\")\n",
    "    \n",
    "print(\"Continua a execução.\")"
   ]
  },
  {
   "cell_type": "markdown",
   "metadata": {},
   "source": [
    "### ``raise``\n",
    "\n",
    "- Em Python, as exceções são lançadas quando ocorrem erros em tempo de execução.\n",
    "- A palavra-chave ``raise`` quando utilizada permite forçar uma exceção específica;"
   ]
  },
  {
   "cell_type": "code",
   "execution_count": 10,
   "metadata": {},
   "outputs": [
    {
     "ename": "KeyboardInterrupt",
     "evalue": "",
     "output_type": "error",
     "traceback": [
      "\u001b[1;31m---------------------------------------------------------------------------\u001b[0m",
      "\u001b[1;31mKeyboardInterrupt\u001b[0m                         Traceback (most recent call last)",
      "\u001b[1;32m<ipython-input-10-c761920b81b0>\u001b[0m in \u001b[0;36m<module>\u001b[1;34m\u001b[0m\n\u001b[1;32m----> 1\u001b[1;33m \u001b[1;32mraise\u001b[0m \u001b[0mKeyboardInterrupt\u001b[0m\u001b[1;33m\u001b[0m\u001b[1;33m\u001b[0m\u001b[0m\n\u001b[0m",
      "\u001b[1;31mKeyboardInterrupt\u001b[0m: "
     ]
    }
   ],
   "source": [
    "raise KeyboardInterrupt"
   ]
  },
  {
   "cell_type": "markdown",
   "metadata": {},
   "source": [
    "- Teste o código abaixo para digitando quando solicitado ``-1`` e ``Brazil``:"
   ]
  },
  {
   "cell_type": "code",
   "execution_count": 27,
   "metadata": {},
   "outputs": [
    {
     "name": "stdout",
     "output_type": "stream",
     "text": [
      "Digite um valor inteiro positivo: -1\n",
      "Erro: o número digitado não é positivo!\n"
     ]
    }
   ],
   "source": [
    "def ler_inteiro_positivo():\n",
    "    a = input(\"Digite um valor inteiro positivo: \")\n",
    "    \n",
    "    if int(a) <= 0:\n",
    "        raise ValueError(\"o número digitado não é positivo!\")\n",
    "\n",
    "try: \n",
    "    ler_inteiro_positivo()\n",
    "except ValueError as e:\n",
    "    print(\"Mensagem de Erro:\", e)"
   ]
  },
  {
   "cell_type": "markdown",
   "metadata": {},
   "source": [
    "### Erros definidos pelo usuário\n",
    "\n",
    "- Podemos criar erros específicos para nossa aplicação.\n",
    "- __Exemplo__: leia um número e lance um erro sempre que o valor digitado pelo usuário seja menor que o limite inferior definido ou maior que limite superior definido."
   ]
  },
  {
   "cell_type": "code",
   "execution_count": null,
   "metadata": {},
   "outputs": [
    {
     "name": "stdout",
     "output_type": "stream",
     "text": [
      "Digite um número: 11111111111\n",
      "O valor digitado está acima do limite superior\n"
     ]
    }
   ],
   "source": [
    "limiteInferior = 50\n",
    "limiteSuperior = 1000\n",
    "\n",
    "## a classe Exception é denominada a classe-base para todas as outras\n",
    "## classes de exceções que venham a ser criadas.\n",
    "\n",
    "## Portanto, as demais classes definidas pelo usuário devem herdar seus\n",
    "## atributos\n",
    "\n",
    "class ErroIntervalo(Exception):\n",
    "    \"\"\"Valor fora do intervalo.\"\"\"\n",
    "    pass\n",
    "\n",
    "class ErroAbaixoDoLimite(ErroIntervalo):\n",
    "    \"\"\"Valor menor que o limite inferior.\"\"\"\n",
    "    pass\n",
    "\n",
    "\n",
    "class ErroAcimaDoLimite(ErroIntervalo):\n",
    "    \"\"\"Valor maior que o limite superior.\"\"\"\n",
    "    pass\n",
    "\n",
    "while True:\n",
    "    try:\n",
    "        numero = int(input(\"Digite um número: \"))\n",
    "        if numero < limiteInferior:\n",
    "            raise ErroAbaixoDoLimite\n",
    "    \n",
    "        elif numero > limiteSuperior:\n",
    "            raise ErroAcimaDoLimite\n",
    "    \n",
    "        break\n",
    "\n",
    "    except ErroAbaixoDoLimite:\n",
    "        print(\"O valor digitado está abaixo do limite inferior!\")\n",
    "    \n",
    "    except ErroAcimaDoLimite:\n",
    "        print(\"O valor digitado está acima do limite superior\")\n",
    "\n",
    "print(\"O valor está dentro do intervalo.\")\n"
   ]
  },
  {
   "cell_type": "markdown",
   "metadata": {},
   "source": [
    "- __Boa prática__: quando definimos nossas próprias classes de erros, é aconselhável criar um módulo separadamente para elas, por exemplo: ``excecoes.py`` ou ``erros.py``.\n",
    "- Estas classes podem ser incrementadas utilizando os conceitos de programação orientada a objetos."
   ]
  },
  {
   "cell_type": "markdown",
   "metadata": {},
   "source": [
    "## Conclusão\n",
    "\n",
    "- Erros sintáticos impedem a compilação e consequentemente a execução do programa pelo interpretador.\n",
    "- No entanto, exceções não impedem a compilação e execução do programa, mas no momento que a linha com a exceção é executada teremos problemas.\n",
    "- A estrutura ``try``/``except``/``finally`` é utilizada para manipulação e tratamento de exceções."
   ]
  },
  {
   "cell_type": "markdown",
   "metadata": {},
   "source": [
    "# Exercícios"
   ]
  },
  {
   "cell_type": "markdown",
   "metadata": {},
   "source": [
    "__1 - Qual das mensagens abaixo representa um dos erros mais comuns em Python:__ <br>\n",
    "\n",
    "a. SyntaxError: unexpected EOF while parsing <br>\n",
    "b. SyntaxError: EOL while scanning string literal <br>\n",
    "c. SyntaxError: invalid syntax <br>\n",
    "d. SyntaxError: unexpected indent <br>"
   ]
  },
  {
   "cell_type": "markdown",
   "metadata": {},
   "source": [
    "__2 - Qual(is) da(s) string(s) abaixo não apresenta(m) erro?__ <br>\n",
    "\n",
    "a = 'first string' <br>\n",
    "b = \"second string = first string\" <br>\n",
    "c = \"can it work, I wonder?' <br>\n",
    "d = 'it's really easy to forget' <br>\n",
    "e = 'we \"quote\" it, because we can, can't we?' <br>\n",
    "f = \"\"\"is this even posssible!?\"\"\" <br>"
   ]
  },
  {
   "cell_type": "code",
   "execution_count": null,
   "metadata": {},
   "outputs": [],
   "source": []
  },
  {
   "cell_type": "markdown",
   "metadata": {},
   "source": [
    "__3 - Corrija o código abaixo de forma que a primeira linha imprima o resultado da expressão matemática e a segunda linha imprima ``biologia molecular``:__"
   ]
  },
  {
   "cell_type": "code",
   "execution_count": null,
   "metadata": {},
   "outputs": [],
   "source": [
    "print(45 / 9 + 16 * (5 + 8))\n",
    "print(\"biologia\" \"molecular\")"
   ]
  },
  {
   "cell_type": "markdown",
   "metadata": {},
   "source": [
    "__4 - Em qual linha do código abaixo o interpretador irá interromper a execução?__ <br>\n",
    "\n",
    "print( \"Pobre Rei Lear\" )             # 1 <br>\n",
    "print()                               # 2 <br>\n",
    "print'ficou velho')                   # 3 <br>\n",
    "pint()                                # 4 <br>\n",
    "print( ' antes de ficar sábio  )      # 5  <br>"
   ]
  },
  {
   "cell_type": "markdown",
   "metadata": {},
   "source": [
    "__5 - O que acontece quando o interpretador se depara com uma exceção?__ <br>\n",
    "\n",
    "a. O programa pede confirmação para o programada antes de continuar a execução. <br>\n",
    "b. O programa é executado até a linha com uma exceção e então retorna o traceback. <br>\n",
    "c. O programa encerra apresentando o traceback antes de ser executado. <br>\n",
    "d. O programa é executado até o final ignorando a linha com exceção. <br>"
   ]
  },
  {
   "cell_type": "markdown",
   "metadata": {},
   "source": [
    "__6 - Uma exceção é...__\n",
    "\n",
    "a. Tipo de erro <br> \n",
    "b. Traceback <br>\n",
    "c. Função <br>\n",
    "d. Variável <br>"
   ]
  },
  {
   "cell_type": "markdown",
   "metadata": {},
   "source": [
    "__7 - O que tem de errado com o código abaixo?__\n",
    "\n",
    "age = \"20\" <br>\n",
    "\n",
    "if age < 18: <br>\n",
    "&emsp;print(\"Você não pode assistir Breaking Bad!\") <br>\n",
    "else: <br>\n",
    "&emsp;print(\"Você é benvindo aqui. Divirta-se!\") <br>"
   ]
  }
 ],
 "metadata": {
  "kernelspec": {
   "display_name": "Python 3",
   "language": "python",
   "name": "python3"
  },
  "language_info": {
   "codemirror_mode": {
    "name": "ipython",
    "version": 3
   },
   "file_extension": ".py",
   "mimetype": "text/x-python",
   "name": "python",
   "nbconvert_exporter": "python",
   "pygments_lexer": "ipython3",
   "version": "3.8.3"
  }
 },
 "nbformat": 4,
 "nbformat_minor": 4
}
