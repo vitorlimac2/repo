{
 "cells": [
  {
   "cell_type": "markdown",
   "metadata": {},
   "source": [
    "# Introdução ao pandas básico\n",
    "\n",
    "## Introdução\n",
    "\n",
    "- pandas (Python data analysis) é uma biblioteca de módulos para manipulação e análise de dados numéricos desenvolvida para a linguagem de programação Python;\n",
    "- Software gratuito;\n",
    "- Implementa estruturas de dados e funções que auxiliam operações sobre dados em formato tabulares em geral;\n",
    "- Se baseia nas abstrações de dados _Dataframes_ e _Series_;\n",
    "\n",
    "## Finalidade\n",
    "\n",
    "- Originalmente foi desenvolvido para análises financeiras;\n",
    "- Manipulação de dados que podem ser representados em formatos de tabelas (duas dimensões) ou vetores (unidimensional);\n",
    "- Pré-processamento de dados brutos (filtragem);\n",
    "- Análises numéricas;\n",
    "- Computação estatística;\n",
    "- Conversão de formatos;\n",
    "- Visualização de dados;\n",
    "- Suas funcionalidades se assemelham com a linguagem R;"
   ]
  },
  {
   "cell_type": "markdown",
   "metadata": {},
   "source": [
    "### Antes de começar:\n",
    "\n",
    "- Garanta que tenha instalado os pacotes necessários:\n",
    "    - Abra o terminal do __miniconda__;\n",
    "    - Execute o comando:\n",
    "        - ``conda install pandas``;\n",
    "        - ``conda install -c anaconda xlrd`` (biblioteca necessária para manipular arquivos do Excel anterior a 2010);\n",
    "        - ``conda install -c anaconda openpyxl`` (biblioteca para manipular arquivos do Excel 2010 ou superior);\n",
    "        - ``conda install -c conda-forge matplotlib``\n",
    "    - Em seguida, execute o __jupyter__."
   ]
  },
  {
   "cell_type": "markdown",
   "metadata": {},
   "source": [
    "## Importando pandas e companhia!"
   ]
  },
  {
   "cell_type": "code",
   "execution_count": 2,
   "metadata": {},
   "outputs": [],
   "source": [
    "import pandas as pd\n",
    "import numpy as np\n",
    "import matplotlib.pyplot as plt"
   ]
  },
  {
   "cell_type": "markdown",
   "metadata": {},
   "source": [
    "- __numpy__: biblioteca para manipulação de dados n-dimensionais e operações matemáticas avançadas;\n",
    "- __matplotlib__: biblioteca para visualização de dados;"
   ]
  },
  {
   "cell_type": "markdown",
   "metadata": {},
   "source": [
    "# _Series_\n",
    "\n",
    "- Series são arranjos unidimensionais;\n",
    "- Em outras palavras: um vetor que armazena diferentes tipos de dados (números, strings, objetos, etc) e possui índices associados a cada valor armazenado;\n",
    "- Para mais detalhes e exemplos: https://pandas.pydata.org/docs/user_guide/dsintro.html#series"
   ]
  },
  {
   "cell_type": "markdown",
   "metadata": {},
   "source": [
    "## Operações com séries\n",
    "- Nos exemplos a seguir, vamos demonstrar diversas operações básicas com o tipo de dado Série."
   ]
  },
  {
   "cell_type": "markdown",
   "metadata": {},
   "source": [
    "### Criando e indexando Series\n",
    "- Criando uma série e definindo em seguida os índices."
   ]
  },
  {
   "cell_type": "code",
   "execution_count": 5,
   "metadata": {},
   "outputs": [
    {
     "name": "stdout",
     "output_type": "stream",
     "text": [
      "Imprimindo densidades adicionando indices antes:\n",
      "0    0.53\n",
      "1    0.97\n",
      "2    0.86\n",
      "3    1.53\n",
      "4    1.90\n",
      "dtype: float64\n",
      "Imprimindo densidades adicionando indices depois:\n",
      "Li    0.53\n",
      "Na    0.97\n",
      "K     0.86\n",
      "Rb    1.53\n",
      "Cs    1.90\n",
      "dtype: float64\n"
     ]
    }
   ],
   "source": [
    "## criando series\n",
    "\n",
    "L = [0.53, 0.97, 0.86, 1.53, 1.9]\n",
    "\n",
    "densidades = pd.Series(L)\n",
    "\n",
    "print(\"Imprimindo densidades adicionando indices antes:\")\n",
    "print(densidades)\n",
    "\n",
    "\n",
    "## criando um array de indices\n",
    "indexElementos = [\"Li\",\"Na\",\"K\",\"Rb\",\"Cs\"]\n",
    "\n",
    "## adicionando indice\n",
    "densidades.index = indexElementos\n",
    "\n",
    "print(\"Imprimindo densidades adicionando indices depois:\")\n",
    "print(densidades)\n"
   ]
  },
  {
   "cell_type": "markdown",
   "metadata": {},
   "source": [
    "- Podemos indexar uma série imediatamente a sua definição:"
   ]
  },
  {
   "cell_type": "code",
   "execution_count": 6,
   "metadata": {},
   "outputs": [
    {
     "name": "stdout",
     "output_type": "stream",
     "text": [
      "Imprimindo densidades com indices ao criar o series:\n",
      "Li    0.53\n",
      "Na    0.97\n",
      "K     0.86\n",
      "Rb    1.53\n",
      "Cs    1.90\n",
      "dtype: float64\n"
     ]
    }
   ],
   "source": [
    "## definindo indices ao criar series\n",
    "densidades = pd.Series([0.53, 0.97, 0.86, 1.53, 1.9], index=[\"Li\",\"Na\",\"K\",\"Rb\",\"Cs\"])\n",
    "\n",
    "print(\"Imprimindo densidades com indices ao criar o series:\")\n",
    "print(densidades)"
   ]
  },
  {
   "cell_type": "markdown",
   "metadata": {},
   "source": [
    "- __Alterando índices__: o atributo ``index`` pode ser alterado em tempo de execução."
   ]
  },
  {
   "cell_type": "code",
   "execution_count": 10,
   "metadata": {},
   "outputs": [
    {
     "name": "stdout",
     "output_type": "stream",
     "text": [
      "Alterando os indices:\n",
      "a    0.53\n",
      "b    0.97\n",
      "c    0.86\n",
      "d    1.53\n",
      "e    1.90\n",
      "dtype: float64\n"
     ]
    }
   ],
   "source": [
    "novoIndex = [\"a\", \"b\", \"c\", \"d\", \"e\"]\n",
    "densidades.index = novoIndex\n",
    "\n",
    "print(\"Alterando os indices:\")\n",
    "print(densidades)"
   ]
  },
  {
   "cell_type": "markdown",
   "metadata": {},
   "source": [
    "- __Dicionários__ podem ser utilizados para criar séries:"
   ]
  },
  {
   "cell_type": "code",
   "execution_count": 17,
   "metadata": {},
   "outputs": [
    {
     "name": "stdout",
     "output_type": "stream",
     "text": [
      "Criando series a partir de um dict:\n",
      "Li    0.53\n",
      "Na    0.97\n",
      "K     0.86\n",
      "Rb    1.53\n",
      "Cs    1.90\n",
      "dtype: float64\n"
     ]
    }
   ],
   "source": [
    "## criando series a partir de dict\n",
    "meuDic = {\"Li\" : 0.53,\n",
    "          \"Na\" : 0.97,\n",
    "          \"K\"  : 0.86,\n",
    "          \"Rb\" : 1.53,\n",
    "          \"Cs\" : 1.9}\n",
    "\n",
    "densidades = pd.Series(meuDic)\n",
    "\n",
    "print(\"Criando series a partir de um dict:\")\n",
    "print(densidades)"
   ]
  },
  {
   "cell_type": "markdown",
   "metadata": {},
   "source": [
    "- __Como acessar os elementos de uma série?__ Lembre como fazemos com listas e strings!"
   ]
  },
  {
   "cell_type": "code",
   "execution_count": 13,
   "metadata": {},
   "outputs": [
    {
     "name": "stdout",
     "output_type": "stream",
     "text": [
      "Imprimindo a partir do segundo elemento:\n",
      "Na    0.97\n",
      "K     0.86\n",
      "Rb    1.53\n",
      "Cs    1.90\n",
      "dtype: float64\n",
      "Imprimindo o quarto elemento:\n",
      "Rb    1.53\n",
      "Cs    1.90\n",
      "dtype: float64\n",
      "Imprimindo a densidade do quarto elemento a partir do indice:\n",
      "1.53\n",
      "Imprimindo os elementos do primeiro ao ultimo indice (nao incluido)\n",
      "Li    0.53\n",
      "Na    0.97\n",
      "K     0.86\n",
      "Rb    1.53\n",
      "dtype: float64\n"
     ]
    }
   ],
   "source": [
    "print(\"Imprimindo a partir do segundo elemento:\")\n",
    "print(densidades[1:])\n",
    "\n",
    "print(\"Imprimindo o quarto elemento:\")\n",
    "print(densidades[3:5])\n",
    "\n",
    "print(\"Imprimindo a densidade do quarto elemento a partir do indice:\")\n",
    "print(densidades[\"Rb\"])\n",
    "\n",
    "print(\"Imprimindo os elementos do primeiro ao ultimo indice (nao incluido)\")\n",
    "print(densidades[:-1])"
   ]
  },
  {
   "cell_type": "markdown",
   "metadata": {},
   "source": [
    "- __Removendo elementos__: podemos usar o método drop para remover elementos."
   ]
  },
  {
   "cell_type": "code",
   "execution_count": 18,
   "metadata": {},
   "outputs": [
    {
     "name": "stdout",
     "output_type": "stream",
     "text": [
      "Densidades original:\n",
      "Li    0.53\n",
      "Na    0.97\n",
      "K     0.86\n",
      "Rb    1.53\n",
      "Cs    1.90\n",
      "dtype: float64\n",
      "Densidades removendo elementos usando drop:\n",
      "Li    0.53\n",
      "Rb    1.53\n",
      "Cs    1.90\n",
      "dtype: float64\n"
     ]
    }
   ],
   "source": [
    "print(\"Densidades original:\")\n",
    "print(densidades)\n",
    "\n",
    "print(\"Densidades removendo elementos usando drop:\")\n",
    "\n",
    "densidades = densidades.drop([\"Na\", \"K\"])\n",
    "print(densidades)"
   ]
  },
  {
   "cell_type": "markdown",
   "metadata": {},
   "source": [
    "- Utilizando outras bibliotecas de Python como o ``numpy``, podemos realizar diversas operações numéricas com os elementos das séries:"
   ]
  },
  {
   "cell_type": "code",
   "execution_count": 19,
   "metadata": {},
   "outputs": [
    {
     "name": "stdout",
     "output_type": "stream",
     "text": [
      "A média das densidades é 1.32\n",
      "Os elementos com densidade maior que a média:\n",
      "Rb    1.53\n",
      "Cs    1.90\n",
      "dtype: float64\n"
     ]
    }
   ],
   "source": [
    "media = np.mean(densidades)\n",
    "\n",
    "print(\"A média das densidades é %.2f\" % media)\n",
    "\n",
    "print(\"Os elementos com densidade maior que a média:\")\n",
    "\n",
    "## usa operador para selecionar os elementos de densidades maior que a media\n",
    "print(densidades[densidades > media])\n",
    "\n",
    "## serie[condicao]"
   ]
  },
  {
   "cell_type": "markdown",
   "metadata": {},
   "source": [
    "# Dataframes\n",
    "\n",
    "- Estrutura de dados bidimensional;\n",
    "- Uma abstração para tabelas em geral:\n",
    "    - Linhas, colunas, cabeçalhos, etc.\n"
   ]
  },
  {
   "cell_type": "markdown",
   "metadata": {},
   "source": [
    "## Operações básicas com dataframes\n",
    "\n",
    "- Podemos criar uma dataframe a partir de um __dicionário__ de __séries__."
   ]
  },
  {
   "cell_type": "code",
   "execution_count": 20,
   "metadata": {
    "scrolled": true
   },
   "outputs": [
    {
     "name": "stdout",
     "output_type": "stream",
     "text": [
      "   coluna1  coluna2  coluna3\n",
      "a      1.0      1.0      NaN\n",
      "b      2.0      2.0     10.0\n",
      "c      3.0      3.0      2.0\n",
      "d      NaN      4.0      8.0\n"
     ]
    }
   ],
   "source": [
    "## um dataframe pode ser um dict de series\n",
    "d = {'coluna1': pd.Series([1., 2., 3.], index=['a', 'b', 'c']),\n",
    "     'coluna2': pd.Series([1., 2., 3., 4.], index=['a', 'b', 'c', 'd']),\n",
    "     'coluna3': pd.Series([10., 2., 8.], index=['b', 'c', 'd'])}\n",
    "\n",
    "## criando dataframe\n",
    "df = pd.DataFrame(d)\n",
    "\n",
    "\n",
    "print(df)"
   ]
  },
  {
   "cell_type": "markdown",
   "metadata": {},
   "source": [
    "- Observe que o nome das colunas são as chaves do dicionário ``d`` e o nome das linhas ou registros são os valores definidos no argumento ``index``. "
   ]
  },
  {
   "cell_type": "markdown",
   "metadata": {},
   "source": [
    "- __Dataframes__ são heterogêneos, ou seja, aceitam todo o tipo de dado:"
   ]
  },
  {
   "cell_type": "code",
   "execution_count": 21,
   "metadata": {},
   "outputs": [
    {
     "name": "stdout",
     "output_type": "stream",
     "text": [
      "  Identificador Símbolo  Número de transcritos\n",
      "0   FBgn0034246   Dcr-2                      2\n",
      "1   FBgn0250816    AGO3                      4\n",
      "2   FBgn0283442     vas                      3\n"
     ]
    }
   ],
   "source": [
    "## dataframes podem ter diferentes tipos de dados\n",
    "\n",
    "data = {'Identificador'        : ['FBgn0034246', 'FBgn0250816', 'FBgn0283442'],\n",
    "        'Símbolo'              : ['Dcr-2', 'AGO3', 'vas'],\n",
    "        'Número de transcritos': [2, 4, 3]\n",
    "       }\n",
    "\n",
    "## criando dataframe\n",
    "df = pd.DataFrame(data, columns=['Identificador','Símbolo','Número de transcritos'])\n",
    "print(df)"
   ]
  },
  {
   "cell_type": "markdown",
   "metadata": {},
   "source": [
    "- __Alguns atributos de um dataframe__:"
   ]
  },
  {
   "cell_type": "code",
   "execution_count": 63,
   "metadata": {},
   "outputs": [
    {
     "name": "stdout",
     "output_type": "stream",
     "text": [
      "Número de (linhas,colunas):\n",
      "(3, 3)\n",
      "Índice:\n",
      "RangeIndex(start=0, stop=3, step=1)\n",
      "Quais são as colunas?\n",
      "Index(['Identificador', 'Símbolo', 'Número de transcritos'], dtype='object')\n"
     ]
    }
   ],
   "source": [
    "print(\"Número de (linhas,colunas):\")\n",
    "print(df.shape)\n",
    "\n",
    "print(\"Índice:\")\n",
    "print(df.index)\n",
    "\n",
    "print(\"Quais são as colunas?\")\n",
    "print(df.columns)"
   ]
  },
  {
   "cell_type": "markdown",
   "metadata": {},
   "source": [
    "- __Acessando colunas__: Podemos usar o nome da coluna para acessar os valores armazenados no dataframe:"
   ]
  },
  {
   "cell_type": "code",
   "execution_count": 22,
   "metadata": {},
   "outputs": [
    {
     "name": "stdout",
     "output_type": "stream",
     "text": [
      "0    Dcr-2\n",
      "1     AGO3\n",
      "2      vas\n",
      "Name: Símbolo, dtype: object\n"
     ]
    }
   ],
   "source": [
    "print(df['Símbolo'])"
   ]
  },
  {
   "cell_type": "code",
   "execution_count": 23,
   "metadata": {},
   "outputs": [
    {
     "name": "stdout",
     "output_type": "stream",
     "text": [
      "0    2\n",
      "1    4\n",
      "2    3\n",
      "Name: Número de transcritos, dtype: int64\n"
     ]
    }
   ],
   "source": [
    "print(df['Número de transcritos'])"
   ]
  },
  {
   "cell_type": "markdown",
   "metadata": {},
   "source": [
    "- Se passamos uma lista de nomes de colunas, obtemos um novo dataframe que contém apenas as colunas fornecidas:"
   ]
  },
  {
   "cell_type": "code",
   "execution_count": 24,
   "metadata": {},
   "outputs": [
    {
     "name": "stdout",
     "output_type": "stream",
     "text": [
      "  Símbolo  Número de transcritos\n",
      "0   Dcr-2                      2\n",
      "1    AGO3                      4\n",
      "2     vas                      3\n"
     ]
    }
   ],
   "source": [
    "print(df[['Símbolo','Número de transcritos']])"
   ]
  },
  {
   "cell_type": "markdown",
   "metadata": {},
   "source": [
    "- __Acessando registros ou linhas__: usamos o atributo ``iloc`` para acessar linhas específicas do dataframe:"
   ]
  },
  {
   "cell_type": "code",
   "execution_count": 25,
   "metadata": {},
   "outputs": [
    {
     "name": "stdout",
     "output_type": "stream",
     "text": [
      "Dataframe original:\n",
      "  Identificador Símbolo  Número de transcritos\n",
      "0   FBgn0034246   Dcr-2                      2\n",
      "1   FBgn0250816    AGO3                      4\n",
      "2   FBgn0283442     vas                      3\n",
      "Linha 2 do dataframe original:\n",
      "Identificador            FBgn0250816\n",
      "Símbolo                         AGO3\n",
      "Número de transcritos              4\n",
      "Name: 1, dtype: object\n"
     ]
    }
   ],
   "source": [
    "print(\"Dataframe original:\")\n",
    "print(df)\n",
    "\n",
    "print(\"Linha 2 do dataframe original:\")\n",
    "print(df.iloc[1])"
   ]
  },
  {
   "cell_type": "markdown",
   "metadata": {},
   "source": [
    "- __Adicionando uma nova coluna__: atribuímos uma lista de valores para uma coluna específica."
   ]
  },
  {
   "cell_type": "code",
   "execution_count": 26,
   "metadata": {},
   "outputs": [
    {
     "name": "stdout",
     "output_type": "stream",
     "text": [
      "  Identificador Símbolo  Número de transcritos         Nome\n",
      "0   FBgn0034246   Dcr-2                      2      Dicer-2\n",
      "1   FBgn0250816    AGO3                      4  Argonaute 3\n",
      "2   FBgn0283442     vas                      3         vasa\n"
     ]
    }
   ],
   "source": [
    "geneNome = ['Dicer-2','Argonaute 3','vasa']\n",
    "df['Nome'] = geneNome\n",
    "print(df)"
   ]
  },
  {
   "cell_type": "markdown",
   "metadata": {},
   "source": [
    "- A partir da coluna de um dataframe, podemos fazer diversas operações:"
   ]
  },
  {
   "cell_type": "code",
   "execution_count": 69,
   "metadata": {},
   "outputs": [
    {
     "name": "stdout",
     "output_type": "stream",
     "text": [
      "Total de transcritos = 9\n",
      "Média de transcritos = 3.00\n",
      "Mediana de transcritos = 3.00\n",
      "Maior número de transcritos = 4\n"
     ]
    }
   ],
   "source": [
    "print(\"Total de transcritos = %d\" % df['Número de transcritos'].sum())\n",
    "\n",
    "##################################################################################################\n",
    "print(\"Média de transcritos = %.2f\" % df['Número de transcritos'].mean())\n",
    "\n",
    "##################################################################################################\n",
    "print(\"Mediana de transcritos = %.2f\" % df['Número de transcritos'].median())\n",
    "\n",
    "##################################################################################################\n",
    "print(\"Maior número de transcritos = %d\" % df['Número de transcritos'].max())"
   ]
  },
  {
   "cell_type": "markdown",
   "metadata": {},
   "source": [
    "- Podemos também filtrar os registros de um dataframe da seguinte maneira:\n",
    "    - ``dataframe[condição]``"
   ]
  },
  {
   "cell_type": "code",
   "execution_count": 29,
   "metadata": {},
   "outputs": [
    {
     "name": "stdout",
     "output_type": "stream",
     "text": [
      "Gene com maior número de transcritos (linha inteira):\n",
      "  Identificador Símbolo  Número de transcritos         Nome\n",
      "1   FBgn0250816    AGO3                      4  Argonaute 3\n"
     ]
    }
   ],
   "source": [
    "maxTranscrito = df['Número de transcritos'].max()\n",
    "\n",
    "print(\"Gene com maior número de transcritos (linha inteira):\")\n",
    "\n",
    "print(df[df['Número de transcritos'] == maxTranscrito])"
   ]
  },
  {
   "cell_type": "markdown",
   "metadata": {},
   "source": [
    "- No exemplo acima, a condição é que o valor na coluna \"Número de transcritos\" (``df['Número de transcritos']``) seja igual ao número máximo de transcrito (``== maxTranscritos``)."
   ]
  },
  {
   "cell_type": "code",
   "execution_count": 30,
   "metadata": {},
   "outputs": [
    {
     "name": "stdout",
     "output_type": "stream",
     "text": [
      "Dataframe com os genes que contém a quantidade de transcritos igual máximo número de transcritos (nome):\n",
      "  Identificador Símbolo  Número de transcritos         Nome\n",
      "1   FBgn0250816    AGO3                      4  Argonaute 3\n"
     ]
    }
   ],
   "source": [
    "print(\"Dataframe com os genes que contém a quantidade de transcritos igual máximo número de transcritos (nome):\")\n",
    "\n",
    "print(df[df['Número de transcritos'] == maxTranscrito])"
   ]
  },
  {
   "cell_type": "code",
   "execution_count": 34,
   "metadata": {},
   "outputs": [
    {
     "name": "stdout",
     "output_type": "stream",
     "text": [
      "Gene com maior número de transcritos (nome):\n",
      "  Símbolo         Nome\n",
      "1    AGO3  Argonaute 3\n"
     ]
    }
   ],
   "source": [
    "print(\"Gene com maior número de transcritos (nome):\")\n",
    "\n",
    "\n",
    "print(df[df['Número de transcritos'] == maxTranscrito][['Símbolo','Nome']])"
   ]
  },
  {
   "cell_type": "markdown",
   "metadata": {},
   "source": [
    "- No exemplo acima, especificamos qual coluna do dataframe seja impressa de acordo a condição desejada: ``dataframe[condição][coluna]``.\n",
    "- Percebem que a coluna é nossa aliada para realizar os mais diversos tipos de operações!"
   ]
  },
  {
   "cell_type": "markdown",
   "metadata": {},
   "source": [
    "## Exemplo: Normalização de dados de RNA-Seq\n",
    "\n",
    "- Para exemplificar a __aplicabilidade__ da biblioteca pandas, vamos analisar superficialmente alguns dados de __expressão gênica__ obtidas de um experimento de __sequenciamento de RNA (RNA-Seq)__:\n",
    "- Sem prender aos detalhes técnicos e científicos do experimento utilizado aqui como exemplo, precisamos apenas saber que:\n",
    "    - Foram analisadas duas condições e extraído o RNA total de _Rhodnius prolixus_ ou \"_kissing bug_\" (\"barbeiro\");\n",
    "    - O sequenciamento do RNA foi realizado com o sequenciador Illumina HiSeq;\n",
    "    - Foram construídas duas réplicas para cada condição; "
   ]
  },
  {
   "cell_type": "markdown",
   "metadata": {},
   "source": [
    "### Por que normalizar dados de RNA-Seq?\n",
    "\n",
    "- O número de reads mapeados para cada gene (counts) é proporcional à expressão do RNA e à outros fatores externos (profundidade do sequenciamento, comprimento do gene, composição de RNA, conteúdo GC, fragmentação, amplificação, etc);\n",
    "- Normalização é o processo de dimensionar medidas para tornar os dados comparáveis a fim de se eliminar o impacto de fatores externos;\n",
    "- Diferentes métodos de normalização:\n",
    "    - CPM, TPM, RPKM, média das razões (DESeq), média trimada dos valores M (EdgeR), etc.\n"
   ]
  },
  {
   "cell_type": "markdown",
   "metadata": {},
   "source": [
    "### Normalização _Counts per Million_ (CPM)\n",
    "\n",
    "- A métrica CPM (_Counts per Million_) é calculada pelo número de counts (ou _reads_ mapeados) de um determinado gene g ($counts_g$) dividido pelo total de counts ($total\\_counts$) do experimento multiplicado pelo fator milhão:\n",
    "\n",
    "$CPM_g = \\frac{counts_g \\times 10^6}{total\\_counts}$"
   ]
  },
  {
   "cell_type": "markdown",
   "metadata": {},
   "source": [
    "- Considera como fator externo somente a profundidade do sequenciamento;\n"
   ]
  },
  {
   "cell_type": "markdown",
   "metadata": {},
   "source": [
    "#### Efeito externo da profundidade do sequenciamento\n",
    "\n",
    "- Considere o exemplo ao lado: blocos rosas e verdes são reads alinhados contra os genes X, Y e Z das amostras A e B.\n",
    "- Pela quantidade de reads alinhados ou counts rosas, parece que o gene Z é aprox. duas vezes mais expresso na amostra A do que B;\n",
    "- Mas este efeito é devido que o sequenciamento da amostra A produziu duas vezes mais reads (profundidade) do que do sequenciamento da amostra B."
   ]
  },
  {
   "cell_type": "markdown",
   "metadata": {},
   "source": [
    "- __Leitura dos dados de entrada__: os níveis de expressão estimados foram salvos em uma planilha do Excel."
   ]
  },
  {
   "cell_type": "code",
   "execution_count": 36,
   "metadata": {},
   "outputs": [
    {
     "name": "stdout",
     "output_type": "stream",
     "text": [
      "          gene  Rep1_CondA_Counts  Rep2_CondA_Counts  Rep1_CondB_Counts  \\\n",
      "0   RPRC000679                871                432                211   \n",
      "1   RPRC003242               3203               2959               1412   \n",
      "2   RPRC003262                130                 98                 12   \n",
      "3   RPRC003241               1067                832                257   \n",
      "4   RPRC003252               1836               1236                883   \n",
      "5   RPRC003249               1710               1113                573   \n",
      "6   RPRC003250                  3                  1                  0   \n",
      "7   RPRC003440                  0                  0                  0   \n",
      "8   RPRC000573                 47                 27                  3   \n",
      "9   RPRC003441               3685               2136               3221   \n",
      "10  RPRC000893                945                589                231   \n",
      "11  RPRC003454               2205               1701                605   \n",
      "12  RPRC007227                119                 68                136   \n",
      "13  RPRC007222                144                 65                176   \n",
      "14  RPRC007221               2532               1844               1016   \n",
      "15  RPRC007220               7096               5140               1615   \n",
      "16  RPRC007219                861                576                269   \n",
      "17  RPRC007218                942                626                726   \n",
      "18  RPRC007224                837                619                543   \n",
      "19  RPRC007223                  4                  0                  7   \n",
      "\n",
      "    Rep2_CondB_Counts  \n",
      "0                 151  \n",
      "1                1252  \n",
      "2                   5  \n",
      "3                 289  \n",
      "4                 547  \n",
      "5                 422  \n",
      "6                   1  \n",
      "7                   0  \n",
      "8                   0  \n",
      "9                2151  \n",
      "10                177  \n",
      "11                457  \n",
      "12                115  \n",
      "13                101  \n",
      "14                617  \n",
      "15               1436  \n",
      "16                197  \n",
      "17                450  \n",
      "18                307  \n",
      "19                  3  \n"
     ]
    }
   ],
   "source": [
    "## lendo o arquivo Excel “quantificacao_exemplo.xlsx”\n",
    "with pd.ExcelFile('quantificacao_exemplo.xlsx') as xlsx:\n",
    "\t##Criando nosso dataframe\n",
    "    df = pd.read_excel(xlsx, 'Counts')\n",
    "\n",
    "## visualizando as linhas iniciais \n",
    "print(df.head(20))"
   ]
  },
  {
   "cell_type": "markdown",
   "metadata": {},
   "source": [
    "- __Avaliando alguns atributos__: vamos ver o tamanho do arquivo de entrada e quais as colunas."
   ]
  },
  {
   "cell_type": "code",
   "execution_count": 37,
   "metadata": {},
   "outputs": [
    {
     "name": "stdout",
     "output_type": "stream",
     "text": [
      "Quais são as colunas?\n",
      "Index(['gene', 'Rep1_CondA_Counts', 'Rep2_CondA_Counts', 'Rep1_CondB_Counts',\n",
      "       'Rep2_CondB_Counts'],\n",
      "      dtype='object')\n",
      "Qual o tamanho deste arquivo:\n",
      "(15738, 5)\n"
     ]
    }
   ],
   "source": [
    "print(\"Quais são as colunas?\")\n",
    "print(df.columns)\n",
    "\n",
    "print(\"Qual o tamanho deste arquivo:\")\n",
    "print(df.shape)"
   ]
  },
  {
   "cell_type": "markdown",
   "metadata": {},
   "source": [
    "- __Criando os fatores de normalização__:"
   ]
  },
  {
   "cell_type": "code",
   "execution_count": 38,
   "metadata": {},
   "outputs": [
    {
     "name": "stdout",
     "output_type": "stream",
     "text": [
      "0.04974069429951249\n",
      "0.07240315932633784\n",
      "0.12512272975755093\n",
      "0.17010523049769047\n"
     ]
    }
   ],
   "source": [
    "fatorNormalizacao_Rep1_CondA = 10**6/df['Rep1_CondA_Counts'].sum()\n",
    "fatorNormalizacao_Rep2_CondA = 10**6/df['Rep2_CondA_Counts'].sum()\n",
    "fatorNormalizacao_Rep1_CondB = 10**6/df['Rep1_CondB_Counts'].sum()\n",
    "fatorNormalizacao_Rep2_CondB = 10**6/df['Rep2_CondB_Counts'].sum()\n",
    "\n",
    "print(fatorNormalizacao_Rep1_CondA)\n",
    "print(fatorNormalizacao_Rep2_CondA)\n",
    "print(fatorNormalizacao_Rep1_CondB)\n",
    "print(fatorNormalizacao_Rep2_CondB)"
   ]
  },
  {
   "cell_type": "markdown",
   "metadata": {},
   "source": [
    "- __Normalizando os dados__: vamos criar um novo dataframe com os valores de expressão normalizados."
   ]
  },
  {
   "cell_type": "code",
   "execution_count": 39,
   "metadata": {},
   "outputs": [],
   "source": [
    "## criando um dict\n",
    "data_normalizado = {\n",
    "    'gene' : df['gene'],\n",
    "    'Rep1_CondA_CPM': df['Rep1_CondA_Counts']*fatorNormalizacao_Rep1_CondA,\n",
    "    'Rep2_CondA_CPM': df['Rep2_CondA_Counts']*fatorNormalizacao_Rep2_CondA,\n",
    "    'Rep1_CondB_CPM': df['Rep1_CondB_Counts']*fatorNormalizacao_Rep1_CondB,\n",
    "    'Rep2_CondB_CPM': df['Rep2_CondB_Counts']*fatorNormalizacao_Rep2_CondB\n",
    "}\n",
    "\n",
    "## criando dataframe a partir do dict\n",
    "df_normalizado = pd.DataFrame(data_normalizado, \n",
    "                              columns=['gene','Rep1_CondA_CPM','Rep2_CondA_CPM','Rep1_CondB_CPM','Rep2_CondB_CPM'])"
   ]
  },
  {
   "cell_type": "markdown",
   "metadata": {},
   "source": [
    "- Podemos agora fazer alguns questionamentos sobre o intervalo de valores armazenados:"
   ]
  },
  {
   "cell_type": "code",
   "execution_count": 41,
   "metadata": {},
   "outputs": [
    {
     "name": "stdout",
     "output_type": "stream",
     "text": [
      "Maior valor expressão por réplica antes da normalização:\n",
      "Rep1_CondB_Counts    244706\n",
      "Rep1_CondA_Counts    215339\n",
      "Rep2_CondA_Counts    159958\n",
      "Rep2_CondB_Counts    149660\n",
      "dtype: int64\n",
      "Maior de valor expressão por réplica depois da normalização:\n",
      "Rep1_CondB_CPM    30618.282708\n",
      "Rep2_CondB_CPM    25457.948796\n",
      "Rep2_CondA_CPM    11581.464560\n",
      "Rep1_CondA_CPM    10711.111370\n",
      "dtype: float64\n"
     ]
    }
   ],
   "source": [
    "print(\"Maior valor expressão por réplica antes da normalização:\")\n",
    "print(df.max(numeric_only=True).sort_values(ascending=False))\n",
    "\n",
    "print(\"Maior de valor expressão por réplica depois da normalização:\")\n",
    "print(df_normalizado.max(numeric_only=True).sort_values(ascending=False))"
   ]
  },
  {
   "cell_type": "markdown",
   "metadata": {},
   "source": [
    "- __Juntando dataframes__: em vez de manter dois dataframes com valores quase idênticos, vamos juntar os dados não-normalizados e normalizados em um único dataframe e salvar como planilha."
   ]
  },
  {
   "cell_type": "code",
   "execution_count": 42,
   "metadata": {},
   "outputs": [
    {
     "name": "stdout",
     "output_type": "stream",
     "text": [
      "         gene  Rep1_CondA_Counts  Rep2_CondA_Counts  Rep1_CondB_Counts  \\\n",
      "0  RPRC000679                871                432                211   \n",
      "1  RPRC003242               3203               2959               1412   \n",
      "2  RPRC003262                130                 98                 12   \n",
      "3  RPRC003241               1067                832                257   \n",
      "4  RPRC003252               1836               1236                883   \n",
      "\n",
      "   Rep2_CondB_Counts  Rep1_CondA_CPM  Rep2_CondA_CPM  Rep1_CondB_CPM  \\\n",
      "0                151       43.324145       31.278165       26.400896   \n",
      "1               1252      159.319444      214.240948      176.673294   \n",
      "2                  5        6.466290        7.095510        1.501473   \n",
      "3                289       53.073321       60.239429       32.156542   \n",
      "4                547       91.323915       89.490305      110.483370   \n",
      "\n",
      "   Rep2_CondB_CPM  \n",
      "0       25.685890  \n",
      "1      212.971749  \n",
      "2        0.850526  \n",
      "3       49.160412  \n",
      "4       93.047561  \n"
     ]
    }
   ],
   "source": [
    "df_final = pd.merge(df,df_normalizado)\n",
    "print(df_final.head())\n",
    "\n",
    "df_final.to_excel(\"quantificao_normalizada.xlsx\",sheet_name=\"CPM\")"
   ]
  },
  {
   "cell_type": "markdown",
   "metadata": {},
   "source": [
    "## Visualização dos dados\n",
    "\n",
    "- Vamos criar um histograma dos valores de CPM para replica 1 na condicao A usando Plot de dataframe"
   ]
  },
  {
   "cell_type": "code",
   "execution_count": 43,
   "metadata": {},
   "outputs": [
    {
     "data": {
      "image/png": "[encoded data removed]",
      "text/plain": [
       "<Figure size 432x288 with 1 Axes>"
      ]
     },
     "metadata": {
      "needs_background": "light"
     },
     "output_type": "display_data"
    }
   ],
   "source": [
    "plot1 = df_normalizado[\"Rep1_CondA_CPM\"].plot.hist(bottom=0.1)\n",
    "\n",
    "## Configurando o plot\n",
    "plot1.set_yscale(\"log\")\n",
    "plot1.set_xlabel(\"CPM\")\n",
    "plot1.set_ylabel(\"Número de genes\")\n",
    "plot1.set_title(\"Réplica 1 Condição A - CPM\")\n",
    "\n",
    "## salvando a figura como pdf\n",
    "figure1 = plot1.get_figure()\n",
    "figure1.savefig(\"rep1_condA_cpm.pdf\")"
   ]
  },
  {
   "cell_type": "markdown",
   "metadata": {},
   "source": [
    "- Vamos comparar os histogramas de duas réplicas:"
   ]
  },
  {
   "cell_type": "code",
   "execution_count": 44,
   "metadata": {},
   "outputs": [
    {
     "data": {
      "image/png": "[encoded data removed]",
      "text/plain": [
       "<Figure size 432x288 with 1 Axes>"
      ]
     },
     "metadata": {
      "needs_background": "light"
     },
     "output_type": "display_data"
    }
   ],
   "source": [
    "### subplot cria uma figura (fig) com um plot (plot2)\n",
    "fig,plot2 = plt.subplots()\n",
    "\n",
    "plot2.hist([df_normalizado['Rep1_CondA_CPM'],df_normalizado['Rep2_CondA_CPM']], bottom=0.1, label=['Réplica 1','Réplica 2'])\n",
    "\n",
    "## configurando detalhes\n",
    "plot2.set_xlabel(\"CPM\")\n",
    "plot2.set_yscale(\"log\")\n",
    "plot2.set_ylabel(\"Número de genes\")\n",
    "plot2.set_title(\"Condição A - CPM\")\n",
    "plot2.legend(loc='upper right')\n",
    "figure2 = plot2.get_figure()\n",
    "\n",
    "figure2.savefig(\"rep1_vs_rep2_condA_cpm.pdf\")"
   ]
  },
  {
   "cell_type": "markdown",
   "metadata": {},
   "source": [
    "- A partir do último gráfico, observamos alguns _outliers_.\n",
    "- __Outliers__: é uma observação que se encontra a uma distância anormal de outros valores em uma amostra aleatória de uma população.\n",
    "- __Quem são os outliers?__:"
   ]
  },
  {
   "cell_type": "code",
   "execution_count": 45,
   "metadata": {},
   "outputs": [
    {
     "name": "stdout",
     "output_type": "stream",
     "text": [
      "             gene  Rep1_CondA_CPM  Rep2_CondA_CPM  Rep1_CondB_CPM  \\\n",
      "4772   RPRC011567    10451.116761     9778.263876     8711.920305   \n",
      "8769   RPRC015041    10711.111370     9759.945877     3339.400534   \n",
      "13838  RPRC004310    10053.887576    11581.464560     7211.198284   \n",
      "\n",
      "       Rep2_CondB_CPM  \n",
      "4772      7398.556895  \n",
      "8769      4211.125086  \n",
      "13838     7443.124466  \n"
     ]
    }
   ],
   "source": [
    "## Quem são os genes com CPM > 7.000 nas réplicas 1 e 2 da condição A?\n",
    "\n",
    "print(df_normalizado[(df_normalizado['Rep1_CondA_CPM'] > 7000) | (df_normalizado['Rep2_CondA_CPM'] > 7000)])\n",
    "\n",
    "### dataframe[condição]"
   ]
  },
  {
   "cell_type": "markdown",
   "metadata": {},
   "source": [
    "- __Importante__: Operadores lógicos possuem representações distintas quando aplicados a valores boleanos e séries/dataframes:\n",
    "\n",
    "| Operador lógico | Python sobre valores booleanos | pandas sobre séries e dataframes |\n",
    "| --- | --- | --- |\n",
    "| E (conjunção) | and | & |\n",
    "| OU (disjunção) | or | \\| |\n"
   ]
  },
  {
   "cell_type": "code",
   "execution_count": null,
   "metadata": {},
   "outputs": [],
   "source": []
  },
  {
   "cell_type": "markdown",
   "metadata": {},
   "source": [
    "Segundo o VectorBase(vectorbase.org):\n",
    "- RPRC011567:Putative alpha-crystallin protein\n",
    "- RPRC015041: Elongation factor 1-alpha\n",
    "- RPRC004310: produto não caracterizado\n",
    "- __Não sabemos nada sobre as condições A e B__\n",
    "- __Não sabemos nada sobre as réplicas 1 e 2__\n",
    "- __Nada podemos dizer__\n",
    "\n",
    "\n"
   ]
  },
  {
   "cell_type": "markdown",
   "metadata": {},
   "source": [
    "## Considerações\n",
    "\n",
    "- Diversas bibliotecas são implementadas para facilitar operações e análises com dados tabulares;\n",
    "- pandas implementa abstrações que facilitam o tratamento e manipulação de dados.\n",
    "- Apenas com uma visão superficial de suas funcionalidades básicas já podemos projetar diferentes aplicações!"
   ]
  },
  {
   "cell_type": "code",
   "execution_count": null,
   "metadata": {},
   "outputs": [],
   "source": []
  }
 ],
 "metadata": {
  "kernelspec": {
   "display_name": "Python 3",
   "language": "python",
   "name": "python3"
  },
  "language_info": {
   "codemirror_mode": {
    "name": "ipython",
    "version": 3
   },
   "file_extension": ".py",
   "mimetype": "text/x-python",
   "name": "python",
   "nbconvert_exporter": "python",
   "pygments_lexer": "ipython3",
   "version": "3.8.3"
  }
 },
 "nbformat": 4,
 "nbformat_minor": 4
}
