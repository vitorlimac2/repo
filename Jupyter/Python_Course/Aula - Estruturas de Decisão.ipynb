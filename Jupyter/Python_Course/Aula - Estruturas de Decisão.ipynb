{
 "cells": [
  {
   "cell_type": "markdown",
   "metadata": {},
   "source": [
    "# Estruturas de Decisão\n",
    "- Estruturas de decisão são usadas para decidir que instrução(ões) executar em um dado trecho de código com base no teste de uma ou mais condições.\n",
    "- Tomamos decisões sobre o que fazer o tempo todo na nossa vida:\n",
    "\n",
    "<span style=\"color:red\">Me preparo para sair de casa</span>\n",
    "<br>\n",
    "<span style=\"color:blue\">Se</span><span style=\"color:purple\"> está com “cara” que vai chover:</span>\n",
    "<br>\n",
    "&emsp;<span style=\"color:red\">Levo o guarda-chuva</span>\n",
    "<br>\n",
    "<span style=\"color:blue\">Senão se</span><span style=\"color:purple\"> está fazendo muito sol:</span>\n",
    "<br>\n",
    "&emsp;<span style=\"color:red\">Eu levo o óculos escuros</span>\n",
    "<br>\n",
    "<span style=\"color:blue\">Senão</span>\n",
    "<br>\n",
    "&emsp;<span style=\"color:red\">Levo os dois para garantir.</span>"
   ]
  },
  {
   "cell_type": "markdown",
   "metadata": {},
   "source": [
    "> <span style=\"color:red\">Ação, instrução ou comando</span> <br>\n",
    "> <span style=\"color:purple\">Condição</span> <br>\n",
    "> <span style=\"color:blue\">Estrutura de decisão</span> <br>"
   ]
  },
  {
   "cell_type": "markdown",
   "metadata": {},
   "source": [
    "- Uma possível \"tradução\" do algoritmo anterior para um código em Python, seria:\n",
    "\n",
    "<span style=\"color:red\">prepararSairDeCasa()</span>\n",
    "<br>\n",
    "    <span style=\"color:blue\">if</span><span style=\"color:purple\"> estaComCaraVaiChover():</span>\n",
    "<br>\n",
    "&emsp;<span style=\"color:red\">levarGuardaChuva()</span>\n",
    "<br>\n",
    "<span style=\"color:blue\">elif</span><span style=\"color:purple\"> estaFazendoMuitoSol()</span>\n",
    "<br>\n",
    "&emsp;<span style=\"color:red\">levarOculosEscuros()</span>\n",
    "<br>\n",
    "<span style=\"color:blue\">else:</span>\n",
    "<br>\n",
    "&emsp;<span style=\"color:red\">levarGuardaChuva()</span><br>\n",
    "&emsp;<span style=\"color:red\">levarOculosEscuros()</span>"
   ]
  },
  {
   "cell_type": "markdown",
   "metadata": {},
   "source": [
    "❓ Quais seriam os valores possíveis retornados pelas as funções estaComCaraVaiChover() e estaFazendoMuitoSol()?"
   ]
  },
  {
   "cell_type": "markdown",
   "metadata": {},
   "source": [
    "***\n",
    "\n",
    "## Bloco da estrutura de decisão __if__\n",
    "\n",
    "> if <condição 1>: <br>\n",
    ">\t&emsp; <bloco executado caso condição 1 seja verdadeira><br>\n",
    "\n",
    "<br>\n",
    "\n",
    "> if <condição 1>:<br>\n",
    ">\t&emsp;<bloco executado caso condição 1 seja verdadeira><br>\n",
    ">else:<br>\n",
    ">\t&emsp;<bloco executado caso condição 1 seja falsa><br>\n",
    "\n",
    "<br>\n",
    "\n",
    ">if <condição 1>:<br>\n",
    ">\t&emsp;<bloco executado caso condição 1 seja verdadeira><br>\n",
    ">elif <condição 2>:<br>\n",
    ">\t&emsp;<bloco executado caso condição 1 seja falsa e condição 2 seja verdadeira><br>\n",
    ">else:<br>\n",
    ">\t&emsp;<bloco executado caso condição 1 e 2 sejam falsas><br>\n",
    "\n",
    "<br>"
   ]
  },
  {
   "cell_type": "markdown",
   "metadata": {},
   "source": [
    "- Portanto, as estruturas de decisão servem para executar ou não determinadas partes do código.\n",
    " - Se a condição for “verdadeira” execute algo.\n",
    "- Por exemplo:\n"
   ]
  },
  {
   "cell_type": "code",
   "execution_count": null,
   "metadata": {},
   "outputs": [],
   "source": [
    "valor1 = int(input(\"Digite o primeiro valor:\"))"
   ]
  },
  {
   "cell_type": "code",
   "execution_count": null,
   "metadata": {},
   "outputs": [],
   "source": [
    "valor2 = int(input(\"Digite o segundo valor:\"))"
   ]
  },
  {
   "cell_type": "code",
   "execution_count": null,
   "metadata": {
    "scrolled": true
   },
   "outputs": [],
   "source": [
    "if valor1 > valor2:\n",
    "    print(\"O maior valor é %d\" % valor1)\n",
    "elif valor1 < valor2:\n",
    "    print(\"O maior valor é %d\" % valor2)\n",
    "else:\n",
    "    print(valor1)"
   ]
  },
  {
   "cell_type": "markdown",
   "metadata": {},
   "source": [
    "❕ Atentem para o espaçamento à esquerda ou recuo antes da função ``print``. Ele é muito __importante__ para o interpretador do Python! <br>\n",
    "❕ Marca o _início_ e o _fim_ de bloco! (similar as chaves { e } na linguagem C e Java)\n",
    "- Podem ser utilizados múltiplos espaços em branco ou tabulações. \n",
    "- O PEP8 (Python Enhancement Proposals) sugere a utilização de espaços em branco. No entanto, deve-se manter o padrão já adotado em um código.\n",
    "- Python 2 permite usar ambos tipos de espaçamentos em um mesmo código. __Python 3 não!__\n"
   ]
  },
  {
   "cell_type": "markdown",
   "metadata": {},
   "source": [
    "❔ O que aconteceria se ``valor1`` e ``valor2`` fossem iguais?"
   ]
  },
  {
   "cell_type": "markdown",
   "metadata": {},
   "source": [
    "## Mais exemplos\n",
    "\n",
    "(1) Faça um algoritmo para ler duas variáveis inteiras A e B e garantir que A e B fiquem em ordem crescente, ou seja, a variável ``A`` deverá armazenar o menor valor fornecido e a variável ``B`` o maior;"
   ]
  },
  {
   "cell_type": "code",
   "execution_count": null,
   "metadata": {},
   "outputs": [],
   "source": [
    "### Ler dois numeros inteiros e armazenar nas variaveis A e B\n",
    "\n",
    "a = int(input(\"Digite o primeiro valor:\"))\n",
    "b = int(input(\"Digite o segundo valor:\"))\n",
    "\n",
    "## Testar quem é o maior valor\n",
    "## Variavel A tem que armazenar o menor valor\n",
    "## Variable B tem que armazenar o maior valor\n",
    "print(\"Valor de A antes do if = %d\" % a)\n",
    "print(\"Valor de B antes do if = %d\" % b)\n",
    "\n",
    "if a > b:\n",
    "    temporaria = b\n",
    "    b = a\n",
    "    print(\"Valor de A depois da primeira atribuição = %d\" % a)\n",
    "    print(\"Valor de B depois da primeira atribuição = %d\" % b)\n",
    "    \n",
    "    a = temporaria\n",
    "    print(\"Valor de A depois da segunda atribuição atribuição = %d\" % a)\n",
    "    print(\"Valor de B depois da segunda atribuição atribuição = %d\" % b)\n",
    "###  fazer para a < b e a == b\n",
    "\n",
    "print(a,b)"
   ]
  },
  {
   "cell_type": "markdown",
   "metadata": {},
   "source": [
    "(2) Escreva um código em Python que lê porcentagem de receita antigida em um determinado ano pelo ISI e imprima o status da entrega da meta para avaliação. Considere a seguinte tabela:\n",
    "\n",
    "| Porcentagem de receita antigida | Status |\n",
    "| --- | --- | \n",
    "| 0% - 79,99% | Não entregue |\n",
    "|80% - 100% | Entregue |\n",
    "| maior que 100,1% | Excede |"
   ]
  },
  {
   "cell_type": "code",
   "execution_count": 4,
   "metadata": {},
   "outputs": [
    {
     "name": "stdout",
     "output_type": "stream",
     "text": [
      "10\n",
      "Meta = Não entregue\n"
     ]
    }
   ],
   "source": [
    "## ler a porcentagem de receita atingida\n",
    "\n",
    "porc_receita = float(input())\n",
    "\n",
    "if porc_receita >= 0 and porc_receita < 80:\n",
    "    status = \"Não entregue\"\n",
    "elif porc_receita >= 80 and porc_receita <= 100:\n",
    "    status = \"Entregue\"\n",
    "elif porc_receita >= 100.1:\n",
    "    status = \"Excede\"\n",
    "    \n",
    "print(\"Meta = %s\" % status)"
   ]
  },
  {
   "cell_type": "code",
   "execution_count": null,
   "metadata": {},
   "outputs": [],
   "source": []
  }
 ],
 "metadata": {
  "kernelspec": {
   "display_name": "Python 3",
   "language": "python",
   "name": "python3"
  },
  "language_info": {
   "codemirror_mode": {
    "name": "ipython",
    "version": 3
   },
   "file_extension": ".py",
   "mimetype": "text/x-python",
   "name": "python",
   "nbconvert_exporter": "python",
   "pygments_lexer": "ipython3",
   "version": "3.8.3"
  }
 },
 "nbformat": 4,
 "nbformat_minor": 4
}
