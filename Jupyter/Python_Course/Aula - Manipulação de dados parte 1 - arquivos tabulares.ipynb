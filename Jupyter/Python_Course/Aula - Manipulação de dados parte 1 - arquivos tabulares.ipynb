{
 "cells": [
  {
   "cell_type": "markdown",
   "metadata": {},
   "source": [
    "# Manipulação de Dados - parte I"
   ]
  },
  {
   "cell_type": "markdown",
   "metadata": {},
   "source": [
    "## Introdução\n",
    "\n",
    "- Popularização da utilização de tecnologias de alto rendimento (ou high-throughput) pelo setor público e privado acelerou o ritmo de geração de dados biológicos e desenvolvimento de novas aplicações tecnológicas e científicas: \n",
    " - Exemplo: Sequenciadores de DNA de segunda e terceira geração;\n",
    " - Aplicações: Interações proteína-proteína, sequências de genes, redes de co-expressão gênica e sequências de proteínas.\n",
    " \n",
    "- Manipulação de dados biológicos envolve questões de: \n",
    " - Armazenamento, segurança e recuperação de dados;\n",
    " - Conversão de formato de dados;\n",
    " - Algoritmos para processamento dos dados;\n",
    " - Métodos de saída e visualização."
   ]
  },
  {
   "cell_type": "markdown",
   "metadata": {},
   "source": [
    "<img src=\"Figura 1.jpg\">\n",
    "\n",
    "__Figura 1__: Sequenciadores da série HiSeqX à direita: produzem até 2 TB por corrida. Cada corrida dura aproximadamente 3 dias e produz aproximadamente 5 bilhões de sequências por corrida. À esquerda, representação gráfica de uma rede de co-expressão."
   ]
  },
  {
   "cell_type": "markdown",
   "metadata": {},
   "source": [
    "- Toda esta informação produzida em larga escala é representada nos mais diversos tipos de arquivos, preferencialmente, seguindo formatos padronizados que permitem o compartilhamento e manipulação eficientes. Por exemplo:\n",
    " - Arquivos do processador de planilhas Excel;\n",
    " - Arquivos com dados tabulares separados por vírgulas, tabulação, etc.\n",
    " - Formato FASTA para sequências biológicas;\n",
    " - Formato SAM/BAM para armazenameno de informação de mapeamento genômico de sequências;\n",
    " - Formato VCF para armazenar informações sobre variantes genômicas;\n",
    " - Arquivos PSF para armazenar informações específicas de moléculas para reconstrução in silico de estrutura de proteínas; \n",
    " - Entre diversos outros formatos..."
   ]
  },
  {
   "cell_type": "markdown",
   "metadata": {},
   "source": [
    "# Manipulando arquivos separados por vírgulas (CSV)\n",
    "\n",
    "- Como citado anteriormente, um tipo bem comum de arquivo para armazenar valores são arquivos do formato _x-separated values_. Onde x pode ser vírgula (.csv), tabulação (.tsv), espaço em branco, etc.\n",
    "- Às vezes a extensão .csv é usado nos arquivos tanto para vírgulas separadoras quanto espaços em branco.\n",
    "- Existem diversas bibliotecas otimizadas para manipulação de arquivos nos mais variados formatos e aplicações;\n",
    "- No entanto, vamos primeiramente exercitar as instruções básicas de Python com um exemplo prático para ler, escrever, consultar e alterar um arquivo no formato CSV."
   ]
  },
  {
   "cell_type": "markdown",
   "metadata": {},
   "source": [
    "## Exemplo 1\n",
    "\n",
    "- Primeiramente, baixe o arquivo covid_cases_23_01_2021.csv (o arquivo deve ser salvo no mesmo diretório ou pasta deste notebook).\n",
    "- Estes dados foram extraídos do https://www.worldometers.info/coronavirus/ que registra dados diários sobre COVID-19 ao redor do mundo.\n",
    "- Vamos inspecionar o conteúdo deste arquivo:\n",
    "\n",
    "\n",
    "``\n",
    "#,Country,Total_cases,Total_deaths,Total_recovered,Population\n",
    "1,USA,25561521,427588,15326868,332097997\n",
    "2,India,10655435,153376,10316096,1387641848\n",
    "3,Brazil,8816254,216475,7628438,213411432\n",
    "...\n",
    "7,Spain,2603472,55441,N/A,46765031\n",
    "8,Italy,2455185,85162,1871189,60411435\n",
    "9,Turkey,2424328,24933,2301861,84849626\n",
    "``\n",
    "- Podemos observar que a primeira linha do arquivo contém o cabeçalho do arquivo, ou seja, o nome dos atributos.\n",
    "- As linhas seguintes são os registros.\n",
    "- Em seguida, vamos abrir o arquivo usando a função ``open``:"
   ]
  },
  {
   "cell_type": "code",
   "execution_count": 9,
   "metadata": {},
   "outputs": [],
   "source": [
    "refArquivoEntrada = open(\"covid_cases_23_01_2021.csv\")"
   ]
  },
  {
   "cell_type": "markdown",
   "metadata": {},
   "source": [
    "- Agora vamos usar o método ``readline`` para ler a primeira linha reference ao cabeçalho do arquivo:"
   ]
  },
  {
   "cell_type": "code",
   "execution_count": 10,
   "metadata": {},
   "outputs": [
    {
     "data": {
      "text/plain": [
       "'#,Country,Total_cases,Total_deaths,Total_recovered,Population\\n'"
      ]
     },
     "execution_count": 10,
     "metadata": {},
     "output_type": "execute_result"
    }
   ],
   "source": [
    "refArquivoEntrada.readline()"
   ]
  },
  {
   "cell_type": "markdown",
   "metadata": {},
   "source": [
    "- O método ``readline`` retorna uma string referente à uma linha do arquivo acrescido de um símbolo especial no fim da linha. Vocês lembram o que significa ``\\n``?\n",
    "- __Atenção__: toda vez que o comando acima é executado, uma nova linha é lida. Caso queira voltar para a primeira linha do arquivo no ambiente do Jupyter, basta executar novamente o comando ``refArquivoEntrada = open(\"species.csv\")``;"
   ]
  },
  {
   "cell_type": "markdown",
   "metadata": {},
   "source": [
    "- Vamos usar uma estrutura de repetição ``for`` para iterar as linhas do arquivo e o método ``split`` para acessar os campos:"
   ]
  },
  {
   "cell_type": "code",
   "execution_count": 11,
   "metadata": {},
   "outputs": [
    {
     "name": "stdout",
     "output_type": "stream",
     "text": [
      "['1', 'USA', '25561521', '427588', '15326868', '332097997\\n']\n",
      "['2', 'India', '10655435', '153376', '10316096', '1387641848\\n']\n",
      "['3', 'Brazil', '8816254', '216475', '7628438', '213411432\\n']\n",
      "['4', 'Russia', '3698273', '68971', '3109315', '145969890\\n']\n",
      "['5', 'UK', '3617459', '97329', '1616307', '68087328\\n']\n",
      "['6', 'France', '3035181', '72877', '216725', '65355200\\n']\n",
      "['7', 'Spain', '2603472', '55441', 'N/A', '46765031\\n']\n",
      "['8', 'Italy', '2455185', '85162', '1871189', '60411435\\n']\n",
      "['9', 'Turkey', '2424328', '24933', '2301861', '84849626\\n']\n",
      "['10', 'Germany', '2137689', '52536', '1795400', '83935370\\n']\n",
      "['11', 'Colombia', '2002969', '50982', '1822309', '51188022\\n']\n",
      "['12', 'Argentina', '1862192', '46737', '1646668', '45429329\\n']\n",
      "['13', 'Mexico', '1732290', '147614', '1291940', '129694962\\n']\n",
      "['14', 'Poland', '1470879', '35253', '1222782', '37823122\\n']\n",
      "['15', 'South Africa', '1404839', '40574', '1217492', '59728863\\n']\n",
      "['16', 'Iran', '1367032', '57294', '1158475', '84596958\\n']\n",
      "['17', 'Ukraine', '1187897', '21778', '942107', '43584462\\n']\n",
      "['18', 'Peru', '1093938', '39608', '1007748', '33229711\\n']\n",
      "['19', 'Indonesia', '977474', '27664', '791059', '275150984\\n']\n",
      "['20', 'Netherlands', '944042', '13510', 'N/A', '17156315\\n']\n",
      "['21', 'Czechia', '933361', '15270', '808263', '10720220\\n']\n",
      "['22', 'Canada', '742531', '18974', '658984', '37928559\\n']\n",
      "['23', 'Romania', '709194', '17722', '650189', '19164741\\n']\n",
      "['24', 'Chile', '694647', '17854', '649802', '19208645\\n']\n",
      "['25', 'Belgium', '689271', '20675', '47820', '11618113\\n']\n",
      "['26', 'Portugal', '624469', '10194', '451324', '10179844\\n']\n",
      "['27', 'Iraq', '612870', '12988', '579838', '40726276\\n']\n",
      "['28', 'Israel', '593961', '4341', '512932', '9197590\\n']\n",
      "['29', 'Sweden', '547166', '11005', 'N/A', '10134794\\n']\n",
      "['30', 'Bangladesh', '531326', '8003', '475899', '165612917\\n']\n",
      "['31', 'Pakistan', '530818', '11247', '484508', '223291362\\n']\n",
      "['32', 'Philippines', '511679', '10190', '467886', '110400232\\n']\n",
      "['33', 'Switzerland', '509279', '9050', '317600', '8690307\\n']\n",
      "['34', 'Morocco', '465769', '8128', '441693', '37156511\\n']\n",
      "['35', 'Austria', '403512', '7389', '380248', '9035401\\n']\n",
      "['36', 'Serbia', '382285', '3868', '31536', '8717395\\n']\n",
      "['37', 'Saudi Arabia', '366185', '6350', '357728', '35117920\\n']\n",
      "['38', 'Hungary', '358317', '11904', '239880', '9646439\\n']\n",
      "['39', 'Japan', '356074', '4935', '285522', '126256814\\n']\n",
      "['40', 'Jordan', '319519', '4217', '306246', '10260149\\n']\n",
      "['41', 'Panama', '309851', '5034', '256597', '4352853\\n']\n",
      "['42', 'Lebanon', '276587', '2270', '164348', '6808091\\n']\n",
      "['43', 'UAE', '274376', '783', '247318', '9957571\\n']\n",
      "['44', 'Nepal', '269180', '1994', '263734', '29430213\\n']\n",
      "['45', 'Georgia', '252972', '3038', '240629', '3984826\\n']\n",
      "['46', 'Ecuador', '238232', '14596', '199332', '17793334\\n']\n",
      "['47', 'Belarus', '235859', '1639', '220912', '9447562\\n']\n",
      "['48', 'Slovakia', '234571', '3965', '186683', '5461139\\n']\n",
      "['49', 'Azerbaijan', '228688', '3072', '219724', '10190648\\n']\n",
      "['50', 'Croatia', '228568', '4799', '220537', '4090880\\n']\n",
      "['51', 'Bulgaria', '214696', '8811', '178888', '6918698\\n']\n",
      "['52', 'Dominican Republic', '202507', '2513', '147147', '10909138\\n']\n",
      "['53', 'Bolivia', '198257', '9871', '148750', '11762431\\n']\n",
      "['54', 'Tunisia', '195314', '6154', '141862', '11888205\\n']\n",
      "['55', 'Denmark', '193917', '1969', '178967', '5803729\\n']\n",
      "['56', 'Costa Rica', '189308', '2518', '146448', '5120315\\n']\n",
      "['57', 'Ireland', '186184', '2947', '23364', '4968808\\n']\n",
      "['58', 'Malaysia', '180455', '667', '137019', '32598981\\n']\n",
      "['59', 'Lithuania', '175851', '2628', '118893', '2700612\\n']\n",
      "['60', 'Kazakhstan', '175390', '2403', '158647', '18902961\\n']\n",
      "['61', 'Armenia', '165909', '3034', '154535', '2966376\\n']\n",
      "['62', 'Egypt', '161143', '8902', '126176', '103414383\\n']\n",
      "['63', 'Kuwait', '160901', '952', '153746', '4306008\\n']\n",
      "['64', 'Slovenia', '157293', '3329', '135262', '2079100\\n']\n",
      "['65', 'Moldova', '155937', '3347', '146406', '4028647\\n']\n",
      "['66', 'Palestine', '155006', '1783', '144297', '5167567\\n']\n",
      "['67', 'Guatemala', '153890', '5456', '137711', '18101049\\n']\n",
      "['68', 'Greece', '151646', '5622', '139581', '10394142\\n']\n",
      "['69', 'Qatar', '148772', '248', '144740', '2807805\\n']\n",
      "['70', 'Honduras', '139182', '3439', '60410', '9992929\\n']\n",
      "['71', 'Myanmar', '137098', '3045', '121124', '54615532\\n']\n",
      "['72', 'Ethiopia', '133298', '2063', '118730', '116550414\\n']\n",
      "['73', 'Oman', '132486', '1517', '124730', '5178963\\n']\n",
      "['74', 'Paraguay', '127081', '2607', '102344', '7181779\\n']\n",
      "['75', 'Venezuela', '122795', '1136', '114925', '28390239\\n']\n",
      "['76', 'Nigeria', '120602', '1502', '95901', '208986596\\n']\n",
      "['77', 'Bosnia and Herzegovina', '119420', '4555', '90691', '3269222\\n']\n",
      "['78', 'Libya', '112540', '1737', '90952', '6923760\\n']\n",
      "['79', 'Algeria', '105369', '2861', '71755', '44294352\\n']\n",
      "['80', 'Kenya', '99898', '1740', '82936', '54432579\\n']\n",
      "['81', 'Bahrain', '99456', '367', '96112', '1734298\\n']\n",
      "['82', 'North Macedonia', '90471', '2779', '76423', '2083326\\n']\n",
      "['83', 'China', '88911', '4635', '82526', '1439323776\\n']\n",
      "['84', 'Kyrgyzstan', '83796', '1398', '79772', '6584521\\n']\n",
      "['85', 'Uzbekistan', '78317', '621', '76778', '33741419\\n']\n",
      "['86', 'S. Korea', '74692', '1337', '62044', '51294159\\n']\n",
      "['87', 'Albania', '71441', '1310', '43384', '2876016\\n']\n",
      "['88', 'Norway', '60803', '544', '49835', '5445134\\n']\n",
      "['89', 'Latvia', '60496', '1097', '48134', '1874316\\n']\n",
      "['90', 'Ghana', '60115', '361', '56955', '31435360\\n']\n",
      "['91', 'Singapore', '59260', '29', '59015', '5876275\\n']\n",
      "['92', 'Montenegro', '57929', '766', '49150', '628111\\n']\n",
      "['93', 'Sri Lanka', '57587', '280', '49261', '21463968\\n']\n",
      "['94', 'Afghanistan', '54595', '2378', '46943', '39417654\\n']\n",
      "['95', 'El Salvador', '52672', '1551', '46370', '6504683\\n']\n",
      "['96', 'Luxembourg', '49581', '564', '46656', '631686\\n']\n",
      "['97', 'Zambia', '44592', '627', '34293', '18670195\\n']\n",
      "['98', 'Finland', '42334', '644', '31000', '5545590\\n']\n",
      "['99', 'Estonia', '40184', '368', '29747', '1327040\\n']\n",
      "['100', 'Uganda', '39044', '317', '13861', '46542055\\n']\n",
      "['101', 'Uruguay', '36967', '367', '28547', '3480534\\n']\n",
      "['102', 'Namibia', '32213', '317', '29831', '2566666\\n']\n",
      "['103', 'Mozambique', '31628', '297', '20002', '31742268\\n']\n",
      "['104', 'Zimbabwe', '31007', '974', '21377', '14984341\\n']\n",
      "['105', 'Cyprus', '29887', '183', '2057', '1212315\\n']\n",
      "['106', 'Cameroon', '29617', '462', '28045', '26914047\\n']\n",
      "['107', 'Australia', '28762', '909', '25975', '25666242\\n']\n",
      "['108', 'Ivory Coast', '26612', '145', '24595', '26742265\\n']\n",
      "['109', 'Sudan', '26279', '1603', '15688', '44420337\\n']\n",
      "['110', 'Senegal', '24459', '569', '20284', '16989527\\n']\n",
      "['111', 'DRC', '21713', '654', '14903', '91072592\\n']\n",
      "['112', 'Cuba', '20627', '191', '15881', '11322699\\n']\n",
      "['113', 'Botswana', '19654', '105', '15911', '2378171\\n']\n",
      "['114', 'Angola', '19367', '457', '17249', '33433400\\n']\n",
      "['115', 'Madagascar', '18301', '273', '17609', '28087440\\n']\n",
      "['116', 'French Polynesia', '17852', '128', '4842', '281824\\n']\n",
      "['117', 'Malawi', '17365', '445', '6408', '19405200\\n']\n",
      "['118', 'Malta', '16542', '250', '13646', '442208\\n']\n",
      "['119', 'Mauritania', '16357', '416', '15127', '4717689\\n']\n",
      "['120', 'French Guiana', '15664', '76', '9995', '302992\\n']\n",
      "['121', 'Maldives', '14885', '50', '13813', '545876\\n']\n",
      "['122', 'Jamaica', '14772', '336', '11850', '2968467\\n']\n",
      "['123', 'Eswatini', '14330', '458', '9102', '1166924\\n']\n",
      "['124', 'Guinea', '14300', '81', '13632', '13330964\\n']\n",
      "['125', 'Syria', '13557', '879', '6989', '17737638\\n']\n",
      "['126', 'Cabo Verde', '13414', '124', '12646', '559384\\n']\n",
      "['127', 'Tajikistan', '13308', '90', '13218', '9657212\\n']\n",
      "['128', 'Thailand', '13302', '72', '10448', '69899018\\n']\n",
      "['129', 'Rwanda', '12647', '172', '8319', '13131128\\n']\n",
      "['130', 'Belize', '11722', '290', '11050', '401669\\n']\n",
      "['131', 'Haiti', '11099', '243', '8982', '11480655\\n']\n",
      "['132', 'Gabon', '10278', '67', '9902', '2255023\\n']\n",
      "['133', 'Hong Kong', '10010', '168', '8997', '7531257\\n']\n",
      "['134', 'Burkina Faso', '9967', '109', '7988', '21222074\\n']\n",
      "['135', 'Réunion', '9701', '45', '9261', '898915\\n']\n",
      "['136', 'Andorra', '9499', '96', '8588', '77335\\n']\n",
      "['137', 'Guadeloupe', '8980', '154', '2242', '400163\\n']\n",
      "['138', 'Bahamas', '8101', '175', '6720', '395360\\n']\n",
      "['139', 'Suriname', '8000', '148', '7139', '589592\\n']\n",
      "['140', 'Mali', '7965', '323', '5705', '20574930\\n']\n",
      "['141', 'Congo', '7794', '117', '5846', '5593780\\n']\n",
      "['142', 'Lesotho', '7656', '123', '2168', '2151820\\n']\n",
      "['143', 'Trinidad and Tobago', '7462', '134', '7002', '1402050\\n']\n",
      "['144', 'Mayotte', '7250', '58', '2964', '276485\\n']\n",
      "['145', 'Guyana', '7222', '170', '6361', '788695\\n']\n",
      "['146', 'Aruba', '6708', '56', '6172', '107022\\n']\n",
      "['147', 'Martinique', '6327', '44', '98', '375100\\n']\n",
      "['148', 'Nicaragua', '6204', '168', '4225', '6668861\\n']\n",
      "['149', 'Iceland', '5981', '29', '5868', '342492\\n']\n",
      "['150', 'Djibouti', '5918', '61', '5837', '996063\\n']\n",
      "['151', 'Equatorial Guinea', '5401', '86', '5197', '1428522\\n']\n",
      "['152', 'CAR', '4974', '63', '4885', '4876801\\n']\n",
      "['153', 'Somalia', '4754', '130', '3666', '16139757\\n']\n",
      "['154', 'Togo', '4636', '74', '3976', '8386946\\n']\n",
      "['155', 'Curaçao', '4543', '20', '4419', '164472\\n']\n",
      "['156', 'Niger', '4321', '151', '3436', '24690917\\n']\n",
      "['157', 'Gambia', '3958', '128', '3703', '2454412\\n']\n",
      "['158', 'Gibraltar', '3935', '62', '3194', '33685\\n']\n",
      "['159', 'South Sudan', '3788', '64', '3542', '11267510\\n']\n",
      "['160', 'Benin', '3643', '48', '3317', '12299967\\n']\n",
      "['161', 'Channel Islands', '3430', '79', '3186', '174765\\n']\n",
      "['162', 'Chad', '3137', '115', '2240', '16687780\\n']\n",
      "['163', 'Sierra Leone', '3120', '77', '2187', '8067658\\n']\n",
      "['164', 'San Marino', '2874', '65', '2615', '33971\\n']\n",
      "['165', 'Guinea-Bissau', '2510', '45', '2405', '1993941\\n']\n",
      "['166', 'Liechtenstein', '2437', '52', '2322', '38190\\n']\n",
      "['167', 'New Zealand', '2276', '25', '2178', '5002100\\n']\n",
      "['168', 'Comoros', '2260', '70', '1315', '879948\\n']\n",
      "['169', 'Yemen', '2118', '615', '1423', '30192717\\n']\n",
      "['170', 'Eritrea', '1940', '6', '1304', '3573978\\n']\n",
      "['171', 'Liberia', '1914', '84', '1714', '5123981\\n']\n",
      "['172', 'Sint Maarten', '1724', '27', '1564', '43150\\n']\n",
      "['173', 'Mongolia', '1611', '2', '1125', '3307885\\n']\n",
      "['174', 'Vietnam', '1548', '35', '1411', '97831852\\n']\n",
      "['175', 'Burundi', '1380', '2', '773', '12087422\\n']\n",
      "['176', 'Monaco', '1345', '9', '1100', '39399\\n']\n",
      "['177', 'Barbados', '1341', '9', '622', '287574\\n']\n",
      "['178', 'Turks and Caicos', '1244', '7', '960', '39011\\n']\n",
      "['179', 'Sao Tome and Principe', '1188', '17', '997', '221437\\n']\n",
      "['180', 'Saint Martin', '1146', '12', '1006', '39035\\n']\n",
      "['181', 'Seychelles', '972', '3', '681', '98691\\n']\n",
      "['182', 'Taiwan', '884', '7', '783', '23841161\\n']\n",
      "['183', 'Bhutan', '854', '1', '702', '776387\\n']\n",
      "['184', 'Papua New Guinea', '835', '9', '790', '9041850\\n']\n",
      "['185', 'Saint Lucia', '770', '10', '412', '184101\\n']\n",
      "['186', 'St. Vincent Grenadines', '720', '2', '134', '111139\\n']\n",
      "['187', 'Diamond Princess', '712', '13', '699', '\\n']\n",
      "['188', 'Bermuda', '686', '12', '625', '62147\\n']\n",
      "['189', 'Faeroe Islands', '652', '1', '644', '48968\\n']\n",
      "['190', 'Mauritius', '556', '10', '518', '1272962\\n']\n",
      "['191', 'Tanzania', '509', '21', '183', '60679823\\n']\n",
      "['192', 'Cambodia', '456', '', '403', '16848873\\n']\n",
      "['193', 'Isle of Man', '432', '25', '364', '85287\\n']\n",
      "['194', 'Cayman Islands', '383', '2', '346', '66156\\n']\n",
      "['195', 'Caribbean Netherlands', '360', '3', '244', '26360\\n']\n",
      "['196', 'St. Barth', '300', '1', '204', '9894\\n']\n",
      "['197', 'Antigua and Barbuda', '195', '6', '162', '98386\\n']\n",
      "['198', 'Brunei', '175', '3', '169', '439837\\n']\n",
      "['199', 'Grenada', '139', '1', '129', '112817\\n']\n",
      "['200', 'British Virgin Islands', '114', '1', '95', '30344\\n']\n",
      "['201', 'Dominica', '113', '', '105', '72087\\n']\n",
      "['202', 'Timor-Leste', '64', '', '49', '1332494\\n']\n",
      "['203', 'Fiji', '55', '2', '53', '900108\\n']\n",
      "['204', 'Macao', '47', '', '46', '654305\\n']\n",
      "['205', 'New Caledonia', '44', '', '43', '287043\\n']\n",
      "['206', 'Laos', '41', '', '41', '7334808\\n']\n",
      "['207', 'Falkland Islands', '35', '', '29', '3536\\n']\n",
      "['208', 'Saint Kitts and Nevis', '35', '', '33', '53411\\n']\n",
      "['209', 'Greenland', '30', '', '30', '56826\\n']\n",
      "['210', 'Vatican City', '27', '', '15', '802\\n']\n",
      "['211', 'Solomon Islands', '17', '', '10', '696272\\n']\n",
      "['212', 'Saint Pierre Miquelon', '16', '', '16', '5778\\n']\n",
      "['213', 'Anguilla', '15', '', '15', '15078\\n']\n",
      "['214', 'Montserrat', '13', '1', '12', '4994\\n']\n",
      "['215', 'Western Sahara', '10', '1', '8', '605524\\n']\n",
      "['216', 'MS Zaandam', '9', '2', '7', '\\n']\n",
      "['217', 'Marshall Islands', '4', '', '4', '59415\\n']\n",
      "['218', 'Wallis and Futuna', '4', '', '4', '11126\\n']\n",
      "['219', 'Samoa', '2', '', '2', '199158\\n']\n",
      "['220', 'Micronesia', '1', '', '', '115701\\n']\n",
      "['221', 'Vanuatu', '1', '', '1', '311148\\n']\n"
     ]
    }
   ],
   "source": [
    "refArquivoEntrada = open(\"covid_cases_23_01_2021.csv\")\n",
    "refArquivoEntrada.readline()\n",
    "for linha in refArquivoEntrada:\n",
    "    data = ...\n",
    "    print(data) \n",
    "\n",
    "refArquivoEntrada.close()\n"
   ]
  },
  {
   "cell_type": "markdown",
   "metadata": {},
   "source": [
    "- O método ``split`` quebra cada string (ou linha) com base no caractere (vírgulta) que separa os atributos de cada registro em uma lista de elementos do tipo string.\n",
    "- Vamos exercitar a manipulação do arquivo CSV:"
   ]
  },
  {
   "cell_type": "markdown",
   "metadata": {},
   "source": [
    "## Imprimir dados dos países do BRICS\n",
    "\n",
    "- Neste exemplo, queremos extrair uma lista de registros dos países Brasil, Rússia, Índia, China e África do Sul. Definimos então nossa lista de \"alvos\":"
   ]
  },
  {
   "cell_type": "code",
   "execution_count": 14,
   "metadata": {},
   "outputs": [],
   "source": [
    "### Brics\n",
    "\n",
    "brics_list = ..."
   ]
  },
  {
   "cell_type": "markdown",
   "metadata": {},
   "source": [
    "- A estrutura ``for`` vai ser modificada para verificar se a segunda coluna reference ao nome do país está dentro da nossa lista de países de interesse usando a condição ``Se país faz parte dos BRICS``"
   ]
  },
  {
   "cell_type": "code",
   "execution_count": 18,
   "metadata": {},
   "outputs": [
    {
     "name": "stdout",
     "output_type": "stream",
     "text": [
      "2,India,10655435,153376,10316096,1387641848\n",
      "3,Brazil,8816254,216475,7628438,213411432\n",
      "4,Russia,3698273,68971,3109315,145969890\n",
      "15,South Africa,1404839,40574,1217492,59728863\n",
      "83,China,88911,4635,82526,1439323776\n"
     ]
    }
   ],
   "source": [
    "refArquivoEntrada = open(\"covid_cases_23_01_2021.csv\")\n",
    "refArquivoEntrada.readline()\n",
    "for linha in refArquivoEntrada:\n",
    "    data = linha.split(\",\")\n",
    "    if ...:\n",
    "        print (\",\".join(data).rstrip())\n",
    "\n",
    "refArquivoEntrada.close()"
   ]
  },
  {
   "cell_type": "markdown",
   "metadata": {},
   "source": [
    "- O comando ``\",\".join(data)`` converte a lista em string separando cada campo por uma vírgula. O que faz o método ``rstrip``?"
   ]
  },
  {
   "cell_type": "markdown",
   "metadata": {},
   "source": [
    "## Casos totais de COVID nos BRICS\n",
    "\n",
    "- Para realização de cálculos em cima do nosso arquivo, devemos fazer as conversões dos campos no formato de string para numérico. \n",
    "- Para facilitar o acesso aos diferentes atributos, vamos definir algumas constantes com o valor do índice de cada valor armazenado na lista de valores retornado pelo método ``split``."
   ]
  },
  {
   "cell_type": "code",
   "execution_count": null,
   "metadata": {},
   "outputs": [],
   "source": [
    "## total de casos nos brics\n",
    "\n",
    "PAIS = ...\n",
    "TOTAL_CASES = ...\n",
    "TOTAL_DEATHS = ...\n",
    "TOTAL_RECOVERED = ...\n",
    "POPULATION = ..."
   ]
  },
  {
   "cell_type": "markdown",
   "metadata": {},
   "source": [
    "- Em seguida, somamos o total de casos de cada país do BRICS e imprimimos no final: "
   ]
  },
  {
   "cell_type": "code",
   "execution_count": 19,
   "metadata": {},
   "outputs": [
    {
     "name": "stdout",
     "output_type": "stream",
     "text": [
      "Casos totais do BRICS = 24663712\n"
     ]
    }
   ],
   "source": [
    "refArquivoEntrada = open(\"covid_cases_23_01_2021.csv\")\n",
    "refArquivoEntrada.readline()\n",
    "\n",
    "casos_totais = 0\n",
    "\n",
    "for linha in refArquivoEntrada:\n",
    "    data = linha.split(\",\")\n",
    "    if data[1] in brics_list:\n",
    "        ...\n",
    "    \n",
    "print(\"Casos totais do BRICS = {}\".format(casos_totais))\n",
    "refArquivoEntrada.close()\n",
    "\n"
   ]
  },
  {
   "cell_type": "markdown",
   "metadata": {},
   "source": [
    "## Taxa de recuperação dos casos de COVID\n",
    "\n",
    "- No exemplo abaixo, vamos calcular a taxa de recuperação, isto é, a quantidade de casos recuperados dividido pelo total de casos.\n",
    "- Vamos converter os dois campos referentes aos valores de interesse e imprimir juntamente com o nome do país:"
   ]
  },
  {
   "cell_type": "code",
   "execution_count": 22,
   "metadata": {},
   "outputs": [
    {
     "name": "stdout",
     "output_type": "stream",
     "text": [
      "India 0.9681534353125893\n",
      "Brazil 0.8652697619646621\n",
      "Russia 0.8407478301358499\n",
      "South Africa 0.8666416578696918\n",
      "China 0.928186613579872\n",
      "Casos totais do BRICS = 0\n"
     ]
    }
   ],
   "source": [
    "## taxa de recuperaçao\n",
    "PAIS = 1\n",
    "TOTAL_CASES = 2\n",
    "TOTAL_DEATHS = 3\n",
    "TOTAL_RECOVERED = 4\n",
    "POPULATION = 5\n",
    "\n",
    "refArquivoEntrada = open(\"covid_cases_23_01_2021.csv\")\n",
    "refArquivoEntrada.readline()\n",
    "\n",
    "casos_totais = 0\n",
    "\n",
    "## taxa de recuperacao = taxa de recuperarados / numero total de casos\n",
    "for linha in refArquivoEntrada:\n",
    "    data = linha.split(\",\")\n",
    "    if data[PAIS] in brics_list:\n",
    "        taxa_recuperacao = ...\n",
    "        print(\"%s %.3f\" % ...)\n",
    "\n",
    "refArquivoEntrada.close()\n"
   ]
  },
  {
   "cell_type": "markdown",
   "metadata": {},
   "source": [
    "## Percentual de casos por total da população\n",
    "\n",
    "- Por fim, vamos calcular o percentual de casos por número total de habitantes:"
   ]
  },
  {
   "cell_type": "code",
   "execution_count": 23,
   "metadata": {},
   "outputs": [
    {
     "name": "stdout",
     "output_type": "stream",
     "text": [
      "India 0.7678807766829471\n",
      "Brazil 4.131106715970117\n",
      "Russia 2.533586207402088\n",
      "South Africa 2.352027025861852\n",
      "China 0.006177275848738568\n"
     ]
    }
   ],
   "source": [
    "## percentual de casos por total da populacao\n",
    "\n",
    "PAIS = 1\n",
    "TOTAL_CASES = 2\n",
    "TOTAL_DEATHS = 3\n",
    "TOTAL_RECOVERED = 4\n",
    "POPULATION = 5\n",
    "\n",
    "refArquivoEntrada = open(\"covid_cases_23_01_2021.csv\")\n",
    "refArquivoEntrada.readline()\n",
    "\n",
    "casos_totais = 0\n",
    "\n",
    "## percentual de casos = total de casos / total de habitantes\n",
    "for linha in refArquivoEntrada:\n",
    "    data = linha.split(\",\")\n",
    "    if data[PAIS] in brics_list:\n",
    "        perc_casos = ...\n",
    "        print(...)\n",
    "\n",
    "refArquivoEntrada.close()"
   ]
  },
  {
   "cell_type": "markdown",
   "metadata": {},
   "source": [
    "## Escrevendo arquivo\n",
    "\n",
    "- Para finalizar, vamos criar um arquivo CSV que armazena para cada país do BRICS somente o nome, número total de casos, número total de casos recuperados, o percentual de recuperação e o percentual de casos por total da população.\n",
    "- Para escrever nosso resultado, vamos criar um arquivo de saída denominado ``refArquivoSaida``;"
   ]
  },
  {
   "cell_type": "code",
   "execution_count": 30,
   "metadata": {},
   "outputs": [],
   "source": [
    "\n",
    "PAIS = 1\n",
    "TOTAL_CASES = 2\n",
    "TOTAL_DEATHS = 3\n",
    "TOTAL_RECOVERED = 4\n",
    "POPULATION = 5\n",
    "\n",
    "refArquivoEntrada = open(\"covid_cases_23_01_2021.csv\")\n",
    "refArquivoEntrada.readline()\n",
    "\n",
    "# refArquivoSaida = open(\"brics_covid_cases_23_01_2021.csv\", 'w')\n",
    "\n",
    "casos_totais = 0\n",
    "\n",
    "for linha in refArquivoEntrada:\n",
    "    data = linha.split(\",\")\n",
    "    if data[PAIS] in brics_list:\n",
    "        # perc_recuperacao = float(data[TOTAL_RECOVERED])*100/float(data[TOTAL_CASES])\n",
    "        # perc_casos = float(data[TOTAL_CASES])*100/float(data[POPULATION])\n",
    "        # output = [data[PAIS], data[TOTAL_CASES], data[TOTAL_RECOVERED], str(perc_recuperacao), str(perc_casos)]\n",
    "        \n",
    "        # refArquivoSaida.write(\",\".join(output)+\"\\n\")\n",
    "\n",
    "refArquivoEntrada.close()\n",
    "refArquivoSaida.close()"
   ]
  },
  {
   "cell_type": "markdown",
   "metadata": {},
   "source": [
    "## Considerações finais\n",
    "\n",
    "- Como falado inicialmente, existem bibliotecas especializadas em Python que são implementadas para fins específicos. Uma delas é a biblioteca <a href=\"https://docs.python.org/3/library/csv.html\">csv</a> que implementa módulos que permitem a leitura e escrita de diferentes formatos de dados tabulares (não somente CSV!)."
   ]
  },
  {
   "cell_type": "code",
   "execution_count": null,
   "metadata": {},
   "outputs": [],
   "source": []
  }
 ],
 "metadata": {
  "kernelspec": {
   "display_name": "Python 3",
   "language": "python",
   "name": "python3"
  },
  "language_info": {
   "codemirror_mode": {
    "name": "ipython",
    "version": 3
   },
   "file_extension": ".py",
   "mimetype": "text/x-python",
   "name": "python",
   "nbconvert_exporter": "python",
   "pygments_lexer": "ipython3",
   "version": "3.8.3"
  }
 },
 "nbformat": 4,
 "nbformat_minor": 4
}
