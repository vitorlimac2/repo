{
 "cells": [
  {
   "cell_type": "markdown",
   "metadata": {},
   "source": [
    "# Leitura e escrita de arquivos em Python"
   ]
  },
  {
   "cell_type": "markdown",
   "metadata": {},
   "source": [
    "## Introdução\n",
    "\n",
    "- Arquivos são áreas do disco que permitem a leitura e escrita de informação;\n",
    "- O sistema operacional é responsável pelo seu gerenciamento;\n",
    "- A forma básica de se ler um arquivo em Python consiste de:\n",
    "    - Abrir o arquivo (função ``open``);\n",
    "    - Informar o nome do arquivo e o caminho do diretório onde o arquivo está;\n",
    "    - Informar o tipo de operação que queremos realizar com este arquivo usando os caracteres (ou combinação deles):\n",
    "        - ``r`` (leitura), ``w`` (escrita), ``a`` (escrita, mas preserva o conteúdo se já existir), ``b`` (modo binário) e ``+`` (atualização leitura/escrita)."
   ]
  },
  {
   "cell_type": "markdown",
   "metadata": {},
   "source": [
    "## open()\n",
    "\n",
    "- A função ``open`` retorna um objeto do tipo ``file`` (arquivo) e abrirá o arquivo passado como argumento para leitura ou escrita;\n",
    "- A função ``write`` é utilizada para escrever;\n",
    "- A função ``read`` é usada para ler;\n",
    "- A função ``close`` é usada para fechar o arquivo;"
   ]
  },
  {
   "cell_type": "markdown",
   "metadata": {},
   "source": [
    "- __Lendo um arquivo__: Existem várias maneiras de se ler um arquivo, por exemplo:\n",
    "    - ``read(n)``: lê n bytes do arquivo. Sem o valor de n, a função lê o arquivo inteiro;\n",
    "    - ``readline()``: retorna uma string com apenas uma linha do arquivo. O código de nova linha ‘\\n’ (newline) também está incluído na string retornada;\n",
    "    - ``readlines()``: retorna uma lista onde cada elemento é do tipo string e consiste de uma linha do arquivo. \n",
    "    \n",
    "- __Cuidado__: especialmente para os dados biológicos, salvar todas as linhas de arquivo em memória pode não ser uma boa ideia."
   ]
  },
  {
   "cell_type": "code",
   "execution_count": 1,
   "metadata": {},
   "outputs": [
    {
     "name": "stdout",
     "output_type": "stream",
     "text": [
      "Seja bem-vindo!\n",
      "Volte sempre!\n",
      "Um texto qualquer.\n"
     ]
    }
   ],
   "source": [
    "ref_arquivo1 = open(\"boasvindas.txt\")\n",
    "entrada_arquivo = ref_arquivo1.read()\n",
    "print(entrada_arquivo)\n",
    "ref_arquivo1.close()"
   ]
  },
  {
   "cell_type": "code",
   "execution_count": 7,
   "metadata": {},
   "outputs": [
    {
     "name": "stdout",
     "output_type": "stream",
     "text": [
      "Seja bem-vindo!\n",
      "Volte sempre!\n",
      "Um texto qualquer.\n"
     ]
    }
   ],
   "source": [
    "ref_arquivo1 = open(\"boasvindas.txt\")\n",
    "print(ref_arquivo1.readline().rstrip())\n",
    "print(ref_arquivo1.readline().rstrip())\n",
    "print(ref_arquivo1.readline().rstrip())\n",
    "ref_arquivo1.close()"
   ]
  },
  {
   "cell_type": "code",
   "execution_count": 16,
   "metadata": {},
   "outputs": [
    {
     "name": "stdout",
     "output_type": "stream",
     "text": [
      "['Seja bem-vindo!\\n', 'Volte sempre!\\n', 'Um texto qualquer.']\n",
      "Seja bem-vindo!\n",
      "Volte sempre!\n",
      "Um texto qualquer.\n"
     ]
    }
   ],
   "source": [
    "ref_arquivo1 = open(\"boasvindas.txt\")\n",
    "linhas_do_arquivo = ref_arquivo1.readlines()\n",
    "print(linhas_do_arquivo)\n",
    "\n",
    "\n",
    "for linha in linhas_do_arquivo:\n",
    "    print(linha.rstrip())\n",
    "\n",
    "ref_arquivo1.close()"
   ]
  },
  {
   "cell_type": "markdown",
   "metadata": {},
   "source": [
    "- __Escrevendo um arquivo__"
   ]
  },
  {
   "cell_type": "code",
   "execution_count": 17,
   "metadata": {},
   "outputs": [],
   "source": [
    "ref_arquivo2 = open(\"saida3.txt\", 'w')\n",
    "ref_arquivo2.write(\"Olá!\")\n",
    "ref_arquivo2.close()"
   ]
  },
  {
   "cell_type": "markdown",
   "metadata": {},
   "source": [
    "## Usando ``with`` para ler e escrever arquivos\n",
    "\n",
    "- A estrutura ``with`` tem o seguinte formato:"
   ]
  },
  {
   "cell_type": "code",
   "execution_count": null,
   "metadata": {},
   "outputs": [],
   "source": [
    "with EXPRESSÃO as VARIÁVEL:\n",
    "    BLOCO DE INSTRUÇÕES"
   ]
  },
  {
   "cell_type": "markdown",
   "metadata": {},
   "source": [
    "1. Quando esta declaração é executada, EXPRESSÃO é avaliada. \n",
    "2. Um método especial ``__enter__`` do objeto retornado por EXPRESSÃO é chamado. \n",
    "3. Tudo que for retornado por ``__enter__`` é chamado de VARIÁVEL. \n",
    "4. O código em BLOCO será executado. \n",
    "5. Quando BLOCO terminar (por exaustão ou erro), um método chamado ``__exit__`` é chamado. \n",
    "6. ``__enter__``  retorna o arquivo em si e ``__exit__`` fecha o arquivo. \n",
    "7. Quando realizamos a leitura e escrita nos casos anteriores, usamos a função ``close`` para fechar o arquivo aberto. Se ocorrer um erro que faça com que o programa seja encerrado antes de fechar um arquivo aberto, os dados serão perdidos e o arquivo não poderá ser acessado por outros aplicativos. \n",
    "8. Com ``with`` podemos ter certeza de que o arquivo será fechado."
   ]
  },
  {
   "cell_type": "code",
   "execution_count": 18,
   "metadata": {},
   "outputs": [
    {
     "name": "stdout",
     "output_type": "stream",
     "text": [
      "['Seja bem-vindo!\\n', 'Volte sempre!\\n', 'Um texto qualquer.']\n",
      "Seja bem-vindo!\n",
      "Volte sempre!\n",
      "Um texto qualquer.\n"
     ]
    }
   ],
   "source": [
    "with open(\"boasvindas.txt\") as ref_arquivo1:\n",
    "    linhas_do_arquivo = ref_arquivo1.readlines()\n",
    "    print(linhas_do_arquivo)\n",
    "\n",
    "    for linha in linhas_do_arquivo:\n",
    "        print(linha.rstrip())"
   ]
  },
  {
   "cell_type": "code",
   "execution_count": 19,
   "metadata": {},
   "outputs": [],
   "source": [
    "with open(\"saida2.txt\", 'w') as ref_arquivo2:\n",
    "    ref_arquivo2.write(\"Olá de novo!\")"
   ]
  },
  {
   "cell_type": "markdown",
   "metadata": {},
   "source": [
    "## Exemplo: leitura e escrita de um arquivo no formato FASTA\n",
    "\n",
    "- __O que é um arquivo FASTA?__: é um tipo de arquivo que se popularizou por ser uma maneira simples de representar seqüências de nucleotídeos ou aminoácidos.\n",
    "- Extensão: .fasta, .fa, .fna, .fsa\n",
    "- Possui no mínimo duas linhas;\n",
    "- Predominantemente, a primeira linha denominada linha de cabeçalho começa com o símbolo \">\" e fornece informações básicas sobre a sequência; \n",
    "- Não há um formato definido para a linha de cabeçalho; \n",
    "- Após a linha de cabeçalho, a sequência de ácido nucleico ou proteína é incluída no código padrão de uma letra;"
   ]
  },
  {
   "cell_type": "markdown",
   "metadata": {},
   "source": [
    "- Arquivo FASTA com apenas uma sequência:"
   ]
  },
  {
   "cell_type": "code",
   "execution_count": null,
   "metadata": {},
   "outputs": [],
   "source": [
    ">XR_006057577.7\n",
    "CAATTCAGCACAGTAATGCAATTCAGCACAGTAATGCAATTCAGCACAGTAATGCAATTCAGCACAGTAATGCAAT\n",
    "TCAGCACAGTAATGCAATTCAGCACAGTAATG"
   ]
  },
  {
   "cell_type": "markdown",
   "metadata": {},
   "source": [
    "- Arquivo FASTA com múltiplas sequências ou multi-FASTA:"
   ]
  },
  {
   "cell_type": "code",
   "execution_count": null,
   "metadata": {},
   "outputs": [],
   "source": [
    ">XR_002086427.1 Candida albicans SC5314 uncharacterized ncRNA (SCR1), ncRNA\n",
    "TGGCTGTGATGGCTTTTAGCGGAAGCGCGCTGTTCGCGTACCTGCTGTTTGTTGAAAATTTAAGAGCAAAGTGTCCG\n",
    "GCTCGATCCCTGCGAATTGAATTCTGAACGCTAGAGTAATCAGTGTCTTTCAAGTTCTGGTAATGTTTAGCATAACC\n",
    "ACTGGAGGGAAGCAATTCAGCACAGTAATGCTAATCGTGGTGGAGGCGAATCCGGATGGCACCTTGTTTGTTGATAA\n",
    "ATAGTGCGGTATCTAGTGTTGCAACTCTATTTTT\n",
    ">XR_004054578.7\n",
    "CTGGAGGGAAGCAATTCAGCACAGTAATGCTAATCGTGGTGGAGGCGAATCCGGATGGCACCTTGTTTGTTGATAAA"
   ]
  },
  {
   "cell_type": "markdown",
   "metadata": {},
   "source": [
    "- __Obtendo as sequências do exemplo__: sequências de aminoácidos do _Trypanosoma cruzi_ cepa CL Brener Esmeraldo-like disponível na base de dados TriTrypDB (https://tritrypdb.org/).\n",
    "    - Baixar o arquivo multi-FASTA (https://tritrypdb.org/common/downloads/release-47/TcruziCLBrenerEsmeraldo-like/fasta/data/)\n",
    "    - Buscar a sequência do gene TcCLB.506717.80\n",
    "        - Quais informações são fornecidas pelo cabeçalho?\n",
    "    - Criar um arquivo (CTRL+C e CTRL+V) somente com a sequência do gene TcCLB.506717.80 (como estou falando de uma sequência no formato FASTA, implicitamente me refiro a criar um arquivo com cabeçalho + sequência de aminoácidos).\n",
    "    - Chamamos o arquivo de ``TcCLB.506717.80_AA.fasta``:"
   ]
  },
  {
   "cell_type": "code",
   "execution_count": null,
   "metadata": {},
   "outputs": [],
   "source": [
    "1  >TcCLB.506717.80:mRNA-p1 | transcript=TcCLB.506717.80:mRNA | gene=TcCLB.506717.80 | organism=Trypanosoma_cruzi_CL_Brener_Esmeraldo-like | gene_product=trans-sialidase, Group VIII, putative | transcript_product=trans-sialidase, Group VIII, putative | location=TcChr2-S:113450-116617(+) | protein_length=1055 | sequence_SO=chromosome | SO=protein_coding | is_pseudo=false\n",
    "2  MLSRVAAVKAPNKHNRRRVTGSSGRRREGRVSEQQMPNMSRRVFTSAVLLLLVFVLMCCD\n",
    "3  VGGAHAGESNVKKAVDALRGIKWEELDKWEEIDNAGGKYGSLFSPSLVEVQGHVFAIAEA\n",
    "4  HCTDGGKCSDVSLTGIASKHLDLSGVGSTEISAANAGASIFGTDLLKEESEGISARNGIT\n",
    "5  RPTTLVLGDSVYMLLGNYRRRAAGTQLTKIQGKNERGLLLVRGTVAEENGKKKIRWNETH\n",
    "6  VMNPQAIGYSHSLTELIGGGGSGAVMRDGTLVFPMQAKNKYGQHVLLSMSFNPSDKKWRL\n",
    "7  SSETPGKGCRDPTLVKWEENEDDERLFMMAHCAGGYYDVYRSTENGGNWYTLGEPINRVW\n",
    "8  GNSHNRAGHGVQSGFTTAIIEGKKVMLVTAPVYAKDNEGGKGRLHLWVTDNARVYDVGPV\n",
    "9  SRENDDAAASSLLMKSGRDNKELVSLHEKKKGDGSYNLVAVRLTEKLERIKKVVKTWADL\n",
    "10 DSALQSCSSVSIGTVGLPKKGMCNGRVPTERLVGFLSGNSTQTEWRDEYLCVNATVTNGE\n",
    "11 RRVPNGLTFKGSGAGAVWPVGDMGQTVPYYFANNEFTLVATVSIHEVPKGDSSSIPLMGV\n",
    "12 RMNDTDSTVLFGLSYTHDKKWLAIPENSGNMEDVDYWEPNKTYQVVLRMDSDFWTVIVDK\n",
    "13 REIHHKKYDASLFDLHRISHFYIGGDSKDQSATGGHVTVTNVMLYNEKLFGSELYELNAS\n",
    "14 KVTIPSLGAEKQPTGPVNGTGLSVAPESNSKESTASHEELTEDDTDKQEEGIVHDLVPAV\n",
    "15 PPSTVAGGSSVSESAIAAQSAENSLPENNAQFHQGETSQQTTPHEAKESMQRDSDVQPRE\n",
    "16 LPSTKSTEVADVEGSAESNDTQQPVEEGEADDRSGGSTSSVGASLSMDTATETVGSEHQV\n",
    "17 QQSTEPATENDDVRSTGTGTTGAEESLSLEAGDSDSERTMGSDSSLTSSKSDAEPTSAED\n",
    "18 TDNISWTEGAEFSFEDVKEVPQTVDTAPENTNTTPGGEGIPSTKGAARHSDNDTFTGEIA\n",
    "19 ELLSMGLNHDSTVHVCVSRVLLLLLLLGLWGIVAL"
   ]
  },
  {
   "cell_type": "markdown",
   "metadata": {},
   "source": [
    "__Lendo a sequência do arquivo FASTA__: \n",
    "- primeiramente criamos uma referência chamada refArquivo para o nosso arquivo chamado ``TcCLB.506717.80_AA.fasta``:"
   ]
  },
  {
   "cell_type": "code",
   "execution_count": 20,
   "metadata": {},
   "outputs": [],
   "source": [
    "refArquivo = open(\"TcCLB.506717.80_AA.fasta\")"
   ]
  },
  {
   "cell_type": "markdown",
   "metadata": {},
   "source": [
    "- O arquivo inteiro é lido com read() e armazenado como uma variável do tipo string em ``arquivoFasta``."
   ]
  },
  {
   "cell_type": "code",
   "execution_count": 21,
   "metadata": {},
   "outputs": [],
   "source": [
    "arquivoFasta = refArquivo.read()"
   ]
  },
  {
   "cell_type": "markdown",
   "metadata": {},
   "source": [
    "✨__Relembrando detalhes do FASTA__✨\n",
    "- Um arquivo FASTA é formado por uma ou mais sequências que seguem a seguinte formatação: \n",
    "    - um cabeçalho iniciado pelo símbolo “>” seguido de uma sequência de DNA, RNA ou aminoácidos, na linha seguinte. \n",
    "    - Então temos uma linha que começa com o símbolo “>” e termina com “\\n” (new line); \n",
    "    - Após este último símbolo inicia a sequência referente a este cabeçalho (se seu arquivo FASTA está formatado corretamente); \n",
    "    - A sequência biológica de fato pode está um uma única longa linha ou dividida em múltiplas linhas.\n",
    "    - Caso a sequência esteja dividida em múltiplas linhas após o cabeçalho (como em nosso exemplo), precisamos concatenar todas linhas com exceção da primeira (o cabeçalho) em uma única string. "
   ]
  },
  {
   "cell_type": "code",
   "execution_count": 33,
   "metadata": {},
   "outputs": [
    {
     "name": "stdout",
     "output_type": "stream",
     "text": [
      "['>TcCLB.506717.80:mRNA-p1 | transcript=TcCLB.506717.80:mRNA | gene=TcCLB.506717.80 | organism=Trypanosoma_cruzi_CL_Brener_Esmeraldo-like | gene_product=trans-sialidase, Group VIII, putative | transcript_product=trans-sialidase, Group VIII, putative | location=TcChr2-S:113450-116617(+) | protein_length=1055 | sequence_SO=chromosome | SO=protein_coding | is_pseudo=false', 'MLSRVAAVKAPNKHNRRRVTGSSGRRREGRVSEQQMPNMSRRVFTSAVLLLLVFVLMCCD', 'VGGAHAGESNVKKAVDALRGIKWEELDKWEEIDNAGGKYGSLFSPSLVEVQGHVFAIAEA', 'HCTDGGKCSDVSLTGIASKHLDLSGVGSTEISAANAGASIFGTDLLKEESEGISARNGIT', 'RPTTLVLGDSVYMLLGNYRRRAAGTQLTKIQGKNERGLLLVRGTVAEENGKKKIRWNETH', 'VMNPQAIGYSHSLTELIGGGGSGAVMRDGTLVFPMQAKNKYGQHVLLSMSFNPSDKKWRL', 'SSETPGKGCRDPTLVKWEENEDDERLFMMAHCAGGYYDVYRSTENGGNWYTLGEPINRVW', 'GNSHNRAGHGVQSGFTTAIIEGKKVMLVTAPVYAKDNEGGKGRLHLWVTDNARVYDVGPV', 'SRENDDAAASSLLMKSGRDNKELVSLHEKKKGDGSYNLVAVRLTEKLERIKKVVKTWADL', 'DSALQSCSSVSIGTVGLPKKGMCNGRVPTERLVGFLSGNSTQTEWRDEYLCVNATVTNGE', 'RRVPNGLTFKGSGAGAVWPVGDMGQTVPYYFANNEFTLVATVSIHEVPKGDSSSIPLMGV', 'RMNDTDSTVLFGLSYTHDKKWLAIPENSGNMEDVDYWEPNKTYQVVLRMDSDFWTVIVDK', 'REIHHKKYDASLFDLHRISHFYIGGDSKDQSATGGHVTVTNVMLYNEKLFGSELYELNAS', 'KVTIPSLGAEKQPTGPVNGTGLSVAPESNSKESTASHEELTEDDTDKQEEGIVHDLVPAV', 'PPSTVAGGSSVSESAIAAQSAENSLPENNAQFHQGETSQQTTPHEAKESMQRDSDVQPRE', 'LPSTKSTEVADVEGSAESNDTQQPVEEGEADDRSGGSTSSVGASLSMDTATETVGSEHQV', 'QQSTEPATENDDVRSTGTGTTGAEESLSLEAGDSDSERTMGSDSSLTSSKSDAEPTSAED', 'TDNISWTEGAEFSFEDVKEVPQTVDTAPENTNTTPGGEGIPSTKGAARHSDNDTFTGEIA', 'ELLSMGLNHDSTVHVCVSRVLLLLLLLGLWGIVAL', '']\n"
     ]
    }
   ],
   "source": [
    "cabecalho = arquivoFasta.split('\\n')[0][1:]\n",
    "print(cabecalho)"
   ]
  },
  {
   "cell_type": "markdown",
   "metadata": {},
   "source": [
    "- ``split('\\n')`` = “quebro” o arquivoFasta (string) em linhas (``\\n`` é o símbolo que indica o fim de uma linha)\n",
    "- ``arquivoFasta.split('\\n')[0]`` = pega o primeiro elemento que foi separado por split, ou seja, a primeira linha. \n",
    "- ``arquivoFasta.split('\\n')[0][1:]`` = da primeira linha (``[0]``) eu quero a partir do segundo caractere (ou seja, excluindo o símbolo ``>``) até o fim desta primeira linha (``[1:]``)"
   ]
  },
  {
   "cell_type": "code",
   "execution_count": 31,
   "metadata": {},
   "outputs": [
    {
     "name": "stdout",
     "output_type": "stream",
     "text": [
      "MLSRVAAVKAPNKHNRRRVTGSSGRRREGRVSEQQMPNMSRRVFTSAVLLLLVFVLMCCDVGGAHAGESNVKKAVDALRGIKWEELDKWEEIDNAGGKYGSLFSPSLVEVQGHVFAIAEAHCTDGGKCSDVSLTGIASKHLDLSGVGSTEISAANAGASIFGTDLLKEESEGISARNGITRPTTLVLGDSVYMLLGNYRRRAAGTQLTKIQGKNERGLLLVRGTVAEENGKKKIRWNETHVMNPQAIGYSHSLTELIGGGGSGAVMRDGTLVFPMQAKNKYGQHVLLSMSFNPSDKKWRLSSETPGKGCRDPTLVKWEENEDDERLFMMAHCAGGYYDVYRSTENGGNWYTLGEPINRVWGNSHNRAGHGVQSGFTTAIIEGKKVMLVTAPVYAKDNEGGKGRLHLWVTDNARVYDVGPVSRENDDAAASSLLMKSGRDNKELVSLHEKKKGDGSYNLVAVRLTEKLERIKKVVKTWADLDSALQSCSSVSIGTVGLPKKGMCNGRVPTERLVGFLSGNSTQTEWRDEYLCVNATVTNGERRVPNGLTFKGSGAGAVWPVGDMGQTVPYYFANNEFTLVATVSIHEVPKGDSSSIPLMGVRMNDTDSTVLFGLSYTHDKKWLAIPENSGNMEDVDYWEPNKTYQVVLRMDSDFWTVIVDKREIHHKKYDASLFDLHRISHFYIGGDSKDQSATGGHVTVTNVMLYNEKLFGSELYELNASKVTIPSLGAEKQPTGPVNGTGLSVAPESNSKESTASHEELTEDDTDKQEEGIVHDLVPAVPPSTVAGGSSVSESAIAAQSAENSLPENNAQFHQGETSQQTTPHEAKESMQRDSDVQPRELPSTKSTEVADVEGSAESNDTQQPVEEGEADDRSGGSTSSVGASLSMDTATETVGSEHQVQQSTEPATENDDVRSTGTGTTGAEESLSLEAGDSDSERTMGSDSSLTSSKSDAEPTSAEDTDNISWTEGAEFSFEDVKEVPQTVDTAPENTNTTPGGEGIPSTKGAARHSDNDTFTGEIAELLSMGLNHDSTVHVCVSRVLLLLLLLGLWGIVAL\n"
     ]
    }
   ],
   "source": [
    "sequencia = ''.join(arquivoFasta.split('\\n')[1:])\n",
    "print(sequencia)"
   ]
  },
  {
   "cell_type": "markdown",
   "metadata": {},
   "source": [
    "- Seleciono todas as linhas restantes (“[1:]”) e concatena uma nas outras (usando a função join)\n",
    "- Portanto, esta instrução vai concatenar todas linhas com exceção da primeira (o cabeçalho) em uma única string."
   ]
  },
  {
   "cell_type": "markdown",
   "metadata": {},
   "source": [
    "- Por fim, imprimo os dois atributos e fecho o arquivo:"
   ]
  },
  {
   "cell_type": "code",
   "execution_count": 32,
   "metadata": {},
   "outputs": [
    {
     "name": "stdout",
     "output_type": "stream",
     "text": [
      "Identificador: TcCLB.506717.80:mRNA-p1 | transcript=TcCLB.506717.80:mRNA | gene=TcCLB.506717.80 | organism=Trypanosoma_cruzi_CL_Brener_Esmeraldo-like | gene_product=trans-sialidase, Group VIII, putative | transcript_product=trans-sialidase, Group VIII, putative | location=TcChr2-S:113450-116617(+) | protein_length=1055 | sequence_SO=chromosome | SO=protein_coding | is_pseudo=false\n",
      "Sequencia: MLSRVAAVKAPNKHNRRRVTGSSGRRREGRVSEQQMPNMSRRVFTSAVLLLLVFVLMCCDVGGAHAGESNVKKAVDALRGIKWEELDKWEEIDNAGGKYGSLFSPSLVEVQGHVFAIAEAHCTDGGKCSDVSLTGIASKHLDLSGVGSTEISAANAGASIFGTDLLKEESEGISARNGITRPTTLVLGDSVYMLLGNYRRRAAGTQLTKIQGKNERGLLLVRGTVAEENGKKKIRWNETHVMNPQAIGYSHSLTELIGGGGSGAVMRDGTLVFPMQAKNKYGQHVLLSMSFNPSDKKWRLSSETPGKGCRDPTLVKWEENEDDERLFMMAHCAGGYYDVYRSTENGGNWYTLGEPINRVWGNSHNRAGHGVQSGFTTAIIEGKKVMLVTAPVYAKDNEGGKGRLHLWVTDNARVYDVGPVSRENDDAAASSLLMKSGRDNKELVSLHEKKKGDGSYNLVAVRLTEKLERIKKVVKTWADLDSALQSCSSVSIGTVGLPKKGMCNGRVPTERLVGFLSGNSTQTEWRDEYLCVNATVTNGERRVPNGLTFKGSGAGAVWPVGDMGQTVPYYFANNEFTLVATVSIHEVPKGDSSSIPLMGVRMNDTDSTVLFGLSYTHDKKWLAIPENSGNMEDVDYWEPNKTYQVVLRMDSDFWTVIVDKREIHHKKYDASLFDLHRISHFYIGGDSKDQSATGGHVTVTNVMLYNEKLFGSELYELNASKVTIPSLGAEKQPTGPVNGTGLSVAPESNSKESTASHEELTEDDTDKQEEGIVHDLVPAVPPSTVAGGSSVSESAIAAQSAENSLPENNAQFHQGETSQQTTPHEAKESMQRDSDVQPRELPSTKSTEVADVEGSAESNDTQQPVEEGEADDRSGGSTSSVGASLSMDTATETVGSEHQVQQSTEPATENDDVRSTGTGTTGAEESLSLEAGDSDSERTMGSDSSLTSSKSDAEPTSAEDTDNISWTEGAEFSFEDVKEVPQTVDTAPENTNTTPGGEGIPSTKGAARHSDNDTFTGEIAELLSMGLNHDSTVHVCVSRVLLLLLLLGLWGIVAL\n"
     ]
    }
   ],
   "source": [
    "print(\"Identificador: %s\" % cabecalho)\n",
    "print(\"Sequencia: %s\" % sequencia)\n",
    "refArquivo.close()"
   ]
  },
  {
   "cell_type": "markdown",
   "metadata": {},
   "source": [
    "- Existem outras maneiras de percorrer as linhas de um arquivo usando as estruturas de repetição ``while`` e ``for`` por exemplo:"
   ]
  },
  {
   "cell_type": "code",
   "execution_count": 34,
   "metadata": {},
   "outputs": [
    {
     "name": "stdout",
     "output_type": "stream",
     "text": [
      "Cabecalho: TcCLB.506717.80:mRNA-p1 | transcript=TcCLB.506717.80:mRNA | gene=TcCLB.506717.80 | organism=Trypanosoma_cruzi_CL_Brener_Esmeraldo-like | gene_product=trans-sialidase, Group VIII, putative | transcript_product=trans-sialidase, Group VIII, putative | location=TcChr2-S:113450-116617(+) | protein_length=1055 | sequence_SO=chromosome | SO=protein_coding | is_pseudo=false\n",
      "Sequencia: MLSRVAAVKAPNKHNRRRVTGSSGRRREGRVSEQQMPNMSRRVFTSAVLLLLVFVLMCCDVGGAHAGESNVKKAVDALRGIKWEELDKWEEIDNAGGKYGSLFSPSLVEVQGHVFAIAEAHCTDGGKCSDVSLTGIASKHLDLSGVGSTEISAANAGASIFGTDLLKEESEGISARNGITRPTTLVLGDSVYMLLGNYRRRAAGTQLTKIQGKNERGLLLVRGTVAEENGKKKIRWNETHVMNPQAIGYSHSLTELIGGGGSGAVMRDGTLVFPMQAKNKYGQHVLLSMSFNPSDKKWRLSSETPGKGCRDPTLVKWEENEDDERLFMMAHCAGGYYDVYRSTENGGNWYTLGEPINRVWGNSHNRAGHGVQSGFTTAIIEGKKVMLVTAPVYAKDNEGGKGRLHLWVTDNARVYDVGPVSRENDDAAASSLLMKSGRDNKELVSLHEKKKGDGSYNLVAVRLTEKLERIKKVVKTWADLDSALQSCSSVSIGTVGLPKKGMCNGRVPTERLVGFLSGNSTQTEWRDEYLCVNATVTNGERRVPNGLTFKGSGAGAVWPVGDMGQTVPYYFANNEFTLVATVSIHEVPKGDSSSIPLMGVRMNDTDSTVLFGLSYTHDKKWLAIPENSGNMEDVDYWEPNKTYQVVLRMDSDFWTVIVDKREIHHKKYDASLFDLHRISHFYIGGDSKDQSATGGHVTVTNVMLYNEKLFGSELYELNASKVTIPSLGAEKQPTGPVNGTGLSVAPESNSKESTASHEELTEDDTDKQEEGIVHDLVPAVPPSTVAGGSSVSESAIAAQSAENSLPENNAQFHQGETSQQTTPHEAKESMQRDSDVQPRELPSTKSTEVADVEGSAESNDTQQPVEEGEADDRSGGSTSSVGASLSMDTATETVGSEHQVQQSTEPATENDDVRSTGTGTTGAEESLSLEAGDSDSERTMGSDSSLTSSKSDAEPTSAEDTDNISWTEGAEFSFEDVKEVPQTVDTAPENTNTTPGGEGIPSTKGAARHSDNDTFTGEIAELLSMGLNHDSTVHVCVSRVLLLLLLLGLWGIVAL\n"
     ]
    }
   ],
   "source": [
    "refArquivo = open(\"TcCLB.506717.80_AA.fasta\")\n",
    "primeiraLinha = refArquivo.readline()\n",
    "cabecalho = primeiraLinha[1:-1]\n",
    "sequencia = \"\"\n",
    "while True:\n",
    "    linha = refArquivo.readline()\n",
    "    if linha == \"\":\n",
    "        break\n",
    "    sequencia += linha.replace('\\n','')\n",
    "print (\"Cabecalho: %s\"%cabecalho)\n",
    "print (\"Sequencia: %s\"%sequencia)\n",
    "refArquivo.close()"
   ]
  },
  {
   "cell_type": "code",
   "execution_count": 35,
   "metadata": {},
   "outputs": [
    {
     "name": "stdout",
     "output_type": "stream",
     "text": [
      "Cabecalho: TcCLB.506717.80:mRNA-p1 | transcript=TcCLB.506717.80:mRNA | gene=TcCLB.506717.80 | organism=Trypanosoma_cruzi_CL_Brener_Esmeraldo-like | gene_product=trans-sialidase, Group VIII, putative | transcript_product=trans-sialidase, Group VIII, putative | location=TcChr2-S:113450-116617(+) | protein_length=1055 | sequence_SO=chromosome | SO=protein_coding | is_pseudo=false\n",
      "Sequencia: MLSRVAAVKAPNKHNRRRVTGSSGRRREGRVSEQQMPNMSRRVFTSAVLLLLVFVLMCCDVGGAHAGESNVKKAVDALRGIKWEELDKWEEIDNAGGKYGSLFSPSLVEVQGHVFAIAEAHCTDGGKCSDVSLTGIASKHLDLSGVGSTEISAANAGASIFGTDLLKEESEGISARNGITRPTTLVLGDSVYMLLGNYRRRAAGTQLTKIQGKNERGLLLVRGTVAEENGKKKIRWNETHVMNPQAIGYSHSLTELIGGGGSGAVMRDGTLVFPMQAKNKYGQHVLLSMSFNPSDKKWRLSSETPGKGCRDPTLVKWEENEDDERLFMMAHCAGGYYDVYRSTENGGNWYTLGEPINRVWGNSHNRAGHGVQSGFTTAIIEGKKVMLVTAPVYAKDNEGGKGRLHLWVTDNARVYDVGPVSRENDDAAASSLLMKSGRDNKELVSLHEKKKGDGSYNLVAVRLTEKLERIKKVVKTWADLDSALQSCSSVSIGTVGLPKKGMCNGRVPTERLVGFLSGNSTQTEWRDEYLCVNATVTNGERRVPNGLTFKGSGAGAVWPVGDMGQTVPYYFANNEFTLVATVSIHEVPKGDSSSIPLMGVRMNDTDSTVLFGLSYTHDKKWLAIPENSGNMEDVDYWEPNKTYQVVLRMDSDFWTVIVDKREIHHKKYDASLFDLHRISHFYIGGDSKDQSATGGHVTVTNVMLYNEKLFGSELYELNASKVTIPSLGAEKQPTGPVNGTGLSVAPESNSKESTASHEELTEDDTDKQEEGIVHDLVPAVPPSTVAGGSSVSESAIAAQSAENSLPENNAQFHQGETSQQTTPHEAKESMQRDSDVQPRELPSTKSTEVADVEGSAESNDTQQPVEEGEADDRSGGSTSSVGASLSMDTATETVGSEHQVQQSTEPATENDDVRSTGTGTTGAEESLSLEAGDSDSERTMGSDSSLTSSKSDAEPTSAEDTDNISWTEGAEFSFEDVKEVPQTVDTAPENTNTTPGGEGIPSTKGAARHSDNDTFTGEIAELLSMGLNHDSTVHVCVSRVLLLLLLLGLWGIVAL\n"
     ]
    }
   ],
   "source": [
    "refArquivo = open(\"TcCLB.506717.80_AA.fasta\")\n",
    "cabecalho = refArquivo.readline()[1:-1]\n",
    "sequencia = \"\"\n",
    "for linha in refArquivo:\n",
    "    sequencia += linha.replace('\\n','')\n",
    "print (\"Cabecalho: %s\" % cabecalho)\n",
    "print (\"Sequencia: %s\" % sequencia)\n",
    "refArquivo.close()"
   ]
  },
  {
   "cell_type": "markdown",
   "metadata": {},
   "source": [
    "## Exemplo: Conversão do formato FASTA em tabular\n",
    "\n",
    "- Em algumas situações, torna-se interessante fazer a conversão de determinados formatos de arquivos em outros formatos que facilitem a manipulação de seu conteúdo.\n",
    "- No exemplo a seguir, vamos converter o formato FASTA em um arquivo com duas colunas separadas por tabulação. Na primeira coluna, vamos armazenar o cabeçalho e na segunda coluna será a sequência de aminoácidos."
   ]
  },
  {
   "cell_type": "markdown",
   "metadata": {},
   "source": [
    "- Primeiramente, abrimos o arquivo de entrada ``TcCLB.506717.80_AA.fasta`` e criamos o arquivo para escrita ``TcCLB.506717.80_AA.fasta``."
   ]
  },
  {
   "cell_type": "code",
   "execution_count": 41,
   "metadata": {},
   "outputs": [],
   "source": [
    "refArquivoEntrada = open(\"TcCLB.506717.80_AA.fasta\")\n",
    "refArquivoSaida = open(\"TcCLB.506717.80_AA.tsv\",'w')"
   ]
  },
  {
   "cell_type": "markdown",
   "metadata": {},
   "source": [
    "- Escrevemos a primeira linha que contém o nome das colunas:"
   ]
  },
  {
   "cell_type": "code",
   "execution_count": 42,
   "metadata": {},
   "outputs": [
    {
     "data": {
      "text/plain": [
       "20"
      ]
     },
     "execution_count": 42,
     "metadata": {},
     "output_type": "execute_result"
    }
   ],
   "source": [
    "refArquivoSaida.write(\"cabecalho\\tsequencia\\n\")"
   ]
  },
  {
   "cell_type": "markdown",
   "metadata": {},
   "source": [
    "- Extraímos o cabeçalho e inicializamos a variável que vai receber a concatenação das linhas com sequência:"
   ]
  },
  {
   "cell_type": "code",
   "execution_count": 43,
   "metadata": {},
   "outputs": [
    {
     "name": "stdout",
     "output_type": "stream",
     "text": [
      "MLSRVAAVKAPNKHNRRRVTGSSGRRREGRVSEQQMPNMSRRVFTSAVLLLLVFVLMCCD\n",
      "\n",
      "MLSRVAAVKAPNKHNRRRVTGSSGRRREGRVSEQQMPNMSRRVFTSAVLLLLVFVLMCCD\n",
      "-----------\n",
      "VGGAHAGESNVKKAVDALRGIKWEELDKWEEIDNAGGKYGSLFSPSLVEVQGHVFAIAEA\n",
      "\n",
      "MLSRVAAVKAPNKHNRRRVTGSSGRRREGRVSEQQMPNMSRRVFTSAVLLLLVFVLMCCDVGGAHAGESNVKKAVDALRGIKWEELDKWEEIDNAGGKYGSLFSPSLVEVQGHVFAIAEA\n",
      "-----------\n",
      "HCTDGGKCSDVSLTGIASKHLDLSGVGSTEISAANAGASIFGTDLLKEESEGISARNGIT\n",
      "\n",
      "MLSRVAAVKAPNKHNRRRVTGSSGRRREGRVSEQQMPNMSRRVFTSAVLLLLVFVLMCCDVGGAHAGESNVKKAVDALRGIKWEELDKWEEIDNAGGKYGSLFSPSLVEVQGHVFAIAEAHCTDGGKCSDVSLTGIASKHLDLSGVGSTEISAANAGASIFGTDLLKEESEGISARNGIT\n",
      "-----------\n",
      "RPTTLVLGDSVYMLLGNYRRRAAGTQLTKIQGKNERGLLLVRGTVAEENGKKKIRWNETH\n",
      "\n",
      "MLSRVAAVKAPNKHNRRRVTGSSGRRREGRVSEQQMPNMSRRVFTSAVLLLLVFVLMCCDVGGAHAGESNVKKAVDALRGIKWEELDKWEEIDNAGGKYGSLFSPSLVEVQGHVFAIAEAHCTDGGKCSDVSLTGIASKHLDLSGVGSTEISAANAGASIFGTDLLKEESEGISARNGITRPTTLVLGDSVYMLLGNYRRRAAGTQLTKIQGKNERGLLLVRGTVAEENGKKKIRWNETH\n",
      "-----------\n",
      "VMNPQAIGYSHSLTELIGGGGSGAVMRDGTLVFPMQAKNKYGQHVLLSMSFNPSDKKWRL\n",
      "\n",
      "MLSRVAAVKAPNKHNRRRVTGSSGRRREGRVSEQQMPNMSRRVFTSAVLLLLVFVLMCCDVGGAHAGESNVKKAVDALRGIKWEELDKWEEIDNAGGKYGSLFSPSLVEVQGHVFAIAEAHCTDGGKCSDVSLTGIASKHLDLSGVGSTEISAANAGASIFGTDLLKEESEGISARNGITRPTTLVLGDSVYMLLGNYRRRAAGTQLTKIQGKNERGLLLVRGTVAEENGKKKIRWNETHVMNPQAIGYSHSLTELIGGGGSGAVMRDGTLVFPMQAKNKYGQHVLLSMSFNPSDKKWRL\n",
      "-----------\n",
      "SSETPGKGCRDPTLVKWEENEDDERLFMMAHCAGGYYDVYRSTENGGNWYTLGEPINRVW\n",
      "\n",
      "MLSRVAAVKAPNKHNRRRVTGSSGRRREGRVSEQQMPNMSRRVFTSAVLLLLVFVLMCCDVGGAHAGESNVKKAVDALRGIKWEELDKWEEIDNAGGKYGSLFSPSLVEVQGHVFAIAEAHCTDGGKCSDVSLTGIASKHLDLSGVGSTEISAANAGASIFGTDLLKEESEGISARNGITRPTTLVLGDSVYMLLGNYRRRAAGTQLTKIQGKNERGLLLVRGTVAEENGKKKIRWNETHVMNPQAIGYSHSLTELIGGGGSGAVMRDGTLVFPMQAKNKYGQHVLLSMSFNPSDKKWRLSSETPGKGCRDPTLVKWEENEDDERLFMMAHCAGGYYDVYRSTENGGNWYTLGEPINRVW\n",
      "-----------\n",
      "GNSHNRAGHGVQSGFTTAIIEGKKVMLVTAPVYAKDNEGGKGRLHLWVTDNARVYDVGPV\n",
      "\n",
      "MLSRVAAVKAPNKHNRRRVTGSSGRRREGRVSEQQMPNMSRRVFTSAVLLLLVFVLMCCDVGGAHAGESNVKKAVDALRGIKWEELDKWEEIDNAGGKYGSLFSPSLVEVQGHVFAIAEAHCTDGGKCSDVSLTGIASKHLDLSGVGSTEISAANAGASIFGTDLLKEESEGISARNGITRPTTLVLGDSVYMLLGNYRRRAAGTQLTKIQGKNERGLLLVRGTVAEENGKKKIRWNETHVMNPQAIGYSHSLTELIGGGGSGAVMRDGTLVFPMQAKNKYGQHVLLSMSFNPSDKKWRLSSETPGKGCRDPTLVKWEENEDDERLFMMAHCAGGYYDVYRSTENGGNWYTLGEPINRVWGNSHNRAGHGVQSGFTTAIIEGKKVMLVTAPVYAKDNEGGKGRLHLWVTDNARVYDVGPV\n",
      "-----------\n",
      "SRENDDAAASSLLMKSGRDNKELVSLHEKKKGDGSYNLVAVRLTEKLERIKKVVKTWADL\n",
      "\n",
      "MLSRVAAVKAPNKHNRRRVTGSSGRRREGRVSEQQMPNMSRRVFTSAVLLLLVFVLMCCDVGGAHAGESNVKKAVDALRGIKWEELDKWEEIDNAGGKYGSLFSPSLVEVQGHVFAIAEAHCTDGGKCSDVSLTGIASKHLDLSGVGSTEISAANAGASIFGTDLLKEESEGISARNGITRPTTLVLGDSVYMLLGNYRRRAAGTQLTKIQGKNERGLLLVRGTVAEENGKKKIRWNETHVMNPQAIGYSHSLTELIGGGGSGAVMRDGTLVFPMQAKNKYGQHVLLSMSFNPSDKKWRLSSETPGKGCRDPTLVKWEENEDDERLFMMAHCAGGYYDVYRSTENGGNWYTLGEPINRVWGNSHNRAGHGVQSGFTTAIIEGKKVMLVTAPVYAKDNEGGKGRLHLWVTDNARVYDVGPVSRENDDAAASSLLMKSGRDNKELVSLHEKKKGDGSYNLVAVRLTEKLERIKKVVKTWADL\n",
      "-----------\n",
      "DSALQSCSSVSIGTVGLPKKGMCNGRVPTERLVGFLSGNSTQTEWRDEYLCVNATVTNGE\n",
      "\n",
      "MLSRVAAVKAPNKHNRRRVTGSSGRRREGRVSEQQMPNMSRRVFTSAVLLLLVFVLMCCDVGGAHAGESNVKKAVDALRGIKWEELDKWEEIDNAGGKYGSLFSPSLVEVQGHVFAIAEAHCTDGGKCSDVSLTGIASKHLDLSGVGSTEISAANAGASIFGTDLLKEESEGISARNGITRPTTLVLGDSVYMLLGNYRRRAAGTQLTKIQGKNERGLLLVRGTVAEENGKKKIRWNETHVMNPQAIGYSHSLTELIGGGGSGAVMRDGTLVFPMQAKNKYGQHVLLSMSFNPSDKKWRLSSETPGKGCRDPTLVKWEENEDDERLFMMAHCAGGYYDVYRSTENGGNWYTLGEPINRVWGNSHNRAGHGVQSGFTTAIIEGKKVMLVTAPVYAKDNEGGKGRLHLWVTDNARVYDVGPVSRENDDAAASSLLMKSGRDNKELVSLHEKKKGDGSYNLVAVRLTEKLERIKKVVKTWADLDSALQSCSSVSIGTVGLPKKGMCNGRVPTERLVGFLSGNSTQTEWRDEYLCVNATVTNGE\n",
      "-----------\n",
      "RRVPNGLTFKGSGAGAVWPVGDMGQTVPYYFANNEFTLVATVSIHEVPKGDSSSIPLMGV\n",
      "\n",
      "MLSRVAAVKAPNKHNRRRVTGSSGRRREGRVSEQQMPNMSRRVFTSAVLLLLVFVLMCCDVGGAHAGESNVKKAVDALRGIKWEELDKWEEIDNAGGKYGSLFSPSLVEVQGHVFAIAEAHCTDGGKCSDVSLTGIASKHLDLSGVGSTEISAANAGASIFGTDLLKEESEGISARNGITRPTTLVLGDSVYMLLGNYRRRAAGTQLTKIQGKNERGLLLVRGTVAEENGKKKIRWNETHVMNPQAIGYSHSLTELIGGGGSGAVMRDGTLVFPMQAKNKYGQHVLLSMSFNPSDKKWRLSSETPGKGCRDPTLVKWEENEDDERLFMMAHCAGGYYDVYRSTENGGNWYTLGEPINRVWGNSHNRAGHGVQSGFTTAIIEGKKVMLVTAPVYAKDNEGGKGRLHLWVTDNARVYDVGPVSRENDDAAASSLLMKSGRDNKELVSLHEKKKGDGSYNLVAVRLTEKLERIKKVVKTWADLDSALQSCSSVSIGTVGLPKKGMCNGRVPTERLVGFLSGNSTQTEWRDEYLCVNATVTNGERRVPNGLTFKGSGAGAVWPVGDMGQTVPYYFANNEFTLVATVSIHEVPKGDSSSIPLMGV\n",
      "-----------\n",
      "RMNDTDSTVLFGLSYTHDKKWLAIPENSGNMEDVDYWEPNKTYQVVLRMDSDFWTVIVDK\n",
      "\n",
      "MLSRVAAVKAPNKHNRRRVTGSSGRRREGRVSEQQMPNMSRRVFTSAVLLLLVFVLMCCDVGGAHAGESNVKKAVDALRGIKWEELDKWEEIDNAGGKYGSLFSPSLVEVQGHVFAIAEAHCTDGGKCSDVSLTGIASKHLDLSGVGSTEISAANAGASIFGTDLLKEESEGISARNGITRPTTLVLGDSVYMLLGNYRRRAAGTQLTKIQGKNERGLLLVRGTVAEENGKKKIRWNETHVMNPQAIGYSHSLTELIGGGGSGAVMRDGTLVFPMQAKNKYGQHVLLSMSFNPSDKKWRLSSETPGKGCRDPTLVKWEENEDDERLFMMAHCAGGYYDVYRSTENGGNWYTLGEPINRVWGNSHNRAGHGVQSGFTTAIIEGKKVMLVTAPVYAKDNEGGKGRLHLWVTDNARVYDVGPVSRENDDAAASSLLMKSGRDNKELVSLHEKKKGDGSYNLVAVRLTEKLERIKKVVKTWADLDSALQSCSSVSIGTVGLPKKGMCNGRVPTERLVGFLSGNSTQTEWRDEYLCVNATVTNGERRVPNGLTFKGSGAGAVWPVGDMGQTVPYYFANNEFTLVATVSIHEVPKGDSSSIPLMGVRMNDTDSTVLFGLSYTHDKKWLAIPENSGNMEDVDYWEPNKTYQVVLRMDSDFWTVIVDK\n",
      "-----------\n",
      "REIHHKKYDASLFDLHRISHFYIGGDSKDQSATGGHVTVTNVMLYNEKLFGSELYELNAS\n",
      "\n",
      "MLSRVAAVKAPNKHNRRRVTGSSGRRREGRVSEQQMPNMSRRVFTSAVLLLLVFVLMCCDVGGAHAGESNVKKAVDALRGIKWEELDKWEEIDNAGGKYGSLFSPSLVEVQGHVFAIAEAHCTDGGKCSDVSLTGIASKHLDLSGVGSTEISAANAGASIFGTDLLKEESEGISARNGITRPTTLVLGDSVYMLLGNYRRRAAGTQLTKIQGKNERGLLLVRGTVAEENGKKKIRWNETHVMNPQAIGYSHSLTELIGGGGSGAVMRDGTLVFPMQAKNKYGQHVLLSMSFNPSDKKWRLSSETPGKGCRDPTLVKWEENEDDERLFMMAHCAGGYYDVYRSTENGGNWYTLGEPINRVWGNSHNRAGHGVQSGFTTAIIEGKKVMLVTAPVYAKDNEGGKGRLHLWVTDNARVYDVGPVSRENDDAAASSLLMKSGRDNKELVSLHEKKKGDGSYNLVAVRLTEKLERIKKVVKTWADLDSALQSCSSVSIGTVGLPKKGMCNGRVPTERLVGFLSGNSTQTEWRDEYLCVNATVTNGERRVPNGLTFKGSGAGAVWPVGDMGQTVPYYFANNEFTLVATVSIHEVPKGDSSSIPLMGVRMNDTDSTVLFGLSYTHDKKWLAIPENSGNMEDVDYWEPNKTYQVVLRMDSDFWTVIVDKREIHHKKYDASLFDLHRISHFYIGGDSKDQSATGGHVTVTNVMLYNEKLFGSELYELNAS\n",
      "-----------\n",
      "KVTIPSLGAEKQPTGPVNGTGLSVAPESNSKESTASHEELTEDDTDKQEEGIVHDLVPAV\n",
      "\n",
      "MLSRVAAVKAPNKHNRRRVTGSSGRRREGRVSEQQMPNMSRRVFTSAVLLLLVFVLMCCDVGGAHAGESNVKKAVDALRGIKWEELDKWEEIDNAGGKYGSLFSPSLVEVQGHVFAIAEAHCTDGGKCSDVSLTGIASKHLDLSGVGSTEISAANAGASIFGTDLLKEESEGISARNGITRPTTLVLGDSVYMLLGNYRRRAAGTQLTKIQGKNERGLLLVRGTVAEENGKKKIRWNETHVMNPQAIGYSHSLTELIGGGGSGAVMRDGTLVFPMQAKNKYGQHVLLSMSFNPSDKKWRLSSETPGKGCRDPTLVKWEENEDDERLFMMAHCAGGYYDVYRSTENGGNWYTLGEPINRVWGNSHNRAGHGVQSGFTTAIIEGKKVMLVTAPVYAKDNEGGKGRLHLWVTDNARVYDVGPVSRENDDAAASSLLMKSGRDNKELVSLHEKKKGDGSYNLVAVRLTEKLERIKKVVKTWADLDSALQSCSSVSIGTVGLPKKGMCNGRVPTERLVGFLSGNSTQTEWRDEYLCVNATVTNGERRVPNGLTFKGSGAGAVWPVGDMGQTVPYYFANNEFTLVATVSIHEVPKGDSSSIPLMGVRMNDTDSTVLFGLSYTHDKKWLAIPENSGNMEDVDYWEPNKTYQVVLRMDSDFWTVIVDKREIHHKKYDASLFDLHRISHFYIGGDSKDQSATGGHVTVTNVMLYNEKLFGSELYELNASKVTIPSLGAEKQPTGPVNGTGLSVAPESNSKESTASHEELTEDDTDKQEEGIVHDLVPAV\n",
      "-----------\n",
      "PPSTVAGGSSVSESAIAAQSAENSLPENNAQFHQGETSQQTTPHEAKESMQRDSDVQPRE\n",
      "\n",
      "MLSRVAAVKAPNKHNRRRVTGSSGRRREGRVSEQQMPNMSRRVFTSAVLLLLVFVLMCCDVGGAHAGESNVKKAVDALRGIKWEELDKWEEIDNAGGKYGSLFSPSLVEVQGHVFAIAEAHCTDGGKCSDVSLTGIASKHLDLSGVGSTEISAANAGASIFGTDLLKEESEGISARNGITRPTTLVLGDSVYMLLGNYRRRAAGTQLTKIQGKNERGLLLVRGTVAEENGKKKIRWNETHVMNPQAIGYSHSLTELIGGGGSGAVMRDGTLVFPMQAKNKYGQHVLLSMSFNPSDKKWRLSSETPGKGCRDPTLVKWEENEDDERLFMMAHCAGGYYDVYRSTENGGNWYTLGEPINRVWGNSHNRAGHGVQSGFTTAIIEGKKVMLVTAPVYAKDNEGGKGRLHLWVTDNARVYDVGPVSRENDDAAASSLLMKSGRDNKELVSLHEKKKGDGSYNLVAVRLTEKLERIKKVVKTWADLDSALQSCSSVSIGTVGLPKKGMCNGRVPTERLVGFLSGNSTQTEWRDEYLCVNATVTNGERRVPNGLTFKGSGAGAVWPVGDMGQTVPYYFANNEFTLVATVSIHEVPKGDSSSIPLMGVRMNDTDSTVLFGLSYTHDKKWLAIPENSGNMEDVDYWEPNKTYQVVLRMDSDFWTVIVDKREIHHKKYDASLFDLHRISHFYIGGDSKDQSATGGHVTVTNVMLYNEKLFGSELYELNASKVTIPSLGAEKQPTGPVNGTGLSVAPESNSKESTASHEELTEDDTDKQEEGIVHDLVPAVPPSTVAGGSSVSESAIAAQSAENSLPENNAQFHQGETSQQTTPHEAKESMQRDSDVQPRE\n",
      "-----------\n",
      "LPSTKSTEVADVEGSAESNDTQQPVEEGEADDRSGGSTSSVGASLSMDTATETVGSEHQV\n",
      "\n",
      "MLSRVAAVKAPNKHNRRRVTGSSGRRREGRVSEQQMPNMSRRVFTSAVLLLLVFVLMCCDVGGAHAGESNVKKAVDALRGIKWEELDKWEEIDNAGGKYGSLFSPSLVEVQGHVFAIAEAHCTDGGKCSDVSLTGIASKHLDLSGVGSTEISAANAGASIFGTDLLKEESEGISARNGITRPTTLVLGDSVYMLLGNYRRRAAGTQLTKIQGKNERGLLLVRGTVAEENGKKKIRWNETHVMNPQAIGYSHSLTELIGGGGSGAVMRDGTLVFPMQAKNKYGQHVLLSMSFNPSDKKWRLSSETPGKGCRDPTLVKWEENEDDERLFMMAHCAGGYYDVYRSTENGGNWYTLGEPINRVWGNSHNRAGHGVQSGFTTAIIEGKKVMLVTAPVYAKDNEGGKGRLHLWVTDNARVYDVGPVSRENDDAAASSLLMKSGRDNKELVSLHEKKKGDGSYNLVAVRLTEKLERIKKVVKTWADLDSALQSCSSVSIGTVGLPKKGMCNGRVPTERLVGFLSGNSTQTEWRDEYLCVNATVTNGERRVPNGLTFKGSGAGAVWPVGDMGQTVPYYFANNEFTLVATVSIHEVPKGDSSSIPLMGVRMNDTDSTVLFGLSYTHDKKWLAIPENSGNMEDVDYWEPNKTYQVVLRMDSDFWTVIVDKREIHHKKYDASLFDLHRISHFYIGGDSKDQSATGGHVTVTNVMLYNEKLFGSELYELNASKVTIPSLGAEKQPTGPVNGTGLSVAPESNSKESTASHEELTEDDTDKQEEGIVHDLVPAVPPSTVAGGSSVSESAIAAQSAENSLPENNAQFHQGETSQQTTPHEAKESMQRDSDVQPRELPSTKSTEVADVEGSAESNDTQQPVEEGEADDRSGGSTSSVGASLSMDTATETVGSEHQV\n",
      "-----------\n",
      "QQSTEPATENDDVRSTGTGTTGAEESLSLEAGDSDSERTMGSDSSLTSSKSDAEPTSAED\n",
      "\n",
      "MLSRVAAVKAPNKHNRRRVTGSSGRRREGRVSEQQMPNMSRRVFTSAVLLLLVFVLMCCDVGGAHAGESNVKKAVDALRGIKWEELDKWEEIDNAGGKYGSLFSPSLVEVQGHVFAIAEAHCTDGGKCSDVSLTGIASKHLDLSGVGSTEISAANAGASIFGTDLLKEESEGISARNGITRPTTLVLGDSVYMLLGNYRRRAAGTQLTKIQGKNERGLLLVRGTVAEENGKKKIRWNETHVMNPQAIGYSHSLTELIGGGGSGAVMRDGTLVFPMQAKNKYGQHVLLSMSFNPSDKKWRLSSETPGKGCRDPTLVKWEENEDDERLFMMAHCAGGYYDVYRSTENGGNWYTLGEPINRVWGNSHNRAGHGVQSGFTTAIIEGKKVMLVTAPVYAKDNEGGKGRLHLWVTDNARVYDVGPVSRENDDAAASSLLMKSGRDNKELVSLHEKKKGDGSYNLVAVRLTEKLERIKKVVKTWADLDSALQSCSSVSIGTVGLPKKGMCNGRVPTERLVGFLSGNSTQTEWRDEYLCVNATVTNGERRVPNGLTFKGSGAGAVWPVGDMGQTVPYYFANNEFTLVATVSIHEVPKGDSSSIPLMGVRMNDTDSTVLFGLSYTHDKKWLAIPENSGNMEDVDYWEPNKTYQVVLRMDSDFWTVIVDKREIHHKKYDASLFDLHRISHFYIGGDSKDQSATGGHVTVTNVMLYNEKLFGSELYELNASKVTIPSLGAEKQPTGPVNGTGLSVAPESNSKESTASHEELTEDDTDKQEEGIVHDLVPAVPPSTVAGGSSVSESAIAAQSAENSLPENNAQFHQGETSQQTTPHEAKESMQRDSDVQPRELPSTKSTEVADVEGSAESNDTQQPVEEGEADDRSGGSTSSVGASLSMDTATETVGSEHQVQQSTEPATENDDVRSTGTGTTGAEESLSLEAGDSDSERTMGSDSSLTSSKSDAEPTSAED\n",
      "-----------\n",
      "TDNISWTEGAEFSFEDVKEVPQTVDTAPENTNTTPGGEGIPSTKGAARHSDNDTFTGEIA\n",
      "\n",
      "MLSRVAAVKAPNKHNRRRVTGSSGRRREGRVSEQQMPNMSRRVFTSAVLLLLVFVLMCCDVGGAHAGESNVKKAVDALRGIKWEELDKWEEIDNAGGKYGSLFSPSLVEVQGHVFAIAEAHCTDGGKCSDVSLTGIASKHLDLSGVGSTEISAANAGASIFGTDLLKEESEGISARNGITRPTTLVLGDSVYMLLGNYRRRAAGTQLTKIQGKNERGLLLVRGTVAEENGKKKIRWNETHVMNPQAIGYSHSLTELIGGGGSGAVMRDGTLVFPMQAKNKYGQHVLLSMSFNPSDKKWRLSSETPGKGCRDPTLVKWEENEDDERLFMMAHCAGGYYDVYRSTENGGNWYTLGEPINRVWGNSHNRAGHGVQSGFTTAIIEGKKVMLVTAPVYAKDNEGGKGRLHLWVTDNARVYDVGPVSRENDDAAASSLLMKSGRDNKELVSLHEKKKGDGSYNLVAVRLTEKLERIKKVVKTWADLDSALQSCSSVSIGTVGLPKKGMCNGRVPTERLVGFLSGNSTQTEWRDEYLCVNATVTNGERRVPNGLTFKGSGAGAVWPVGDMGQTVPYYFANNEFTLVATVSIHEVPKGDSSSIPLMGVRMNDTDSTVLFGLSYTHDKKWLAIPENSGNMEDVDYWEPNKTYQVVLRMDSDFWTVIVDKREIHHKKYDASLFDLHRISHFYIGGDSKDQSATGGHVTVTNVMLYNEKLFGSELYELNASKVTIPSLGAEKQPTGPVNGTGLSVAPESNSKESTASHEELTEDDTDKQEEGIVHDLVPAVPPSTVAGGSSVSESAIAAQSAENSLPENNAQFHQGETSQQTTPHEAKESMQRDSDVQPRELPSTKSTEVADVEGSAESNDTQQPVEEGEADDRSGGSTSSVGASLSMDTATETVGSEHQVQQSTEPATENDDVRSTGTGTTGAEESLSLEAGDSDSERTMGSDSSLTSSKSDAEPTSAEDTDNISWTEGAEFSFEDVKEVPQTVDTAPENTNTTPGGEGIPSTKGAARHSDNDTFTGEIA\n",
      "-----------\n",
      "ELLSMGLNHDSTVHVCVSRVLLLLLLLGLWGIVAL\n",
      "\n",
      "MLSRVAAVKAPNKHNRRRVTGSSGRRREGRVSEQQMPNMSRRVFTSAVLLLLVFVLMCCDVGGAHAGESNVKKAVDALRGIKWEELDKWEEIDNAGGKYGSLFSPSLVEVQGHVFAIAEAHCTDGGKCSDVSLTGIASKHLDLSGVGSTEISAANAGASIFGTDLLKEESEGISARNGITRPTTLVLGDSVYMLLGNYRRRAAGTQLTKIQGKNERGLLLVRGTVAEENGKKKIRWNETHVMNPQAIGYSHSLTELIGGGGSGAVMRDGTLVFPMQAKNKYGQHVLLSMSFNPSDKKWRLSSETPGKGCRDPTLVKWEENEDDERLFMMAHCAGGYYDVYRSTENGGNWYTLGEPINRVWGNSHNRAGHGVQSGFTTAIIEGKKVMLVTAPVYAKDNEGGKGRLHLWVTDNARVYDVGPVSRENDDAAASSLLMKSGRDNKELVSLHEKKKGDGSYNLVAVRLTEKLERIKKVVKTWADLDSALQSCSSVSIGTVGLPKKGMCNGRVPTERLVGFLSGNSTQTEWRDEYLCVNATVTNGERRVPNGLTFKGSGAGAVWPVGDMGQTVPYYFANNEFTLVATVSIHEVPKGDSSSIPLMGVRMNDTDSTVLFGLSYTHDKKWLAIPENSGNMEDVDYWEPNKTYQVVLRMDSDFWTVIVDKREIHHKKYDASLFDLHRISHFYIGGDSKDQSATGGHVTVTNVMLYNEKLFGSELYELNASKVTIPSLGAEKQPTGPVNGTGLSVAPESNSKESTASHEELTEDDTDKQEEGIVHDLVPAVPPSTVAGGSSVSESAIAAQSAENSLPENNAQFHQGETSQQTTPHEAKESMQRDSDVQPRELPSTKSTEVADVEGSAESNDTQQPVEEGEADDRSGGSTSSVGASLSMDTATETVGSEHQVQQSTEPATENDDVRSTGTGTTGAEESLSLEAGDSDSERTMGSDSSLTSSKSDAEPTSAEDTDNISWTEGAEFSFEDVKEVPQTVDTAPENTNTTPGGEGIPSTKGAARHSDNDTFTGEIAELLSMGLNHDSTVHVCVSRVLLLLLLLGLWGIVAL\n",
      "-----------\n"
     ]
    }
   ],
   "source": [
    "cabecalho = refArquivoEntrada.readline()[1:-1]\n",
    "sequencia = \"\"\n",
    "\n",
    "for linha in refArquivoEntrada:\n",
    "    sequencia = sequencia + linha.replace('\\n','')"
   ]
  },
  {
   "cell_type": "markdown",
   "metadata": {},
   "source": [
    "- Agora já temos o cabeçalho e a sequência. Vamos escrever no arquivo de saída usando como separador de colunas a tabulação (``\\t``):"
   ]
  },
  {
   "cell_type": "code",
   "execution_count": 44,
   "metadata": {},
   "outputs": [
    {
     "data": {
      "text/plain": [
       "1424"
      ]
     },
     "execution_count": 44,
     "metadata": {},
     "output_type": "execute_result"
    }
   ],
   "source": [
    "refArquivoSaida.write (\"%s\\t%s\" % (cabecalho,sequencia))"
   ]
  },
  {
   "cell_type": "markdown",
   "metadata": {},
   "source": [
    "- Finalmente, fechamos os arquivos de entrada e saída:"
   ]
  },
  {
   "cell_type": "code",
   "execution_count": 45,
   "metadata": {},
   "outputs": [],
   "source": [
    "refArquivoEntrada.close()\n",
    "refArquivoSaida.close()"
   ]
  },
  {
   "cell_type": "markdown",
   "metadata": {},
   "source": [
    "## Continua...\n",
    "\n",
    "- Vimos um caso específico de leitura e escrita de arquivos em Python utilizando um arquivo no formato FASTA;\n",
    "- Os princípios são os mesmos para qualquer arquivo, como será exemplificado com arquivos no formato CSV, isto é, arquivo com dados tabulares separados por vírgula.\n",
    "- Num segundo momento, vamos ver como utilizar bibliotecas otimizadas para manipular determinados tipos de arquivos."
   ]
  },
  {
   "cell_type": "code",
   "execution_count": null,
   "metadata": {},
   "outputs": [],
   "source": []
  }
 ],
 "metadata": {
  "kernelspec": {
   "display_name": "Python 3",
   "language": "python",
   "name": "python3"
  },
  "language_info": {
   "codemirror_mode": {
    "name": "ipython",
    "version": 3
   },
   "file_extension": ".py",
   "mimetype": "text/x-python",
   "name": "python",
   "nbconvert_exporter": "python",
   "pygments_lexer": "ipython3",
   "version": "3.9.1"
  }
 },
 "nbformat": 4,
 "nbformat_minor": 4
}
