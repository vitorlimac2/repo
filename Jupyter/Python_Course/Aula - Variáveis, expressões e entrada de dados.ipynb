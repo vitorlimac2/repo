{
 "cells": [
  {
   "cell_type": "markdown",
   "metadata": {},
   "source": [
    "\n",
    "# O que são variáveis?\n",
    "\n",
    "- Variáveis são nomes dados a endereços de memória onde o sistema operacional armazena um valor;\n",
    "- O tipo da variável define a natureza do valor armazenado pela variável;\n",
    "\n",
    "***\n",
    "\n",
    "# Variáveis em Python!\n",
    "- Podem armazenar diferentes valores de acordo com o tipo de variável;\n",
    "- Tipos primitivos de variável:\n",
    " - Variáveis numéricas: números inteiros (..., -3, -2 , -1, 0, 1, 2, 3, …) e números com ponto flutuante (3.1, 0.4, etc);\n",
    " - Variáveis lógicas: True e False;\n",
    " - Strings: cadeias de caracteres (“uma string” ou 'uma string');\n",
    "- Tipos não-primitivos:\n",
    " - arranjos\n",
    " - listas\n",
    " - tuplas\n",
    " - dicionários\n",
    " - conjuntos\n",
    " - arquivos\n",
    "- O operador de atribuição “=” armazena um valor na variável;\n",
    "\n",
    "***\n",
    "\n",
    "# Nomeando variáveis\n",
    "- Nomes de variáveis devem ser descritivos do seu conteúdo, ou seja, deve \"fazer sentido\" para outros desenvolvedores;\n",
    "- Podem conter letras, números e sublinhado (\"_\");\n",
    "- 💡 A não ser você tenha certeza que somente pessoas que falam seu idioma vão ler seu código, use a língua inglesa para definir nomes de variáveis; \n",
    "- Python é _case sentitive_;\n",
    "- Não podem conter espaço em branco:"
   ]
  },
  {
   "cell_type": "code",
   "execution_count": 3,
   "metadata": {},
   "outputs": [
    {
     "ename": "SyntaxError",
     "evalue": "invalid syntax (<ipython-input-3-da3e4716e5fc>, line 1)",
     "output_type": "error",
     "traceback": [
      "\u001b[1;36m  File \u001b[1;32m\"<ipython-input-3-da3e4716e5fc>\"\u001b[1;36m, line \u001b[1;32m1\u001b[0m\n\u001b[1;33m    meu inteiro = 10\u001b[0m\n\u001b[1;37m        ^\u001b[0m\n\u001b[1;31mSyntaxError\u001b[0m\u001b[1;31m:\u001b[0m invalid syntax\n"
     ]
    }
   ],
   "source": [
    "meu inteiro = 10"
   ]
  },
  {
   "cell_type": "markdown",
   "metadata": {},
   "source": [
    "- Não podem iniciar com números:"
   ]
  },
  {
   "cell_type": "code",
   "execution_count": 4,
   "metadata": {},
   "outputs": [
    {
     "ename": "SyntaxError",
     "evalue": "invalid syntax (<ipython-input-4-38af1aab33a5>, line 1)",
     "output_type": "error",
     "traceback": [
      "\u001b[1;36m  File \u001b[1;32m\"<ipython-input-4-38af1aab33a5>\"\u001b[1;36m, line \u001b[1;32m1\u001b[0m\n\u001b[1;33m    1produto = \"ponteira\"\u001b[0m\n\u001b[1;37m     ^\u001b[0m\n\u001b[1;31mSyntaxError\u001b[0m\u001b[1;31m:\u001b[0m invalid syntax\n"
     ]
    }
   ],
   "source": [
    "1produto = \"ponteira\""
   ]
  },
  {
   "cell_type": "markdown",
   "metadata": {},
   "source": [
    "- Python 3 permite o uso de acentuação"
   ]
  },
  {
   "cell_type": "code",
   "execution_count": 3,
   "metadata": {},
   "outputs": [],
   "source": [
    "memória = \"5GB\""
   ]
  },
  {
   "cell_type": "markdown",
   "metadata": {},
   "source": [
    "- Evite o usar nomes de variáveis com letra “i” maiúscula, \"o\" maiúsculo ou “L” minúscula (dependendo da fonte do editor, pode confundir). São visualmente idênticos!\n",
    "  - ldI é diferente Idl\n",
    "  - Ode é diferente de 0de"
   ]
  },
  {
   "cell_type": "markdown",
   "metadata": {},
   "source": [
    " - Exemplos permitidos:"
   ]
  },
  {
   "cell_type": "code",
   "execution_count": 2,
   "metadata": {},
   "outputs": [],
   "source": [
    "x1 = 1\n",
    "__teste = 52 \n",
    "Juros_composto = 1.43\n",
    "solicitacaoCompra = 10986"
   ]
  },
  {
   "cell_type": "markdown",
   "metadata": {},
   "source": [
    "- Outros estilos de nomes para variáveis:\n",
    " - b (uma letra minúscula)\n",
    " - B (uma letra maiúscula)\n",
    " - tudominusculo\n",
    " - tudo_minusculo_com_underscore\n",
    " - TUDOMAIUSCULO ou TUDO_MAIUSCULO_COM_UNDERSCORE (sugiro usar para constantes)\n",
    " - PalavrasIniciadasComMaiusculo\n",
    " - primeiraPalavraMinuscula\n",
    " - Palavras_Iniciadas_Com_Maiusculo_E_Underscore (não faça isso, por favor)"
   ]
  },
  {
   "cell_type": "markdown",
   "metadata": {},
   "source": [
    "***\n",
    "\n",
    "# Operadores matemáticos\n",
    "- adição (+), subtração (-), multiplicação (\\*) e divisão (/ e %);\n",
    " - Operador %: resto da divisão inteira"
   ]
  },
  {
   "cell_type": "code",
   "execution_count": 6,
   "metadata": {},
   "outputs": [
    {
     "data": {
      "text/plain": [
       "1"
      ]
     },
     "execution_count": 6,
     "metadata": {},
     "output_type": "execute_result"
    }
   ],
   "source": [
    "10 % 3"
   ]
  },
  {
   "cell_type": "code",
   "execution_count": 8,
   "metadata": {},
   "outputs": [
    {
     "data": {
      "text/plain": [
       "7"
      ]
     },
     "execution_count": 8,
     "metadata": {},
     "output_type": "execute_result"
    }
   ],
   "source": [
    "63 % 8"
   ]
  },
  {
   "cell_type": "markdown",
   "metadata": {},
   "source": [
    "- Parênteses são utilizados para dar prioridades às operações;\n",
    "- Prioridades:\n",
    "<ol>\n",
    "  <li>Exponenciação (**)</li>\n",
    "  <li>Multiplicação (*) e divisão (/ e %)</li>\n",
    "  <li>Adição (+) e subtração (-)</li> \n",
    "</ol>"
   ]
  },
  {
   "cell_type": "code",
   "execution_count": 9,
   "metadata": {},
   "outputs": [
    {
     "data": {
      "text/plain": [
       "1.09375"
      ]
     },
     "execution_count": 9,
     "metadata": {},
     "output_type": "execute_result"
    }
   ],
   "source": [
    "1 + 2 * 3 / 4 ** 3"
   ]
  },
  {
   "cell_type": "code",
   "execution_count": 10,
   "metadata": {},
   "outputs": [
    {
     "data": {
      "text/plain": [
       "0.140625"
      ]
     },
     "execution_count": 10,
     "metadata": {},
     "output_type": "execute_result"
    }
   ],
   "source": [
    "(1 + 2) * 3 / 4 ** 3"
   ]
  },
  {
   "cell_type": "code",
   "execution_count": 14,
   "metadata": {},
   "outputs": [
    {
     "data": {
      "text/plain": [
       "4.375"
      ]
     },
     "execution_count": 14,
     "metadata": {},
     "output_type": "execute_result"
    }
   ],
   "source": [
    "1 + (2 * 3 / 4) ** 3"
   ]
  },
  {
   "cell_type": "markdown",
   "metadata": {},
   "source": [
    "***\n",
    "## Alterando valores de variáveis"
   ]
  },
  {
   "cell_type": "code",
   "execution_count": 15,
   "metadata": {},
   "outputs": [
    {
     "name": "stdout",
     "output_type": "stream",
     "text": [
      "1\n"
     ]
    }
   ],
   "source": [
    "saldoFinal = 0\n",
    "adicional = 1\n",
    "saldoFinal = saldoFinal + adicional\n",
    "print(saldoFinal)"
   ]
  },
  {
   "cell_type": "code",
   "execution_count": 16,
   "metadata": {},
   "outputs": [
    {
     "name": "stdout",
     "output_type": "stream",
     "text": [
      "5\n"
     ]
    }
   ],
   "source": [
    "adicional = 4\n",
    "saldoFinal = saldoFinal + adicional\n",
    "print(saldoFinal)"
   ]
  },
  {
   "cell_type": "code",
   "execution_count": 17,
   "metadata": {},
   "outputs": [
    {
     "name": "stdout",
     "output_type": "stream",
     "text": [
      "8.5\n"
     ]
    }
   ],
   "source": [
    "adicional = 3.5\n",
    "saldoFinal = saldoFinal + adicional\n",
    "adicional = 0\n",
    "print(saldoFinal)"
   ]
  },
  {
   "cell_type": "code",
   "execution_count": 18,
   "metadata": {},
   "outputs": [
    {
     "name": "stdout",
     "output_type": "stream",
     "text": [
      "0\n"
     ]
    }
   ],
   "source": [
    "saldoFinal = 0\n",
    "print(saldoFinal)"
   ]
  },
  {
   "cell_type": "markdown",
   "metadata": {},
   "source": [
    "***\n",
    "# Operadores relacionais\n",
    "| Operador | Operação |\n",
    "| --- | --- |\n",
    "| == | igualdade (=) |\n",
    "| >  | maior que (>) |\n",
    "| <  | menor que (<) |\n",
    "| != | diferente (≠) |\n",
    "| >= | maior ou igual (≥) |\n",
    "| <= | menor ou igual (≤) |"
   ]
  },
  {
   "cell_type": "code",
   "execution_count": 21,
   "metadata": {},
   "outputs": [
    {
     "data": {
      "text/plain": [
       "True"
      ]
     },
     "execution_count": 21,
     "metadata": {},
     "output_type": "execute_result"
    }
   ],
   "source": [
    "# isto é um comentário em uma linha\n",
    "\n",
    "\"\"\" \n",
    "Isto é um comentário em múltiplas linhas.\n",
    "\n",
    "\"\"\"\n",
    "\n",
    "4 == 4"
   ]
  },
  {
   "cell_type": "code",
   "execution_count": 22,
   "metadata": {},
   "outputs": [
    {
     "name": "stdout",
     "output_type": "stream",
     "text": [
      "True\n"
     ]
    }
   ],
   "source": [
    "## por exemplo, testando no código meuCodigo.py\n",
    "\n",
    "print(4 == 4)"
   ]
  },
  {
   "cell_type": "code",
   "execution_count": 23,
   "metadata": {},
   "outputs": [
    {
     "data": {
      "text/plain": [
       "True"
      ]
     },
     "execution_count": 23,
     "metadata": {},
     "output_type": "execute_result"
    }
   ],
   "source": [
    "4 > 3"
   ]
  },
  {
   "cell_type": "code",
   "execution_count": 24,
   "metadata": {},
   "outputs": [
    {
     "data": {
      "text/plain": [
       "False"
      ]
     },
     "execution_count": 24,
     "metadata": {},
     "output_type": "execute_result"
    }
   ],
   "source": [
    "4 < 3"
   ]
  },
  {
   "cell_type": "code",
   "execution_count": 25,
   "metadata": {},
   "outputs": [
    {
     "data": {
      "text/plain": [
       "True"
      ]
     },
     "execution_count": 25,
     "metadata": {},
     "output_type": "execute_result"
    }
   ],
   "source": [
    "4 != 3"
   ]
  },
  {
   "cell_type": "code",
   "execution_count": 26,
   "metadata": {},
   "outputs": [
    {
     "data": {
      "text/plain": [
       "False"
      ]
     },
     "execution_count": 26,
     "metadata": {},
     "output_type": "execute_result"
    }
   ],
   "source": [
    "4 >= 4.1"
   ]
  },
  {
   "cell_type": "code",
   "execution_count": 27,
   "metadata": {},
   "outputs": [
    {
     "data": {
      "text/plain": [
       "True"
      ]
     },
     "execution_count": 27,
     "metadata": {},
     "output_type": "execute_result"
    }
   ],
   "source": [
    "4 / 2 <= 3"
   ]
  },
  {
   "cell_type": "code",
   "execution_count": 29,
   "metadata": {},
   "outputs": [
    {
     "data": {
      "text/plain": [
       "4"
      ]
     },
     "execution_count": 29,
     "metadata": {},
     "output_type": "execute_result"
    }
   ],
   "source": [
    "round(4.05) == 4"
   ]
  },
  {
   "cell_type": "markdown",
   "metadata": {},
   "source": [
    "***\n",
    "# Operadores lógicos\n",
    "\n",
    "\n",
    "- not (negação);\n",
    "\n",
    "| A   | not A |\n",
    "| :-: | :-:   |\n",
    "|False|True   |\n",
    "|True |False  |\n",
    "\n",
    "- or (disjunção);\n",
    "\n",
    "| A   | B   | A or B |\n",
    "| :-: | :-: | :-:    |\n",
    "|False|False| False  |\n",
    "|False|True | True  |\n",
    "|True |False| True  |\n",
    "|True |True | True |\n",
    "\n",
    "- and (conjunção);\n",
    "\n",
    "| A   | B   | A and B|\n",
    "| :-: | :-: | :-:    |\n",
    "|False|False| False  |\n",
    "|False|True | False  |\n",
    "|True |False| False  |\n",
    "|True |True | True |\n",
    "\n",
    "- Prioridades:\n",
    "<ol>\n",
    "  <li>Avalia-se o operador <b>not</b>;</li>\n",
    "  <li>Em seguida, o operador <b>and</b>;</li>\n",
    "  <li>Por fim, o operador <b>or</b>;</li> \n",
    "</ol>\n",
    "\n",
    "- Operadores lógicos podem ser combinados com operadores relacionais:"
   ]
  },
  {
   "cell_type": "code",
   "execution_count": 30,
   "metadata": {},
   "outputs": [
    {
     "name": "stdout",
     "output_type": "stream",
     "text": [
      "False\n"
     ]
    }
   ],
   "source": [
    "a = 10\n",
    "b = 5\n",
    "print(a >= 80*2 and b < 5)"
   ]
  },
  {
   "cell_type": "markdown",
   "metadata": {},
   "source": [
    "***\n",
    "# Strings\n",
    "- São cadeias de caracteres: sequência de símbolos como letras, números, sinais de pontuação, espaço em branco, tabulações, etc.\n",
    "- Por exemplo: “A”, “ATCGAATT”, 'uma frase, por exemplo.'\n",
    "- São imutáveis, ou seja, não podemos forçar uma substituição de um caractere por outro.\n",
    "- Aspas (e aspas simples) são utilizadas para delimitar a string;\n",
    "- Cada letra, número, símbolo, etc ocupa uma posição (índice);\n",
    "- A string possui um comprimento ou tamanho (pode ser acessado com a função ``len``)\n",
    "- Os índices variam de __0 ao comprimento da string menos 1__ (_zero-based index_);"
   ]
  },
  {
   "cell_type": "code",
   "execution_count": 31,
   "metadata": {},
   "outputs": [
    {
     "data": {
      "text/plain": [
       "8"
      ]
     },
     "execution_count": 31,
     "metadata": {},
     "output_type": "execute_result"
    }
   ],
   "source": [
    "s = \"ATCGAATT\"\n",
    "len(s)"
   ]
  },
  {
   "cell_type": "code",
   "execution_count": 32,
   "metadata": {},
   "outputs": [
    {
     "data": {
      "text/plain": [
       "'T'"
      ]
     },
     "execution_count": 32,
     "metadata": {},
     "output_type": "execute_result"
    }
   ],
   "source": [
    "s[0]"
   ]
  },
  {
   "cell_type": "code",
   "execution_count": 21,
   "metadata": {},
   "outputs": [
    {
     "data": {
      "text/plain": [
       "'T'"
      ]
     },
     "execution_count": 21,
     "metadata": {},
     "output_type": "execute_result"
    }
   ],
   "source": [
    "s[1]"
   ]
  },
  {
   "cell_type": "code",
   "execution_count": 35,
   "metadata": {},
   "outputs": [
    {
     "data": {
      "text/plain": [
       "0"
      ]
     },
     "execution_count": 35,
     "metadata": {},
     "output_type": "execute_result"
    }
   ],
   "source": [
    "len(\"\") # string vazia"
   ]
  },
  {
   "cell_type": "code",
   "execution_count": 23,
   "metadata": {},
   "outputs": [
    {
     "data": {
      "text/plain": [
       "23"
      ]
     },
     "execution_count": 23,
     "metadata": {},
     "output_type": "execute_result"
    }
   ],
   "source": [
    "len(\"uma frase, por exemplo.\")"
   ]
  },
  {
   "cell_type": "code",
   "execution_count": 36,
   "metadata": {},
   "outputs": [
    {
     "ename": "IndexError",
     "evalue": "string index out of range",
     "output_type": "error",
     "traceback": [
      "\u001b[1;31m---------------------------------------------------------------------------\u001b[0m",
      "\u001b[1;31mIndexError\u001b[0m                                Traceback (most recent call last)",
      "\u001b[1;32m<ipython-input-36-5cfd660ba969>\u001b[0m in \u001b[0;36m<module>\u001b[1;34m\u001b[0m\n\u001b[1;32m----> 1\u001b[1;33m \u001b[0ms\u001b[0m\u001b[1;33m[\u001b[0m\u001b[1;36m8\u001b[0m\u001b[1;33m]\u001b[0m\u001b[1;33m\u001b[0m\u001b[1;33m\u001b[0m\u001b[0m\n\u001b[0m",
      "\u001b[1;31mIndexError\u001b[0m: string index out of range"
     ]
    }
   ],
   "source": [
    "s[8]"
   ]
  },
  {
   "cell_type": "markdown",
   "metadata": {},
   "source": [
    "---\n",
    "\n",
    "Como dito anteriormente, strings são imutáveis. Veja o exemplo abaixo:"
   ]
  },
  {
   "cell_type": "code",
   "execution_count": 37,
   "metadata": {},
   "outputs": [
    {
     "name": "stdout",
     "output_type": "stream",
     "text": [
      "ATCGAATT\n"
     ]
    }
   ],
   "source": [
    "print(s)"
   ]
  },
  {
   "cell_type": "code",
   "execution_count": 38,
   "metadata": {},
   "outputs": [
    {
     "name": "stdout",
     "output_type": "stream",
     "text": [
      "A\n"
     ]
    }
   ],
   "source": [
    "print(s[0])"
   ]
  },
  {
   "cell_type": "code",
   "execution_count": 39,
   "metadata": {},
   "outputs": [
    {
     "ename": "TypeError",
     "evalue": "'str' object does not support item assignment",
     "output_type": "error",
     "traceback": [
      "\u001b[1;31m---------------------------------------------------------------------------\u001b[0m",
      "\u001b[1;31mTypeError\u001b[0m                                 Traceback (most recent call last)",
      "\u001b[1;32m<ipython-input-39-9e42fc928522>\u001b[0m in \u001b[0;36m<module>\u001b[1;34m\u001b[0m\n\u001b[1;32m----> 1\u001b[1;33m \u001b[0ms\u001b[0m\u001b[1;33m[\u001b[0m\u001b[1;36m0\u001b[0m\u001b[1;33m]\u001b[0m \u001b[1;33m=\u001b[0m \u001b[1;34m'C'\u001b[0m\u001b[1;33m\u001b[0m\u001b[1;33m\u001b[0m\u001b[0m\n\u001b[0m",
      "\u001b[1;31mTypeError\u001b[0m: 'str' object does not support item assignment"
     ]
    }
   ],
   "source": [
    "s[0] = 'C'"
   ]
  },
  {
   "cell_type": "markdown",
   "metadata": {},
   "source": [
    "---\n",
    "\n",
    "### Listas e strings\n",
    "\n",
    "- Uma lista é uma estrutura de dados mutável que armazena valores que são acessados por índices (mais detalhes nas próximas aulas).\n",
    "- Podemos converter uma string em lista usando a função __list__:"
   ]
  },
  {
   "cell_type": "code",
   "execution_count": 40,
   "metadata": {},
   "outputs": [
    {
     "name": "stdout",
     "output_type": "stream",
     "text": [
      "ATCGAATT\n",
      "['A', 'T', 'C', 'G', 'A', 'A', 'T', 'T']\n"
     ]
    }
   ],
   "source": [
    "L = list(s)\n",
    "print(s)\n",
    "print(L)"
   ]
  },
  {
   "cell_type": "code",
   "execution_count": 41,
   "metadata": {},
   "outputs": [
    {
     "name": "stdout",
     "output_type": "stream",
     "text": [
      "['C', 'T', 'C', 'G', 'A', 'A', 'T', 'T']\n"
     ]
    }
   ],
   "source": [
    "## Como a lista é mutável, ela permite a substituição de caracteres\n",
    "L[0] = 'C'\n",
    "print(L)"
   ]
  },
  {
   "cell_type": "markdown",
   "metadata": {},
   "source": [
    "- O método __join__ faz a operação inversa:"
   ]
  },
  {
   "cell_type": "code",
   "execution_count": 46,
   "metadata": {},
   "outputs": [
    {
     "name": "stdout",
     "output_type": "stream",
     "text": [
      "ATCGAATT\n",
      "['A', 'T', 'C', 'G', 'A', 'A', 'T', 'T']\n",
      "CTCGAATT\n"
     ]
    }
   ],
   "source": [
    "s_velho = \"ATCGAATT\"\n",
    "\n",
    "print(s_velho)\n",
    "\n",
    "s_lista = list(s_velho)\n",
    "\n",
    "print(s_lista)\n",
    "\n",
    "s_lista[0] = \"C\"\n",
    "\n",
    "s_novo = \"\".join(s_lista)\n",
    "\n",
    "print(s_novo)"
   ]
  },
  {
   "cell_type": "markdown",
   "metadata": {},
   "source": [
    "---\n",
    "\n",
    "#### Substituição de caracteres com o método replace\n",
    "\n",
    "- Vimos que strings são variáveis imutáveis e como exemplificado anteriormente, se tentamos modificar algum caractere diretamente temos um erro identificado pelo interpretador.\n",
    "- Isto não quer dizer que não podemos alterar seu conteúdo.\n",
    "- O método __replace(*string1*, *string2*, *rep*)__ pode receber duas strings como argumento, onde __string1__ é a substring buscada e __string2__ é a substring que substituirá a primeira. *rep* é opcional e indica quantas vezes queremos que a substituição seja feita. Por exemplo:"
   ]
  },
  {
   "cell_type": "code",
   "execution_count": 47,
   "metadata": {},
   "outputs": [
    {
     "name": "stdout",
     "output_type": "stream",
     "text": [
      "ATCGAATT\n"
     ]
    }
   ],
   "source": [
    "print(s)"
   ]
  },
  {
   "cell_type": "code",
   "execution_count": 8,
   "metadata": {},
   "outputs": [
    {
     "ename": "TypeError",
     "evalue": "'str' object does not support item assignment",
     "output_type": "error",
     "traceback": [
      "\u001b[1;31m---------------------------------------------------------------------------\u001b[0m",
      "\u001b[1;31mTypeError\u001b[0m                                 Traceback (most recent call last)",
      "\u001b[1;32m<ipython-input-8-cf82eaeacf19>\u001b[0m in \u001b[0;36m<module>\u001b[1;34m\u001b[0m\n\u001b[0;32m      1\u001b[0m \u001b[0ms\u001b[0m \u001b[1;33m=\u001b[0m \u001b[1;34m\"JULIANA\"\u001b[0m\u001b[1;33m\u001b[0m\u001b[1;33m\u001b[0m\u001b[0m\n\u001b[1;32m----> 2\u001b[1;33m \u001b[0ms\u001b[0m\u001b[1;33m[\u001b[0m\u001b[1;36m5\u001b[0m\u001b[1;33m]\u001b[0m \u001b[1;33m=\u001b[0m \u001b[1;34m\"\"\u001b[0m\u001b[1;33m\u001b[0m\u001b[1;33m\u001b[0m\u001b[0m\n\u001b[0m",
      "\u001b[1;31mTypeError\u001b[0m: 'str' object does not support item assignment"
     ]
    }
   ],
   "source": [
    "s = \"JULIANA\"\n",
    "novo_s = s.replace(\"A\", \"\")\n",
    "print(novo_s)"
   ]
  },
  {
   "cell_type": "code",
   "execution_count": 54,
   "metadata": {},
   "outputs": [
    {
     "data": {
      "text/plain": [
       "'Hello Mundo!'"
      ]
     },
     "execution_count": 54,
     "metadata": {},
     "output_type": "execute_result"
    }
   ],
   "source": [
    "m = \"Olá Mundo!\"\n",
    "m.replace(\"Olá\", \"Hello\")"
   ]
  },
  {
   "cell_type": "code",
   "execution_count": 55,
   "metadata": {},
   "outputs": [
    {
     "name": "stdout",
     "output_type": "stream",
     "text": [
      "Olá Mundo!\n"
     ]
    }
   ],
   "source": [
    "print(m) ## perceba que o conteúdo de m não foi alterado"
   ]
  },
  {
   "cell_type": "code",
   "execution_count": 68,
   "metadata": {},
   "outputs": [
    {
     "name": "stdout",
     "output_type": "stream",
     "text": [
      "Hello Mundo!\n"
     ]
    }
   ],
   "source": [
    "m = m.replace(\"Olá\", \"Hello\")\n",
    "print(m) ## agora o conteúdo foi alterado"
   ]
  },
  {
   "cell_type": "markdown",
   "metadata": {},
   "source": [
    "***\n",
    "## Concatenação\n",
    "- Usamos o operador + para concatenar strings;"
   ]
  },
  {
   "cell_type": "code",
   "execution_count": 56,
   "metadata": {},
   "outputs": [
    {
     "data": {
      "text/plain": [
       "'AAAACCCC'"
      ]
     },
     "execution_count": 56,
     "metadata": {},
     "output_type": "execute_result"
    }
   ],
   "source": [
    "\"AAAA\" + \"CCCC\""
   ]
  },
  {
   "cell_type": "code",
   "execution_count": 57,
   "metadata": {},
   "outputs": [
    {
     "data": {
      "text/plain": [
       "'ATCGTTTT'"
      ]
     },
     "execution_count": 57,
     "metadata": {},
     "output_type": "execute_result"
    }
   ],
   "source": [
    "s = \"ATCG\"\n",
    "y = \"TTTT\"\n",
    "s + y"
   ]
  },
  {
   "cell_type": "code",
   "execution_count": 58,
   "metadata": {},
   "outputs": [
    {
     "data": {
      "text/plain": [
       "'TTTTTTTTTTTT'"
      ]
     },
     "execution_count": 58,
     "metadata": {},
     "output_type": "execute_result"
    }
   ],
   "source": [
    "y * 3"
   ]
  },
  {
   "cell_type": "code",
   "execution_count": 59,
   "metadata": {},
   "outputs": [
    {
     "data": {
      "text/plain": [
       "'ATCG__________TTTT'"
      ]
     },
     "execution_count": 59,
     "metadata": {},
     "output_type": "execute_result"
    }
   ],
   "source": [
    "s + \"_\" * 10 + y"
   ]
  },
  {
   "cell_type": "markdown",
   "metadata": {},
   "source": [
    "***\n",
    "## Composição\n",
    "- Escrever strings compostas por variáveis;\n",
    "- Uma forma de personalizar a saída do programa;\n",
    "|    | tipo |\n",
    "| :-: | :- |\n",
    "| %s | string |\n",
    "| %d | inteiro|\n",
    "| %f | números com ponto decimal |\n"
   ]
  },
  {
   "cell_type": "code",
   "execution_count": 65,
   "metadata": {},
   "outputs": [
    {
     "name": "stdout",
     "output_type": "stream",
     "text": [
      "Meu nome é Vitor\n",
      "Meu nome é Vitor e idade 18\n"
     ]
    }
   ],
   "source": [
    "myName = \"Vitor\"\n",
    "idade = 18\n",
    "print(\"Meu nome é %s\" % myName)\n",
    "\n",
    "print(\"Meu nome é {} e idade {}\".format(myName, idade))\n"
   ]
  },
  {
   "cell_type": "code",
   "execution_count": 62,
   "metadata": {},
   "outputs": [
    {
     "name": "stdout",
     "output_type": "stream",
     "text": [
      "Meu nome é Vitor e eu tenho 18 anos.\n"
     ]
    }
   ],
   "source": [
    "print(\"Meu nome é %s e eu tenho %d anos.\" % (myName, idade))"
   ]
  },
  {
   "cell_type": "code",
   "execution_count": 63,
   "metadata": {},
   "outputs": [
    {
     "data": {
      "text/plain": [
       "'Idade = 18'"
      ]
     },
     "execution_count": 63,
     "metadata": {},
     "output_type": "execute_result"
    }
   ],
   "source": [
    "\"Idade = %d\" % idade"
   ]
  },
  {
   "cell_type": "code",
   "execution_count": 77,
   "metadata": {},
   "outputs": [
    {
     "data": {
      "text/plain": [
       "'Idade =    18'"
      ]
     },
     "execution_count": 77,
     "metadata": {},
     "output_type": "execute_result"
    }
   ],
   "source": [
    "\"Idade = %5d\" % idade"
   ]
  },
  {
   "cell_type": "code",
   "execution_count": 78,
   "metadata": {},
   "outputs": [
    {
     "data": {
      "text/plain": [
       "'Idade = 18   '"
      ]
     },
     "execution_count": 78,
     "metadata": {},
     "output_type": "execute_result"
    }
   ],
   "source": [
    "\"Idade = %-5d\" % idade"
   ]
  },
  {
   "cell_type": "code",
   "execution_count": 79,
   "metadata": {},
   "outputs": [
    {
     "data": {
      "text/plain": [
       "'Idade = 18.000000'"
      ]
     },
     "execution_count": 79,
     "metadata": {},
     "output_type": "execute_result"
    }
   ],
   "source": [
    "\"Idade = %f\" % idade"
   ]
  },
  {
   "cell_type": "code",
   "execution_count": 80,
   "metadata": {},
   "outputs": [
    {
     "data": {
      "text/plain": [
       "'Idade = 18.00'"
      ]
     },
     "execution_count": 80,
     "metadata": {},
     "output_type": "execute_result"
    }
   ],
   "source": [
    "\"Idade = %.2f\" % idade"
   ]
  },
  {
   "cell_type": "code",
   "execution_count": 81,
   "metadata": {},
   "outputs": [
    {
     "data": {
      "text/plain": [
       "'Idade = 00018'"
      ]
     },
     "execution_count": 81,
     "metadata": {},
     "output_type": "execute_result"
    }
   ],
   "source": [
    "\"Idade = %05d\" % idade"
   ]
  },
  {
   "cell_type": "markdown",
   "metadata": {},
   "source": [
    "🤐 Como usar o método ``format`` para formatar strings?"
   ]
  },
  {
   "cell_type": "markdown",
   "metadata": {},
   "source": [
    "***\n",
    "## Fatiamento\n",
    "- Obter substrings, ou seja, subsequências ou “partes” de uma string;\n",
    "- Utilizamos o “:” (dois pontos) para definir um intervalo:\n",
    " - s[X:Y]\n",
    " - X - posição de início\n",
    " - Y - posição de fim (não incluído)\n"
   ]
  },
  {
   "cell_type": "code",
   "execution_count": 66,
   "metadata": {},
   "outputs": [
    {
     "data": {
      "text/plain": [
       "'ATC'"
      ]
     },
     "execution_count": 66,
     "metadata": {},
     "output_type": "execute_result"
    }
   ],
   "source": [
    "s = \"ATCGAATTCC\"\n",
    "s[0:3]"
   ]
  },
  {
   "cell_type": "code",
   "execution_count": 83,
   "metadata": {},
   "outputs": [
    {
     "data": {
      "text/plain": [
       "'TC'"
      ]
     },
     "execution_count": 83,
     "metadata": {},
     "output_type": "execute_result"
    }
   ],
   "source": [
    "s[1:3]"
   ]
  },
  {
   "cell_type": "code",
   "execution_count": 84,
   "metadata": {},
   "outputs": [
    {
     "data": {
      "text/plain": [
       "'C'"
      ]
     },
     "execution_count": 84,
     "metadata": {},
     "output_type": "execute_result"
    }
   ],
   "source": [
    "s[2:3]"
   ]
  },
  {
   "cell_type": "code",
   "execution_count": 85,
   "metadata": {},
   "outputs": [
    {
     "data": {
      "text/plain": [
       "'ATC'"
      ]
     },
     "execution_count": 85,
     "metadata": {},
     "output_type": "execute_result"
    }
   ],
   "source": [
    "# Imprimindo substrings omitindo um dos intervalos\n",
    "s[:3]"
   ]
  },
  {
   "cell_type": "code",
   "execution_count": 86,
   "metadata": {},
   "outputs": [
    {
     "data": {
      "text/plain": [
       "'GAATTCC'"
      ]
     },
     "execution_count": 86,
     "metadata": {},
     "output_type": "execute_result"
    }
   ],
   "source": [
    "s[1:]"
   ]
  },
  {
   "cell_type": "code",
   "execution_count": 87,
   "metadata": {},
   "outputs": [
    {
     "name": "stdout",
     "output_type": "stream",
     "text": [
      "AATTCC\n",
      "AATTC\n",
      "AATT\n"
     ]
    }
   ],
   "source": [
    "## índices negativos\n",
    "print(s[4:])\n",
    "print(s[4:-1])\n",
    "print(s[4:-2])"
   ]
  },
  {
   "cell_type": "markdown",
   "metadata": {},
   "source": [
    "## Métodos de strings\n",
    "\n",
    "- Qual a diferença entre função e método?\n",
    " - A função é um recurso que contém instruções que realiza operações com outras variáveis\n",
    " - O método é um recurso que contém instruções, mas é específico de um determinado tipo de variável (númerico, string, lista).\n",
    " - É facilmente identificado quando é chamada sua execução. Por exemplo:"
   ]
  },
  {
   "cell_type": "code",
   "execution_count": 88,
   "metadata": {},
   "outputs": [
    {
     "name": "stdout",
     "output_type": "stream",
     "text": [
      "Olá Mundo!\n"
     ]
    }
   ],
   "source": [
    "mensagem = \"Olá Mundo!\"\n",
    "\n",
    "## print é uma função\n",
    "print(mensagem)"
   ]
  },
  {
   "cell_type": "markdown",
   "metadata": {},
   "source": [
    "- Por outro lado, o método __upper__ (assim como o __lower__) é um método ou \"comportamento\" de variáveis ou __objetos__ que pertecem à __classe__ de variáveis do tipo __String__.\n"
   ]
  },
  {
   "cell_type": "code",
   "execution_count": 89,
   "metadata": {},
   "outputs": [
    {
     "name": "stdout",
     "output_type": "stream",
     "text": [
      "OLÁ MUNDO!\n"
     ]
    }
   ],
   "source": [
    "## upper é um método\n",
    "var_temporaria = mensagem.upper()\n",
    "print(var_temporaria)"
   ]
  },
  {
   "cell_type": "code",
   "execution_count": 90,
   "metadata": {},
   "outputs": [
    {
     "name": "stdout",
     "output_type": "stream",
     "text": [
      "olá mundo!\n"
     ]
    }
   ],
   "source": [
    "var_temporaria = mensagem.lower()\n",
    "print(var_temporaria)"
   ]
  },
  {
   "cell_type": "markdown",
   "metadata": {},
   "source": [
    "- Logo não podemos usar com variáveis de outras classes que não tenham o método definido."
   ]
  },
  {
   "cell_type": "code",
   "execution_count": 91,
   "metadata": {},
   "outputs": [
    {
     "ename": "AttributeError",
     "evalue": "'float' object has no attribute 'upper'",
     "output_type": "error",
     "traceback": [
      "\u001b[1;31m---------------------------------------------------------------------------\u001b[0m",
      "\u001b[1;31mAttributeError\u001b[0m                            Traceback (most recent call last)",
      "\u001b[1;32m<ipython-input-91-c9ac7bb9919a>\u001b[0m in \u001b[0;36m<module>\u001b[1;34m\u001b[0m\n\u001b[0;32m      1\u001b[0m \u001b[0mg\u001b[0m \u001b[1;33m=\u001b[0m \u001b[1;36m1654.23\u001b[0m\u001b[1;33m\u001b[0m\u001b[1;33m\u001b[0m\u001b[0m\n\u001b[1;32m----> 2\u001b[1;33m \u001b[0mprint\u001b[0m\u001b[1;33m(\u001b[0m\u001b[0mg\u001b[0m\u001b[1;33m.\u001b[0m\u001b[0mupper\u001b[0m\u001b[1;33m(\u001b[0m\u001b[1;33m)\u001b[0m\u001b[1;33m)\u001b[0m\u001b[1;33m\u001b[0m\u001b[1;33m\u001b[0m\u001b[0m\n\u001b[0m",
      "\u001b[1;31mAttributeError\u001b[0m: 'float' object has no attribute 'upper'"
     ]
    }
   ],
   "source": [
    "g = 1654.23\n",
    "print(g.upper())"
   ]
  },
  {
   "cell_type": "markdown",
   "metadata": {},
   "source": [
    "---\n",
    "### Pesquisas em strings\n",
    "\n",
    "#### Verificação parcial de string\n",
    "- Podemos usar os métodos __startswith__ e __endswith__ para checar se uma string começa ou termina com algum(ns) caractere(s)"
   ]
  },
  {
   "cell_type": "code",
   "execution_count": 1,
   "metadata": {},
   "outputs": [],
   "source": [
    "texto = \"Seq_10_R1\""
   ]
  },
  {
   "cell_type": "code",
   "execution_count": 2,
   "metadata": {},
   "outputs": [
    {
     "data": {
      "text/plain": [
       "True"
      ]
     },
     "execution_count": 2,
     "metadata": {},
     "output_type": "execute_result"
    }
   ],
   "source": [
    "texto.endswith(\"_R1\")"
   ]
  },
  {
   "cell_type": "code",
   "execution_count": 94,
   "metadata": {},
   "outputs": [
    {
     "data": {
      "text/plain": [
       "True"
      ]
     },
     "execution_count": 94,
     "metadata": {},
     "output_type": "execute_result"
    }
   ],
   "source": [
    "texto.lower().startswith(\"este\")"
   ]
  },
  {
   "cell_type": "code",
   "execution_count": 95,
   "metadata": {},
   "outputs": [
    {
     "data": {
      "text/plain": [
       "False"
      ]
     },
     "execution_count": 95,
     "metadata": {},
     "output_type": "execute_result"
    }
   ],
   "source": [
    "texto.startswith(\"apenas\")"
   ]
  },
  {
   "cell_type": "code",
   "execution_count": 96,
   "metadata": {},
   "outputs": [
    {
     "data": {
      "text/plain": [
       "True"
      ]
     },
     "execution_count": 96,
     "metadata": {},
     "output_type": "execute_result"
    }
   ],
   "source": [
    "texto.endswith(\"xto.\")"
   ]
  },
  {
   "cell_type": "markdown",
   "metadata": {},
   "source": [
    "---\n",
    "\n",
    "#### Busca de palavra em string usando __in__\n",
    "- O operador __in__ permite a busca *exata* de uma palavra em uma string em qualquer posição."
   ]
  },
  {
   "cell_type": "code",
   "execution_count": 97,
   "metadata": {},
   "outputs": [
    {
     "data": {
      "text/plain": [
       "True"
      ]
     },
     "execution_count": 97,
     "metadata": {},
     "output_type": "execute_result"
    }
   ],
   "source": [
    "\"Este\" in texto"
   ]
  },
  {
   "cell_type": "code",
   "execution_count": 98,
   "metadata": {},
   "outputs": [
    {
     "data": {
      "text/plain": [
       "True"
      ]
     },
     "execution_count": 98,
     "metadata": {},
     "output_type": "execute_result"
    }
   ],
   "source": [
    "\"este\".upper() in texto.upper()"
   ]
  },
  {
   "cell_type": "code",
   "execution_count": 99,
   "metadata": {},
   "outputs": [
    {
     "data": {
      "text/plain": [
       "True"
      ]
     },
     "execution_count": 99,
     "metadata": {},
     "output_type": "execute_result"
    }
   ],
   "source": [
    "\"apenas um si\" in texto"
   ]
  },
  {
   "cell_type": "code",
   "execution_count": 102,
   "metadata": {},
   "outputs": [
    {
     "data": {
      "text/plain": [
       "True"
      ]
     },
     "execution_count": 102,
     "metadata": {},
     "output_type": "execute_result"
    }
   ],
   "source": [
    "\"difícil texto\" not in texto"
   ]
  },
  {
   "cell_type": "markdown",
   "metadata": {},
   "source": [
    "---\n",
    "\n",
    "#### Busca de palavra usando o método  find e rfind\n",
    "- O método __find__ permite a busca de uma palavra numa string e *retorna* a posição da primeira ocorrência."
   ]
  },
  {
   "cell_type": "code",
   "execution_count": 103,
   "metadata": {},
   "outputs": [],
   "source": [
    "texto = \"Este é apenas um simples texto.\""
   ]
  },
  {
   "cell_type": "code",
   "execution_count": 104,
   "metadata": {},
   "outputs": [
    {
     "data": {
      "text/plain": [
       "7"
      ]
     },
     "execution_count": 104,
     "metadata": {},
     "output_type": "execute_result"
    }
   ],
   "source": [
    "texto.find(\"a\")"
   ]
  },
  {
   "cell_type": "code",
   "execution_count": 105,
   "metadata": {},
   "outputs": [
    {
     "data": {
      "text/plain": [
       "-1"
      ]
     },
     "execution_count": 105,
     "metadata": {},
     "output_type": "execute_result"
    }
   ],
   "source": [
    "texto.find(\"difícil\")"
   ]
  },
  {
   "cell_type": "markdown",
   "metadata": {},
   "source": [
    "- O método __rfind__ faz o mesmo, mas da direita para esquerda."
   ]
  },
  {
   "cell_type": "code",
   "execution_count": 106,
   "metadata": {},
   "outputs": [
    {
     "data": {
      "text/plain": [
       "11"
      ]
     },
     "execution_count": 106,
     "metadata": {},
     "output_type": "execute_result"
    }
   ],
   "source": [
    "texto.rfind(\"a\")"
   ]
  },
  {
   "cell_type": "markdown",
   "metadata": {},
   "source": [
    "- __find__ e __rfind__ podem receber como *argumentos* valores inteiros que indicam o intervalo de índices onde a palavra deve ser buscada:"
   ]
  },
  {
   "cell_type": "code",
   "execution_count": 107,
   "metadata": {},
   "outputs": [
    {
     "data": {
      "text/plain": [
       "11"
      ]
     },
     "execution_count": 107,
     "metadata": {},
     "output_type": "execute_result"
    }
   ],
   "source": [
    "texto.find(\"a\", 10)"
   ]
  },
  {
   "cell_type": "code",
   "execution_count": 108,
   "metadata": {},
   "outputs": [
    {
     "data": {
      "text/plain": [
       "7"
      ]
     },
     "execution_count": 108,
     "metadata": {},
     "output_type": "execute_result"
    }
   ],
   "source": [
    "texto.find(\"a\", 4)"
   ]
  },
  {
   "cell_type": "code",
   "execution_count": 109,
   "metadata": {},
   "outputs": [
    {
     "data": {
      "text/plain": [
       "22"
      ]
     },
     "execution_count": 109,
     "metadata": {},
     "output_type": "execute_result"
    }
   ],
   "source": [
    "texto.lower().find(\"e\", 11, 25)"
   ]
  },
  {
   "cell_type": "markdown",
   "metadata": {},
   "source": [
    "#### Contando palavras com count\n",
    "- O método count retorna a quantidade de ocorrência de *substring* de uma string."
   ]
  },
  {
   "cell_type": "code",
   "execution_count": 5,
   "metadata": {},
   "outputs": [
    {
     "name": "stdout",
     "output_type": "stream",
     "text": [
      "9\n"
     ]
    }
   ],
   "source": [
    "\n",
    "texto = \"ACGGGTCCCCC\"\n",
    "gc = seq.count(\"C\") + texto.count(\"G\")\n",
    "print(gc)"
   ]
  },
  {
   "cell_type": "code",
   "execution_count": 111,
   "metadata": {},
   "outputs": [
    {
     "data": {
      "text/plain": [
       "0"
      ]
     },
     "execution_count": 111,
     "metadata": {},
     "output_type": "execute_result"
    }
   ],
   "source": [
    "texto.count(\"gelo\")"
   ]
  },
  {
   "cell_type": "markdown",
   "metadata": {},
   "source": [
    "### Manipulando strings\n",
    "\n",
    "#### Separação de strings com split a partir de separadores\n",
    "\n",
    "- Método __split__ separa uma string a partir de um caractere passado como argumento. O método retorna uma lista onde os elementos são as substrings separadas."
   ]
  },
  {
   "cell_type": "code",
   "execution_count": 112,
   "metadata": {},
   "outputs": [
    {
     "name": "stdout",
     "output_type": "stream",
     "text": [
      "['reagenteA', '12', '158.7', '13/23/94']\n"
     ]
    }
   ],
   "source": [
    "linha_arquivo = \"reagenteA,12,158.7,13/23/94\"\n",
    "print(linha_arquivo.split(\",\"))"
   ]
  },
  {
   "cell_type": "markdown",
   "metadata": {},
   "source": [
    "#### Quebra de linhas\n",
    "\n",
    "- Existem alguns separadores que são \"invísiveis\" ao olho humano e são representados por códigos específicos. Por exemplo, as tabulações ('\\t') e o símbolo que indica o fim de uma linha e o início de uma nova linha ('\\n'). Por exemplo, considere os seguinte trecho da música \"Amarelo\" de Emicida:\n",
    "\n",
    "*Eu sonho mais alto que drones* <br>\n",
    "*Combustível do meu tipo? A fome* <br>\n",
    "*Pra arregaçar como um ciclone* <br>\n",
    "*Pra que amanhã não seja só um ontem com um novo nome.* <br>\n",
    "\n",
    "- Para o computador, este texto é armazenado da seguinte forma:"
   ]
  },
  {
   "cell_type": "code",
   "execution_count": 127,
   "metadata": {},
   "outputs": [],
   "source": [
    "trecho = \"Eu sonho mais alto que drones\\nCombustível do meu tipo? A fome\\nPra arregaçar como um ciclone\\nPra que amanhã não seja só um ontem com um novo nome.\"\n"
   ]
  },
  {
   "cell_type": "code",
   "execution_count": 128,
   "metadata": {},
   "outputs": [
    {
     "name": "stdout",
     "output_type": "stream",
     "text": [
      "Eu sonho mais alto que drones\n",
      "Combustível do meu tipo? A fome\n",
      "Pra arregaçar como um ciclone\n",
      "Pra que amanhã não seja só um ontem com um novo nome.\n"
     ]
    }
   ],
   "source": [
    "print(trecho)"
   ]
  },
  {
   "cell_type": "markdown",
   "metadata": {},
   "source": [
    "- Podemos separar a string __trecho__ usando como separador os marcadores de \"nova linha\":"
   ]
  },
  {
   "cell_type": "code",
   "execution_count": 115,
   "metadata": {},
   "outputs": [],
   "source": [
    "versos = trecho.split('\\n')"
   ]
  },
  {
   "cell_type": "code",
   "execution_count": 116,
   "metadata": {},
   "outputs": [
    {
     "name": "stdout",
     "output_type": "stream",
     "text": [
      "['Eu sonho mais alto que drones', 'Combustível do meu tipo? A fome', 'Pra arregaçar como um ciclone', 'Pra que amanhã não seja só um ontem com um novo nome.']\n"
     ]
    }
   ],
   "source": [
    "print(versos)"
   ]
  },
  {
   "cell_type": "code",
   "execution_count": 117,
   "metadata": {},
   "outputs": [
    {
     "data": {
      "text/plain": [
       "'Pra que amanhã não seja só um ontem com um novo nome.'"
      ]
     },
     "execution_count": 117,
     "metadata": {},
     "output_type": "execute_result"
    }
   ],
   "source": [
    "versos[-1]"
   ]
  },
  {
   "cell_type": "markdown",
   "metadata": {},
   "source": [
    "***\n",
    "# Entrada padrão de dados\n",
    "\n",
    "- Os dados são inseridos pelo usuário via teclado;\n",
    "- Função **input**: solicita os dados ao usuário (https://docs.python.org/3/library/functions.html#input)\n",
    " - Retorna uma string (deve-se converter para valores numéricos quando necessário)"
   ]
  },
  {
   "cell_type": "code",
   "execution_count": 120,
   "metadata": {},
   "outputs": [
    {
     "name": "stdout",
     "output_type": "stream",
     "text": [
      "Informe o número de série: AAAA1234\n"
     ]
    }
   ],
   "source": [
    "## digite e dê enter\n",
    "idSerial = input(\"Informe o número de série: \")"
   ]
  },
  {
   "cell_type": "code",
   "execution_count": 121,
   "metadata": {},
   "outputs": [
    {
     "name": "stdout",
     "output_type": "stream",
     "text": [
      "O número de série é AAAA1234\n"
     ]
    }
   ],
   "source": [
    "print(\"O número de série é %s\" % idSerial)"
   ]
  },
  {
   "cell_type": "markdown",
   "metadata": {},
   "source": [
    "- Lembre que a função __input__ retorna qualquer valor digitado pelo usuário como uma string.\n",
    "- Obviamente, precisamos converter para tipos de variáveis quando mais apropriado. Por exemplo:"
   ]
  },
  {
   "cell_type": "code",
   "execution_count": 122,
   "metadata": {},
   "outputs": [
    {
     "name": "stdout",
     "output_type": "stream",
     "text": [
      "Informe o ano de compra: 2020\n"
     ]
    }
   ],
   "source": [
    "year = input(\"Informe o ano de compra: \")"
   ]
  },
  {
   "cell_type": "code",
   "execution_count": 123,
   "metadata": {},
   "outputs": [
    {
     "ename": "TypeError",
     "evalue": "can only concatenate str (not \"int\") to str",
     "output_type": "error",
     "traceback": [
      "\u001b[1;31m---------------------------------------------------------------------------\u001b[0m",
      "\u001b[1;31mTypeError\u001b[0m                                 Traceback (most recent call last)",
      "\u001b[1;32m<ipython-input-123-5281cae65bfe>\u001b[0m in \u001b[0;36m<module>\u001b[1;34m\u001b[0m\n\u001b[1;32m----> 1\u001b[1;33m \u001b[0myear\u001b[0m \u001b[1;33m+\u001b[0m \u001b[1;36m2\u001b[0m\u001b[1;33m\u001b[0m\u001b[1;33m\u001b[0m\u001b[0m\n\u001b[0m",
      "\u001b[1;31mTypeError\u001b[0m: can only concatenate str (not \"int\") to str"
     ]
    }
   ],
   "source": [
    "year + 2"
   ]
  },
  {
   "cell_type": "code",
   "execution_count": 124,
   "metadata": {},
   "outputs": [
    {
     "name": "stdout",
     "output_type": "stream",
     "text": [
      "Informe o ano de compra: 2021\n"
     ]
    },
    {
     "data": {
      "text/plain": [
       "2023"
      ]
     },
     "execution_count": 124,
     "metadata": {},
     "output_type": "execute_result"
    }
   ],
   "source": [
    "year = int(input(\"Informe o ano de compra: \"))\n",
    "year + 2"
   ]
  },
  {
   "cell_type": "markdown",
   "metadata": {},
   "source": [
    "## Ler entrada a partir da linha de comando\n",
    "\n",
    "- Outra forma de fornecer a entrada para um programa é via linha de comando.\n",
    "- Por exemplo, considere a linha de comando abaixo que executa o programa FASTQC para produzir relatórios de qualidade das bibliotecas obtidas de sequenciamento de DNA __amostra1.fastq__ e __amostra2.fastq__. O resultado é salvo no diretório denominado __diretorio_resultados__. \n",
    "\n",
    "`$> python fastqc -out diretorio_resultados /home/vitor/reads/amostra1.fastq /home/vitor/reads/amostra2.fastq` <br>\n",
    "\n",
    "- Neste caso, __amostra1.fastq__, __amostra2.fastq__ e __diretorio_resultados__ serão lidos como strings que indicam o local no computador que estão os arquivos de entrada e onde serão salvos os relatórios. \n",
    "- Em Python, podemos ler os argumentos da linha de comando importando uma biblioteca interna do Python chamada __sys__. Mais detalhes sobre bibliotecas e importações serão vistos nas próximas aulas.\n",
    "- Abaixo, temos um código lendo os argumentos da linha de comando:"
   ]
  },
  {
   "cell_type": "code",
   "execution_count": null,
   "metadata": {},
   "outputs": [],
   "source": [
    "import sys\n",
    "\n",
    "argumento1 = sys.argv[0]\n",
    "argumento2 = sys.argv[1]\n",
    "argumento3 = sys.argv[2]\n",
    "# ...\n",
    "# argumentoN = sys.argv[n-1]"
   ]
  },
  {
   "cell_type": "markdown",
   "metadata": {},
   "source": [
    "- Por exemplo, se executamos:\n",
    "\n",
    "`$> python meuCodigo.py Argumento2 Argumento3` <br>\n",
    "\n",
    "- A variável argumento1 será a string __meuCodigo.py__;\n",
    "- A variável argumento2 será a string __Argumento2__;\n",
    "- A variável argumento3 será a string __Argumento3__;"
   ]
  },
  {
   "cell_type": "markdown",
   "metadata": {},
   "source": [
    "## Mais exemplos"
   ]
  },
  {
   "cell_type": "markdown",
   "metadata": {},
   "source": [
    "(1) Dada a expressão abaixo de conversão de temperatura, escreva um programa que leia uma temperatura em C° converta para F°:\n",
    "\n",
    "$F = \\frac{9 \\times C}{5} + 32$"
   ]
  },
  {
   "cell_type": "code",
   "execution_count": null,
   "metadata": {},
   "outputs": [],
   "source": []
  },
  {
   "cell_type": "markdown",
   "metadata": {},
   "source": [
    "(2) Escreva um programa em Python que leia as horas, minutos e segundos do usuário e imprima a quantidade total de segundos. "
   ]
  },
  {
   "cell_type": "code",
   "execution_count": null,
   "metadata": {},
   "outputs": [],
   "source": []
  },
  {
   "cell_type": "markdown",
   "metadata": {},
   "source": [
    "(3) Escreva um programa para calcular a redução do tempo de vida de um fumante. Pergunte a quantidade de cigarros fumados por dia e há quantos anos ele é fumante. Considerando que um fumante perde 10 minutos de vida a cada cigarro, calcule quantos dias de vida um fumante perderá. Exiba o total em dias."
   ]
  },
  {
   "cell_type": "code",
   "execution_count": null,
   "metadata": {},
   "outputs": [],
   "source": []
  }
 ],
 "metadata": {
  "kernelspec": {
   "display_name": "Python 3",
   "language": "python",
   "name": "python3"
  },
  "language_info": {
   "codemirror_mode": {
    "name": "ipython",
    "version": 3
   },
   "file_extension": ".py",
   "mimetype": "text/x-python",
   "name": "python",
   "nbconvert_exporter": "python",
   "pygments_lexer": "ipython3",
   "version": "3.9.1"
  }
 },
 "nbformat": 4,
 "nbformat_minor": 4
}
