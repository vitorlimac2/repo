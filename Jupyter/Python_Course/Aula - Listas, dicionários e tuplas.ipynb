{
 "cells": [
  {
   "cell_type": "markdown",
   "metadata": {},
   "source": [
    "# Listas, dicionários e tuplas\n",
    "## Estruturas de dados\n",
    "\n",
    "- São elementos que permitem a organização e manipulação dos dados da memória para realizar operações complexas de maneira simples e bem definida.\n",
    "- Existem diversos tipos de estruturas de dados;\n",
    "- Cada linguagem possui um conjunto de estruturas de dados, com sintaxe própria e operações que podem ser realizadas sobre estas estruturas;\n",
    "- Estruturas de dados primitivos: \n",
    "    - números inteiros;\n",
    "    - números com ponto flutuante ou decimal; \n",
    "    - strings;\n",
    "    - booleanos.\n",
    "- Estruturas de dados não-primitivos:\n",
    "    - arranjos;\n",
    "    - __listas__;\n",
    "    - __tuplas__;\n",
    "    - __dicionários__;\n",
    "    - conjuntos;\n",
    "    - arquivos."
   ]
  },
  {
   "cell_type": "markdown",
   "metadata": {},
   "source": [
    "***\n",
    "### Listas\n",
    "- Estrutura que permite o armazenamento de valores de diferentes tipos de dados (heterogêneo);\n",
    "- Permite a alteração do seu conteúdo (mutável);\n",
    "- São identificadas por agrupar seus elementos entre colchetes (\"\\[\" e \"\\]\") separados por vírgula.\n",
    "- Os elementos podem ser acessados por índices.\n",
    "- Exemplos\n",
    "    - x = \\[\\] - é uma lista vazia;\n",
    "    - z = \\[15, 7, 1\\] - é uma lista com três elementos do tipo inteiro;\n",
    "    - y = \\[\"ab\", \"bc\", \"cd\", \\[\"de\", \"ef\"\\]\\] - é uma lista com 4 elementos (3 strings e 1 lista de strings)"
   ]
  },
  {
   "cell_type": "markdown",
   "metadata": {},
   "source": [
    "#### Acessando elementos de uma lista\n",
    "❔💡 Você lembra como acessamos os caracteres de uma string?"
   ]
  },
  {
   "cell_type": "code",
   "execution_count": 1,
   "metadata": {},
   "outputs": [],
   "source": [
    "lista = [15, 7, 3, \"a\", \"b\", \"c\"]"
   ]
  },
  {
   "cell_type": "code",
   "execution_count": 2,
   "metadata": {},
   "outputs": [
    {
     "data": {
      "text/plain": [
       "15"
      ]
     },
     "execution_count": 2,
     "metadata": {},
     "output_type": "execute_result"
    }
   ],
   "source": [
    "lista[0]"
   ]
  },
  {
   "cell_type": "code",
   "execution_count": 3,
   "metadata": {},
   "outputs": [
    {
     "data": {
      "text/plain": [
       "[7, 3, 'a', 'b', 'c']"
      ]
     },
     "execution_count": 3,
     "metadata": {},
     "output_type": "execute_result"
    }
   ],
   "source": [
    "lista[1:]"
   ]
  },
  {
   "cell_type": "code",
   "execution_count": 4,
   "metadata": {},
   "outputs": [
    {
     "data": {
      "text/plain": [
       "[15, 7, 3]"
      ]
     },
     "execution_count": 4,
     "metadata": {},
     "output_type": "execute_result"
    }
   ],
   "source": [
    "lista[:3]"
   ]
  },
  {
   "cell_type": "code",
   "execution_count": 5,
   "metadata": {},
   "outputs": [
    {
     "data": {
      "text/plain": [
       "[15, 7, 3, 'a', 'b']"
      ]
     },
     "execution_count": 5,
     "metadata": {},
     "output_type": "execute_result"
    }
   ],
   "source": [
    "lista[:-1]"
   ]
  },
  {
   "cell_type": "code",
   "execution_count": 6,
   "metadata": {},
   "outputs": [
    {
     "data": {
      "text/plain": [
       "[7, 3, 'a']"
      ]
     },
     "execution_count": 6,
     "metadata": {},
     "output_type": "execute_result"
    }
   ],
   "source": [
    "lista[1:-2]"
   ]
  },
  {
   "cell_type": "code",
   "execution_count": 5,
   "metadata": {},
   "outputs": [
    {
     "ename": "IndexError",
     "evalue": "list index out of range",
     "output_type": "error",
     "traceback": [
      "\u001b[1;31m---------------------------------------------------------------------------\u001b[0m",
      "\u001b[1;31mIndexError\u001b[0m                                Traceback (most recent call last)",
      "\u001b[1;32m<ipython-input-5-df83cf2909c8>\u001b[0m in \u001b[0;36m<module>\u001b[1;34m\u001b[0m\n\u001b[0;32m      1\u001b[0m \u001b[1;31m## erro\u001b[0m\u001b[1;33m\u001b[0m\u001b[1;33m\u001b[0m\u001b[1;33m\u001b[0m\u001b[0m\n\u001b[0;32m      2\u001b[0m \u001b[1;33m\u001b[0m\u001b[0m\n\u001b[1;32m----> 3\u001b[1;33m \u001b[0mlista\u001b[0m\u001b[1;33m[\u001b[0m\u001b[1;36m6\u001b[0m\u001b[1;33m]\u001b[0m\u001b[1;33m\u001b[0m\u001b[1;33m\u001b[0m\u001b[0m\n\u001b[0m",
      "\u001b[1;31mIndexError\u001b[0m: list index out of range"
     ]
    }
   ],
   "source": [
    "## erro\n",
    "\n",
    "lista[6]"
   ]
  },
  {
   "cell_type": "markdown",
   "metadata": {},
   "source": [
    "🛑 __Lembre-se__: assim como nas strings, os índices das listas se baseiam no valor inicial zero (_zero-based index_). Portanto, uma lista de tamanho 6 varia os índices de 0 a 5."
   ]
  },
  {
   "cell_type": "markdown",
   "metadata": {},
   "source": [
    "#### Modificando uma lista"
   ]
  },
  {
   "cell_type": "code",
   "execution_count": 6,
   "metadata": {},
   "outputs": [],
   "source": [
    "lista[0] = 27"
   ]
  },
  {
   "cell_type": "code",
   "execution_count": 7,
   "metadata": {},
   "outputs": [
    {
     "data": {
      "text/plain": [
       "27"
      ]
     },
     "execution_count": 7,
     "metadata": {},
     "output_type": "execute_result"
    }
   ],
   "source": [
    "lista[0]"
   ]
  },
  {
   "cell_type": "code",
   "execution_count": 8,
   "metadata": {},
   "outputs": [
    {
     "data": {
      "text/plain": [
       "[27, 7, 3, 'a', 'b', 'c']"
      ]
     },
     "execution_count": 8,
     "metadata": {},
     "output_type": "execute_result"
    }
   ],
   "source": [
    "lista"
   ]
  },
  {
   "cell_type": "markdown",
   "metadata": {},
   "source": [
    "#### Exemplo 1: cálculo da média\n",
    "\n",
    "- calcule a média aritmética de seis valores."
   ]
  },
  {
   "cell_type": "code",
   "execution_count": 11,
   "metadata": {},
   "outputs": [
    {
     "name": "stdout",
     "output_type": "stream",
     "text": [
      "Média aritmética = 7.67\n"
     ]
    }
   ],
   "source": [
    "valores = [6, 7, 5, 8, 9, 11]\n",
    "\n",
    "soma = 0\n",
    "\n",
    "x = 0\n",
    "\n",
    "while x < len(valores):\n",
    "    soma += valores[x]  # o mesmo que soma = soma + valores[x]\n",
    "    x += 1\n",
    "    \n",
    "print(\"Média aritmética = %.2f\" % (soma/x))"
   ]
  },
  {
   "cell_type": "markdown",
   "metadata": {},
   "source": [
    "#### Exemplo 2: cálculo da média a partir de valores digitados pelo usuário\n",
    "- Calcule a média aritmética de cinco valores digitados pelo usuário."
   ]
  },
  {
   "cell_type": "code",
   "execution_count": 13,
   "metadata": {},
   "outputs": [
    {
     "name": "stdout",
     "output_type": "stream",
     "text": [
      "Digite o valor 1: 12\n",
      "Digite o valor 2: 12\n",
      "Digite o valor 3: 5\n",
      "Digite o valor 4: 12\n",
      "Digite o valor 5: 12\n",
      "Média aritmética = 10.60\n"
     ]
    }
   ],
   "source": [
    "### código calculaMedia2.py\n",
    "\n",
    "valores = [0, 0, 0, 0, 0]\n",
    "\n",
    "soma = 0\n",
    "x = 0\n",
    "\n",
    "## primeiro vamos ler os valores\n",
    "while x < len(valores):\n",
    "    valores[x] = float(input(\"Digite o valor %d: \" % (x+1)))\n",
    "    \n",
    "    # em seguida, somamos os valores\n",
    "    soma = soma + valores[x]\n",
    "    x = x + 1\n",
    "\n",
    "print(\"Média aritmética = %.2f\" % (soma/x))"
   ]
  },
  {
   "cell_type": "markdown",
   "metadata": {},
   "source": [
    "#### Exemplo 3: solicitando números\n",
    "\n",
    "- Leia números digitados pelo usuário e em seguida imprima os números digitados conforme o usuário fornece a posição dos elementos. Pare quando o usuário digita zero."
   ]
  },
  {
   "cell_type": "code",
   "execution_count": 13,
   "metadata": {},
   "outputs": [
    {
     "name": "stdout",
     "output_type": "stream",
     "text": [
      "Digite o número 1: 5\n",
      "Digite o número 2: 3\n",
      "Digite o número 3: 5\n",
      "Digite o número 4: 54\n",
      "Qual posição da lista você quer consultar (1-4)? Digite 0 para sair. 2\n",
      "Número na posição 2 e índice 1 = 3\n",
      "Qual posição da lista você quer consultar (1-4)? Digite 0 para sair. 4\n",
      "Número na posição 4 e índice 3 = 54\n",
      "Qual posição da lista você quer consultar (1-4)? Digite 0 para sair. 0\n",
      "Saindo... tchau!\n"
     ]
    }
   ],
   "source": [
    "## código lerNumerosDigitados.py\n",
    "\n",
    "# inicializo a lista de números\n",
    "\n",
    "numeros = [0, 0, 0, 0]\n",
    "\n",
    "# contador\n",
    "x = 0\n",
    "\n",
    "# vamos ler os números e armazenar na lista\n",
    "\n",
    "while x < len(numeros):\n",
    "    numeros[x] = int(input(\"Digite o número %d: \" % (x+1)))\n",
    "    x = x + 1\n",
    "\n",
    "while True:\n",
    "    opcao = int(input(\"Qual posição da lista você quer consultar (1-%d)? Digite 0 para sair. \" % len(numeros)))\n",
    "    \n",
    "    if opcao==0:\n",
    "        print(\"Saindo... tchau!\")\n",
    "        break\n",
    "    \n",
    "    print(\"Número na posição %d e índice %d = %d\" % (opcao, (opcao-1), numeros[opcao -1]))"
   ]
  },
  {
   "cell_type": "markdown",
   "metadata": {},
   "source": [
    "❔ O que faz o comando ``break``?"
   ]
  },
  {
   "cell_type": "markdown",
   "metadata": {},
   "source": [
    "***\n",
    "#### Copiando listas\n",
    "- Fazer uma cópia de uma lista “L” para criar uma lista “M” <br> \n",
    "⚠ Não consiste simplesmente em atribuir M = L ⚠\n",
    "    - Neste caso, estaríamos apenas copiando o endereço de L em M, ou seja, a referência para os dados."
   ]
  },
  {
   "cell_type": "code",
   "execution_count": 9,
   "metadata": {},
   "outputs": [],
   "source": [
    "L = [1, 2, 3, 4]\n",
    "\n",
    "## copiando apenas o endereço para os dados e não o conteúdo!\n",
    "M = L"
   ]
  },
  {
   "cell_type": "code",
   "execution_count": 10,
   "metadata": {},
   "outputs": [
    {
     "data": {
      "text/plain": [
       "[1, 2, 3, 4]"
      ]
     },
     "execution_count": 10,
     "metadata": {},
     "output_type": "execute_result"
    }
   ],
   "source": [
    "L"
   ]
  },
  {
   "cell_type": "code",
   "execution_count": 11,
   "metadata": {},
   "outputs": [
    {
     "data": {
      "text/plain": [
       "[1, 2, 3, 4]"
      ]
     },
     "execution_count": 11,
     "metadata": {},
     "output_type": "execute_result"
    }
   ],
   "source": [
    "M "
   ]
  },
  {
   "cell_type": "code",
   "execution_count": 12,
   "metadata": {},
   "outputs": [
    {
     "data": {
      "text/plain": [
       "[55, 2, 3, 4]"
      ]
     },
     "execution_count": 12,
     "metadata": {},
     "output_type": "execute_result"
    }
   ],
   "source": [
    "L[0] = 55\n",
    "L"
   ]
  },
  {
   "cell_type": "code",
   "execution_count": 14,
   "metadata": {},
   "outputs": [
    {
     "data": {
      "text/plain": [
       "[55, 2, 3, 4]"
      ]
     },
     "execution_count": 14,
     "metadata": {},
     "output_type": "execute_result"
    }
   ],
   "source": [
    "M"
   ]
  },
  {
   "cell_type": "markdown",
   "metadata": {},
   "source": [
    "- Vamos usar o operador para copiar os dados de uma lista:"
   ]
  },
  {
   "cell_type": "code",
   "execution_count": 19,
   "metadata": {},
   "outputs": [
    {
     "data": {
      "text/plain": [
       "[55, 2, 3, 4]"
      ]
     },
     "execution_count": 19,
     "metadata": {},
     "output_type": "execute_result"
    }
   ],
   "source": [
    "L"
   ]
  },
  {
   "cell_type": "code",
   "execution_count": 15,
   "metadata": {},
   "outputs": [],
   "source": [
    "## Copiando o conteúdo\n",
    "\n",
    "M = L[:]"
   ]
  },
  {
   "cell_type": "code",
   "execution_count": 16,
   "metadata": {},
   "outputs": [],
   "source": [
    "L[0] = 100"
   ]
  },
  {
   "cell_type": "code",
   "execution_count": 17,
   "metadata": {},
   "outputs": [
    {
     "data": {
      "text/plain": [
       "[100, 2, 3, 4]"
      ]
     },
     "execution_count": 17,
     "metadata": {},
     "output_type": "execute_result"
    }
   ],
   "source": [
    "L"
   ]
  },
  {
   "cell_type": "code",
   "execution_count": 18,
   "metadata": {},
   "outputs": [
    {
     "data": {
      "text/plain": [
       "[55, 2, 3, 4]"
      ]
     },
     "execution_count": 18,
     "metadata": {},
     "output_type": "execute_result"
    }
   ],
   "source": [
    "M"
   ]
  },
  {
   "cell_type": "markdown",
   "metadata": {},
   "source": [
    "***\n",
    "#### Adicionando elementos e listas usando o método append\n",
    "\n",
    "- Durante execução, podemos adicionar novos elementos às listas.\n",
    "- O método ``append`` é usado para adicionar um elemento no final da lista.\n",
    "- Um método é uma função que é específica para um tipo de objeto.\n",
    "- Entenda como “um tipo de comportamento que objetos do mesmo tipo possuem”.\n",
    "- Para adicionar um novo elemento valor à uma lista ``L``, então fazemos ``L.append(valor)``."
   ]
  },
  {
   "cell_type": "code",
   "execution_count": 19,
   "metadata": {},
   "outputs": [
    {
     "data": {
      "text/plain": [
       "[]"
      ]
     },
     "execution_count": 19,
     "metadata": {},
     "output_type": "execute_result"
    }
   ],
   "source": [
    "L = []    ## inicializei uma lista vazia\n",
    "L"
   ]
  },
  {
   "cell_type": "code",
   "execution_count": 20,
   "metadata": {},
   "outputs": [],
   "source": [
    "L.append(1)"
   ]
  },
  {
   "cell_type": "code",
   "execution_count": 21,
   "metadata": {},
   "outputs": [
    {
     "data": {
      "text/plain": [
       "[1]"
      ]
     },
     "execution_count": 21,
     "metadata": {},
     "output_type": "execute_result"
    }
   ],
   "source": [
    "L"
   ]
  },
  {
   "cell_type": "code",
   "execution_count": 22,
   "metadata": {},
   "outputs": [
    {
     "data": {
      "text/plain": [
       "[1, 'a']"
      ]
     },
     "execution_count": 22,
     "metadata": {},
     "output_type": "execute_result"
    }
   ],
   "source": [
    "L.append(\"a\")\n",
    "L"
   ]
  },
  {
   "cell_type": "code",
   "execution_count": 23,
   "metadata": {},
   "outputs": [
    {
     "data": {
      "text/plain": [
       "[1, 'a', 587]"
      ]
     },
     "execution_count": 23,
     "metadata": {},
     "output_type": "execute_result"
    }
   ],
   "source": [
    "L.append(587)\n",
    "L"
   ]
  },
  {
   "cell_type": "markdown",
   "metadata": {},
   "source": [
    "#### Adicionando elementos em posições específicas\n",
    "- Como falado anteriormente, ``append`` adiciona elementos no final da lista.\n",
    "- Podemos usar o método ``insert`` para adicionar elementos em uma posição específica:"
   ]
  },
  {
   "cell_type": "code",
   "execution_count": 24,
   "metadata": {},
   "outputs": [
    {
     "name": "stdout",
     "output_type": "stream",
     "text": [
      "[100, 2, 3, 4, 888]\n"
     ]
    }
   ],
   "source": [
    "Z = [100, 2, 3, 4]\n",
    "\n",
    "## adiciona elementos no fim\n",
    "Z.append(888)\n",
    "\n",
    "print(Z)"
   ]
  },
  {
   "cell_type": "code",
   "execution_count": 25,
   "metadata": {},
   "outputs": [
    {
     "name": "stdout",
     "output_type": "stream",
     "text": [
      "[999, 100, 2, 3, 4, 888]\n"
     ]
    }
   ],
   "source": [
    "## Adiciona elementos em uma posição específica insert(indice, valor)\n",
    "Z.insert(0,999)\n",
    "print(Z)"
   ]
  },
  {
   "cell_type": "markdown",
   "metadata": {},
   "source": [
    "#### Concatenando listas\n",
    "❔ Você lembra como concatenar strings?"
   ]
  },
  {
   "cell_type": "code",
   "execution_count": 26,
   "metadata": {},
   "outputs": [],
   "source": [
    "L = [1, 'a', 587]\n",
    "M = [10, 20, 30]"
   ]
  },
  {
   "cell_type": "code",
   "execution_count": 27,
   "metadata": {},
   "outputs": [
    {
     "data": {
      "text/plain": [
       "[1, 'a', 587, 10, 20, 30]"
      ]
     },
     "execution_count": 27,
     "metadata": {},
     "output_type": "execute_result"
    }
   ],
   "source": [
    "L = L + M\n",
    "L"
   ]
  },
  {
   "cell_type": "markdown",
   "metadata": {},
   "source": [
    "#### Diferença append _vs_ extend\n",
    "\n",
    "- Ambas alteram listas e recebem os mesmos tipos de argumentos, mas a forma como adicionam o valor passado como argumento é diferente:"
   ]
  },
  {
   "cell_type": "code",
   "execution_count": 28,
   "metadata": {},
   "outputs": [],
   "source": [
    "## Usando append:\n",
    "\n",
    "L = [1, 2, 3]\n",
    "Z = ['a', 'b']\n",
    "L.append(Z)"
   ]
  },
  {
   "cell_type": "code",
   "execution_count": 29,
   "metadata": {},
   "outputs": [
    {
     "data": {
      "text/plain": [
       "[1, 2, 3, ['a', 'b']]"
      ]
     },
     "execution_count": 29,
     "metadata": {},
     "output_type": "execute_result"
    }
   ],
   "source": [
    "L"
   ]
  },
  {
   "cell_type": "code",
   "execution_count": 30,
   "metadata": {},
   "outputs": [
    {
     "data": {
      "text/plain": [
       "[1, 2, 3, ['a', 'b'], 'a', 'b']"
      ]
     },
     "execution_count": 30,
     "metadata": {},
     "output_type": "execute_result"
    }
   ],
   "source": [
    "## Usando extend:\n",
    "L.extend(Z)\n",
    "L"
   ]
  },
  {
   "cell_type": "markdown",
   "metadata": {},
   "source": [
    "💡 Qual a diferença você consegue perceber entre ``append`` e ``extend``?"
   ]
  },
  {
   "cell_type": "markdown",
   "metadata": {},
   "source": [
    "😨 Como eu acesso um elemento de uma lista que é elemento de uma outra lista? "
   ]
  },
  {
   "cell_type": "code",
   "execution_count": 31,
   "metadata": {},
   "outputs": [
    {
     "data": {
      "text/plain": [
       "[1, 2, 3, ['a', 'b'], 'a', 'b']"
      ]
     },
     "execution_count": 31,
     "metadata": {},
     "output_type": "execute_result"
    }
   ],
   "source": [
    "L"
   ]
  },
  {
   "cell_type": "code",
   "execution_count": 32,
   "metadata": {},
   "outputs": [
    {
     "data": {
      "text/plain": [
       "['a', 'b']"
      ]
     },
     "execution_count": 32,
     "metadata": {},
     "output_type": "execute_result"
    }
   ],
   "source": [
    "L[3]"
   ]
  },
  {
   "cell_type": "code",
   "execution_count": 36,
   "metadata": {},
   "outputs": [
    {
     "data": {
      "text/plain": [
       "'a'"
      ]
     },
     "execution_count": 36,
     "metadata": {},
     "output_type": "execute_result"
    }
   ],
   "source": [
    "L[3][0]"
   ]
  },
  {
   "cell_type": "code",
   "execution_count": 35,
   "metadata": {},
   "outputs": [
    {
     "data": {
      "text/plain": [
       "'b'"
      ]
     },
     "execution_count": 35,
     "metadata": {},
     "output_type": "execute_result"
    }
   ],
   "source": [
    "L[3][1]"
   ]
  },
  {
   "cell_type": "markdown",
   "metadata": {},
   "source": [
    "#### Removendo elementos da lista com a palavra-chave del"
   ]
  },
  {
   "cell_type": "code",
   "execution_count": 36,
   "metadata": {},
   "outputs": [
    {
     "data": {
      "text/plain": [
       "[1, 2, 3, ['a', 'b'], 'a', 'b']"
      ]
     },
     "execution_count": 36,
     "metadata": {},
     "output_type": "execute_result"
    }
   ],
   "source": [
    "L"
   ]
  },
  {
   "cell_type": "code",
   "execution_count": 37,
   "metadata": {},
   "outputs": [],
   "source": [
    "del L[2]"
   ]
  },
  {
   "cell_type": "code",
   "execution_count": 39,
   "metadata": {},
   "outputs": [
    {
     "data": {
      "text/plain": [
       "[1, 2, ['a', 'b'], 'a', 'b']"
      ]
     },
     "execution_count": 39,
     "metadata": {},
     "output_type": "execute_result"
    }
   ],
   "source": [
    "L"
   ]
  },
  {
   "cell_type": "code",
   "execution_count": 40,
   "metadata": {},
   "outputs": [],
   "source": [
    "del L[2][1]"
   ]
  },
  {
   "cell_type": "code",
   "execution_count": 41,
   "metadata": {},
   "outputs": [
    {
     "data": {
      "text/plain": [
       "[1, 2, ['a'], 'a', 'b']"
      ]
     },
     "execution_count": 41,
     "metadata": {},
     "output_type": "execute_result"
    }
   ],
   "source": [
    "L"
   ]
  },
  {
   "cell_type": "code",
   "execution_count": 42,
   "metadata": {},
   "outputs": [],
   "source": [
    "del L[3:]"
   ]
  },
  {
   "cell_type": "code",
   "execution_count": 43,
   "metadata": {},
   "outputs": [
    {
     "data": {
      "text/plain": [
       "[1, 2, ['a']]"
      ]
     },
     "execution_count": 43,
     "metadata": {},
     "output_type": "execute_result"
    }
   ],
   "source": [
    "L"
   ]
  },
  {
   "cell_type": "markdown",
   "metadata": {},
   "source": [
    "#### Pesquisa sequencial de elementos em uma lista\n",
    "\n",
    "- Primeiramente, vamos ver um exemplo de como pesquisar elementos em uma lista usando a estrutura de repetição ``while``:"
   ]
  },
  {
   "cell_type": "code",
   "execution_count": 45,
   "metadata": {},
   "outputs": [
    {
     "name": "stdout",
     "output_type": "stream",
     "text": [
      "Digite o valor a ser encontrado: 89\n",
      "Elemento 89 encontrado na posição 7, índice 6\n"
     ]
    }
   ],
   "source": [
    "# código pesquisaSequencial.py\n",
    "\n",
    "L = [25, 6, 19, 15, 6, 88, 89]\n",
    "\n",
    "elemento = int(input(\"Digite o valor a ser encontrado: \"))\n",
    "\n",
    "# variável booleana para indicar se o elemento foi encontrado ou não\n",
    "encontrado = False\n",
    "\n",
    "x = 0\n",
    "\n",
    "while x < len(L):\n",
    "    if L[x] == elemento:\n",
    "        encontrado = True\n",
    "        break\n",
    "    x = x + 1\n",
    "\n",
    "if encontrado:\n",
    "    print(\"Elemento %d encontrado na posição %d, índice %d\" % (elemento,(x+1), x))\n",
    "else:\n",
    "    print(\"Elemento %d não encontrado.\" % elemento)\n",
    "    "
   ]
  },
  {
   "cell_type": "markdown",
   "metadata": {},
   "source": [
    "#### Iterando listas com a estrutura de repetição for\n",
    "\n",
    "- Repete a execução de comandos enquanto percorre uma lista de elementos;\n",
    "- Pode ser usado quando temos um intervalo bem definido pelo qual queremos iterar nosso loop (intervalo de números, intervalo de caracteres, dataframes, tuplas, linhas de um arquivo, etc);\n",
    "- É uma estrutura poderosa para iterar através de diferentes tipos de dados.\n"
   ]
  },
  {
   "cell_type": "code",
   "execution_count": 47,
   "metadata": {},
   "outputs": [
    {
     "name": "stdout",
     "output_type": "stream",
     "text": [
      "25\n",
      "88\n",
      "13\n",
      "11\n"
     ]
    }
   ],
   "source": [
    "L = [15, 78, 3, 1]\n",
    "\n",
    "# A cada iteração, manipula-se o próximo elemento da lista.\n",
    "\n",
    "for elemento in L:\n",
    "    elemento = elemento + 10\n",
    "    print(elemento)"
   ]
  },
  {
   "cell_type": "markdown",
   "metadata": {},
   "source": [
    "- ``range`` podem ser utilizados para gerar elementos que podem ser iterados pelo ``for``:"
   ]
  },
  {
   "cell_type": "code",
   "execution_count": 50,
   "metadata": {},
   "outputs": [
    {
     "name": "stdout",
     "output_type": "stream",
     "text": [
      "15\n",
      "78\n",
      "3\n",
      "1\n"
     ]
    }
   ],
   "source": [
    "comprimento_lista = len(L)\n",
    "for indice in range(comprimento_lista):\n",
    "    print(L[indice])"
   ]
  },
  {
   "cell_type": "code",
   "execution_count": 52,
   "metadata": {},
   "outputs": [
    {
     "name": "stdout",
     "output_type": "stream",
     "text": [
      "78\n",
      "3\n",
      "1\n"
     ]
    }
   ],
   "source": [
    "for indice in range(1,comprimento_lista):\n",
    "    print(L[indice])"
   ]
  },
  {
   "cell_type": "code",
   "execution_count": 56,
   "metadata": {},
   "outputs": [
    {
     "name": "stdout",
     "output_type": "stream",
     "text": [
      "78 1 "
     ]
    }
   ],
   "source": [
    "## definir intervalo entre números na sequência\n",
    "\n",
    "for v in range(1, comprimento_lista, 2):\n",
    "    print(L[v], end = \" \")"
   ]
  },
  {
   "cell_type": "markdown",
   "metadata": {},
   "source": [
    "- Importante: ``range`` não é uma lista. Formalmente, é um \"tipo de sequência imutável\" que representa sequências de números que seguem um padrão de repetição. Porém, pode ser utilizado para criar uma lista:"
   ]
  },
  {
   "cell_type": "code",
   "execution_count": 57,
   "metadata": {},
   "outputs": [
    {
     "name": "stdout",
     "output_type": "stream",
     "text": [
      "range(0, 10)\n"
     ]
    }
   ],
   "source": [
    "L = range(10)\n",
    "print(L)"
   ]
  },
  {
   "cell_type": "code",
   "execution_count": 58,
   "metadata": {},
   "outputs": [],
   "source": [
    "L = list(range(10))"
   ]
  },
  {
   "cell_type": "code",
   "execution_count": 59,
   "metadata": {},
   "outputs": [
    {
     "name": "stdout",
     "output_type": "stream",
     "text": [
      "[0, 1, 2, 3, 4, 5, 6, 7, 8, 9]\n"
     ]
    }
   ],
   "source": [
    "print(L)"
   ]
  },
  {
   "cell_type": "markdown",
   "metadata": {},
   "source": [
    "- ``enumerate`` amplia as aplicações da estrutura ``for``.\n",
    "    - Produz uma __tupla__ contendo o elemento e o índice da lista iterado pelo ``for``!"
   ]
  },
  {
   "cell_type": "code",
   "execution_count": 60,
   "metadata": {},
   "outputs": [
    {
     "name": "stdout",
     "output_type": "stream",
     "text": [
      "Índice 0 contém o elemento 3.\n",
      "Índice 1 contém o elemento 78.\n",
      "Índice 2 contém o elemento 45.\n",
      "Índice 3 contém o elemento SE.\n",
      "Índice 4 contém o elemento NAI.\n"
     ]
    }
   ],
   "source": [
    "L = [3, 78, 45, \"SE\", \"NAI\"]\n",
    "\n",
    "for indice,valor in enumerate(L):\n",
    "    print(\"Índice %d contém o elemento %s.\" % (indice, valor))"
   ]
  },
  {
   "cell_type": "markdown",
   "metadata": {},
   "source": [
    "### Dicionários\n",
    "\n",
    "- Estruturas de dados que armazenam valores associados com chaves;\n",
    "- Cada elemento é uma combinação de chave e valor;\n",
    "- Utilizam chaves ({}) para representá-los;\n",
    "- ``meuDic.keys()``: retorna a lista de chaves do dicionário meuDic;\n",
    "- ``meuDic.values()``: retorna a lista de valores do dicionário meuDic;\n"
   ]
  },
  {
   "cell_type": "markdown",
   "metadata": {},
   "source": [
    "#### Exemplo: criando um dicionário"
   ]
  },
  {
   "cell_type": "code",
   "execution_count": 61,
   "metadata": {},
   "outputs": [],
   "source": [
    "ponto_assiduidade = {\"Funcionario_1\" : 90.5, \n",
    "                     \"Funcionario_2\" : 95.1,  \n",
    "                     \"Funcionario_3\" : 99.9}"
   ]
  },
  {
   "cell_type": "markdown",
   "metadata": {},
   "source": [
    "- Acessando elementos:"
   ]
  },
  {
   "cell_type": "code",
   "execution_count": 62,
   "metadata": {},
   "outputs": [
    {
     "name": "stdout",
     "output_type": "stream",
     "text": [
      "90.5\n"
     ]
    }
   ],
   "source": [
    "## Acessamos os elementos de um dicionário usando uma \"chave\"\n",
    "print(ponto_assiduidade[\"Funcionario_1\"])"
   ]
  },
  {
   "cell_type": "code",
   "execution_count": 63,
   "metadata": {},
   "outputs": [
    {
     "data": {
      "text/plain": [
       "False"
      ]
     },
     "execution_count": 63,
     "metadata": {},
     "output_type": "execute_result"
    }
   ],
   "source": [
    "## verificando se uma \"chave\" pertence ao dicionário\n",
    "\"Funcionario_9\" in ponto_assiduidade"
   ]
  },
  {
   "cell_type": "code",
   "execution_count": 64,
   "metadata": {},
   "outputs": [
    {
     "ename": "KeyError",
     "evalue": "'Funcionario_9'",
     "output_type": "error",
     "traceback": [
      "\u001b[1;31m---------------------------------------------------------------------------\u001b[0m",
      "\u001b[1;31mKeyError\u001b[0m                                  Traceback (most recent call last)",
      "\u001b[1;32m<ipython-input-64-5c5318600df1>\u001b[0m in \u001b[0;36m<module>\u001b[1;34m\u001b[0m\n\u001b[0;32m      1\u001b[0m \u001b[1;31m## Quando tentamos acessar elementos usando uma chave inexistente\u001b[0m\u001b[1;33m\u001b[0m\u001b[1;33m\u001b[0m\u001b[1;33m\u001b[0m\u001b[0m\n\u001b[1;32m----> 2\u001b[1;33m \u001b[0mprint\u001b[0m\u001b[1;33m(\u001b[0m\u001b[0mponto_assiduidade\u001b[0m\u001b[1;33m[\u001b[0m\u001b[1;34m\"Funcionario_9\"\u001b[0m\u001b[1;33m]\u001b[0m\u001b[1;33m)\u001b[0m\u001b[1;33m\u001b[0m\u001b[1;33m\u001b[0m\u001b[0m\n\u001b[0m",
      "\u001b[1;31mKeyError\u001b[0m: 'Funcionario_9'"
     ]
    }
   ],
   "source": [
    "## Quando tentamos acessar elementos usando uma chave inexistente\n",
    "print(ponto_assiduidade[\"Funcionario_9\"])"
   ]
  },
  {
   "cell_type": "markdown",
   "metadata": {},
   "source": [
    "#### Inserindo elementos em um dicionário\n",
    "- A inserção de novos elementos em um dicionário pode ser feita diretamente através de atribuição;"
   ]
  },
  {
   "cell_type": "markdown",
   "metadata": {},
   "source": [
    "- Exemplos:"
   ]
  },
  {
   "cell_type": "code",
   "execution_count": 65,
   "metadata": {},
   "outputs": [
    {
     "name": "stdout",
     "output_type": "stream",
     "text": [
      "{'a': 1, 'b': 2, 'c': 3}\n"
     ]
    }
   ],
   "source": [
    "### atualizando um dicionário predefinido\n",
    "\n",
    "d = {\"a\": 1, \"b\": 2}\n",
    "\n",
    "d[\"c\"] = 3\n",
    "\n",
    "print(d)"
   ]
  },
  {
   "cell_type": "code",
   "execution_count": 66,
   "metadata": {},
   "outputs": [
    {
     "name": "stdout",
     "output_type": "stream",
     "text": [
      "{'a': 4, 'b': 2, 'c': 3}\n"
     ]
    }
   ],
   "source": [
    "## Substituindo um elemento no dicionário\n",
    "\n",
    "d[\"a\"] = 4\n",
    "\n",
    "print(d)"
   ]
  },
  {
   "cell_type": "code",
   "execution_count": 90,
   "metadata": {},
   "outputs": [
    {
     "name": "stdout",
     "output_type": "stream",
     "text": [
      "{'x': 0}\n"
     ]
    }
   ],
   "source": [
    "## adicionando elementos um dicionário vazio\n",
    "\n",
    "d_2 = {}\n",
    "\n",
    "## a forma mais apropriada é verificar se a chave utilizada já existe\n",
    "## no dicionário que queremos modificar\n",
    "\n",
    "if \"x\" not in d_2.keys():\n",
    "    d_2[\"x\"] = 0\n",
    "\n",
    "print(d_2)"
   ]
  },
  {
   "cell_type": "markdown",
   "metadata": {},
   "source": [
    "#### Removendo elementos do dicionário:\n",
    "- Existem diferentes maneiras de remover um elemento do dicionário, dentre elas:\n",
    "    - usando a palavra-chave ``del``;\n",
    "    - usando o método ``pop()``;\n",
    "    - usando uma combinação de operações e a estrutura ``for``;\n",
    "    "
   ]
  },
  {
   "cell_type": "code",
   "execution_count": 67,
   "metadata": {},
   "outputs": [
    {
     "name": "stdout",
     "output_type": "stream",
     "text": [
      "{'Funcionario_1': 90.5, 'Funcionario_2': 95.1, 'Funcionario_3': 99.9}\n",
      "{'Funcionario_1': 90.5, 'Funcionario_3': 99.9}\n"
     ]
    }
   ],
   "source": [
    "## usando a palavra-chave del\n",
    "\n",
    "ponto_assiduidade = {\"Funcionario_1\" : 90.5, \n",
    "                     \"Funcionario_2\" : 95.1, \n",
    "                     \"Funcionario_3\" : 99.9}\n",
    "\n",
    "print(ponto_assiduidade)\n",
    "del ponto_assiduidade[\"Funcionario_2\"]\n",
    "print(ponto_assiduidade)"
   ]
  },
  {
   "cell_type": "code",
   "execution_count": 68,
   "metadata": {},
   "outputs": [
    {
     "name": "stdout",
     "output_type": "stream",
     "text": [
      "{'Funcionario_1': 90.5, 'Funcionario_2': 95.1, 'Funcionario_3': 99.9}\n",
      "{'Funcionario_1': 90.5, 'Funcionario_2': 95.1}\n"
     ]
    }
   ],
   "source": [
    "## usando pop()\n",
    "\n",
    "ponto_assiduidade = {\"Funcionario_1\" : 90.5, \n",
    "                     \"Funcionario_2\" : 95.1, \n",
    "                     \"Funcionario_3\" : 99.9}\n",
    "\n",
    "print(ponto_assiduidade)\n",
    "\n",
    "ponto_assiduidade.pop(\"Funcionario_3\", None)\n",
    "\n",
    "print(ponto_assiduidade)"
   ]
  },
  {
   "cell_type": "code",
   "execution_count": 69,
   "metadata": {},
   "outputs": [
    {
     "name": "stdout",
     "output_type": "stream",
     "text": [
      "{'Funcionario_1': 90.5, 'Funcionario_2': 95.1, 'Funcionario_3': 99.9}\n",
      "{'Funcionario_1': 90.5, 'Funcionario_2': 95.1}\n"
     ]
    }
   ],
   "source": [
    "## Usando um loop (nada eficiente)\n",
    "\n",
    "ponto_assiduidade = {\"Funcionario_1\" : 90.5, \n",
    "                     \"Funcionario_2\" : 95.1, \n",
    "                     \"Funcionario_3\" : 99.9}\n",
    "\n",
    "print(ponto_assiduidade)\n",
    "\n",
    "## crio um dicionário auxiliar para guardar os elementos que serão mantidos\n",
    "ponto_assiduidade_aux = {}\n",
    "\n",
    "chave_para_remover = \"Funcionario_3\" \n",
    "\n",
    "for chave,valor in ponto_assiduidade.items():\n",
    "    if chave != chave_para_remover:\n",
    "        ponto_assiduidade_aux[chave] = valor\n",
    "\n",
    "        \n",
    "## Não crio uma cópia, apenas faço nosso antigo dicionário ponto_assiduidade\n",
    "## receber a referência que aponta para os dados do dicionário auxiliar\n",
    "\n",
    "## os dados antigos de ponto_assiduidade são perdidos\n",
    "\n",
    "ponto_assiduidade = ponto_assiduidade_aux\n",
    "\n",
    "print(ponto_assiduidade)"
   ]
  },
  {
   "cell_type": "markdown",
   "metadata": {},
   "source": [
    "#### Copiando dicionários: ``copy``\n",
    "\n",
    "💡 Lembra quando tentamos copiar o conteúdo de uma lista L para uma lista M? Fazer ``M = L`` apenas copiamos a referência para a lista e não os elementos. Usamos o método ``copy`` para copiar os elementos de um dicionário em outro dicionário."
   ]
  },
  {
   "cell_type": "code",
   "execution_count": 70,
   "metadata": {},
   "outputs": [
    {
     "name": "stdout",
     "output_type": "stream",
     "text": [
      "2020:  {'Funcionario_1': 90.5, 'Funcionario_2': 95.1, 'Funcionario_3': 99.9}\n",
      "2021:  {'Funcionario_1': 90.5, 'Funcionario_3': 99.9}\n"
     ]
    }
   ],
   "source": [
    "ponto_assiduidade_2020 = {\"Funcionario_1\" : 90.5,\n",
    "                          \"Funcionario_2\" : 95.1,\n",
    "                          \"Funcionario_3\" : 99.9}\n",
    "\n",
    "ponto_assiduidade_2021 = ponto_assiduidade_2020.copy()\n",
    "\n",
    "del ponto_assiduidade_2021[\"Funcionario_2\"]\n",
    "print(\"2020: \", ponto_assiduidade_2020)\n",
    "print(\"2021: \", ponto_assiduidade_2021)\n"
   ]
  },
  {
   "cell_type": "markdown",
   "metadata": {},
   "source": [
    "#### Juntando dicionários: ``update``"
   ]
  },
  {
   "cell_type": "code",
   "execution_count": 71,
   "metadata": {},
   "outputs": [
    {
     "name": "stdout",
     "output_type": "stream",
     "text": [
      "{'aaa': 10, 'bbb': 20, 'ccc': 30, 'ddd': 40, 'eee': 50, 'fff': 60}\n"
     ]
    }
   ],
   "source": [
    "a = {\"aaa\":10, \"bbb\":20, \"ccc\":30}\n",
    "b = {\"ddd\":40, \"eee\":50, \"fff\":60}\n",
    "a.update(b)\n",
    "print(a)"
   ]
  },
  {
   "cell_type": "markdown",
   "metadata": {},
   "source": [
    "#### Criando um dicionário a partir de duas listas: ``zip``"
   ]
  },
  {
   "cell_type": "code",
   "execution_count": 72,
   "metadata": {},
   "outputs": [
    {
     "name": "stdout",
     "output_type": "stream",
     "text": [
      "{'Funcionario_A': 123456, 'Funcionario_B': 789456, 'Funcionario_C': 654123}\n"
     ]
    }
   ],
   "source": [
    "nomes = [\"Funcionario_A\", \"Funcionario_B\", \"Funcionario_C\"]\n",
    "matriculas = [123456, 789456, 654123]\n",
    "relacao = dict(zip(nomes, matriculas))\n",
    "print(relacao)"
   ]
  },
  {
   "cell_type": "markdown",
   "metadata": {},
   "source": [
    "#### iterando dicionários\n",
    "- Existem diferentes maneiras de iterar os elementos de um dicionário:"
   ]
  },
  {
   "cell_type": "code",
   "execution_count": 73,
   "metadata": {},
   "outputs": [
    {
     "name": "stdout",
     "output_type": "stream",
     "text": [
      "Funcionario_A\n",
      "Funcionario_B\n",
      "Funcionario_C\n"
     ]
    }
   ],
   "source": [
    "## chaves\n",
    "for e in relacao:\n",
    "    print(e)"
   ]
  },
  {
   "cell_type": "code",
   "execution_count": 73,
   "metadata": {},
   "outputs": [
    {
     "name": "stdout",
     "output_type": "stream",
     "text": [
      "123456\n",
      "789456\n",
      "654123\n"
     ]
    }
   ],
   "source": [
    "## valores\n",
    "for e in relacao.values():\n",
    "    print(e)"
   ]
  },
  {
   "cell_type": "code",
   "execution_count": 49,
   "metadata": {},
   "outputs": [
    {
     "name": "stdout",
     "output_type": "stream",
     "text": [
      "Funcionario_A 123456\n",
      "Funcionario_B 789456\n",
      "Funcionario_C 654123\n"
     ]
    }
   ],
   "source": [
    "## chaves e valores\n",
    "for e in relacao:\n",
    "     print (e, relacao[e])"
   ]
  },
  {
   "cell_type": "markdown",
   "metadata": {},
   "source": [
    "### Tuplas\n",
    "- Estrutura semelhante às listas, mas não permite modificação (imutável);\n",
    "- Logo não é possível mudar a ordem de seus elementos, inserção e remoção de elementos;\n",
    "- Por outro lado, aceita as demais operações das listas (consulta de elemento por índice, fatiamento, etc);\n",
    "- São representadas por elementos separados por vírgula (o que define a tupla) com parênteses opcionais;"
   ]
  },
  {
   "cell_type": "markdown",
   "metadata": {},
   "source": [
    "#### Exemplos"
   ]
  },
  {
   "cell_type": "code",
   "execution_count": 75,
   "metadata": {},
   "outputs": [],
   "source": [
    "#tupla declarada sem o uso de parenteses\n",
    "t1 = 1,2,3\n",
    "#tupla declarada com o uso de parenteses\n",
    "t2 = (1,2,3)\n",
    "\n",
    "#tupla com um único elemento\n",
    "t3 = 1,\n",
    "\n",
    "#tupla vazia\n",
    "t4 = ()"
   ]
  },
  {
   "cell_type": "markdown",
   "metadata": {},
   "source": [
    "🤔 Como falado anteriormente, listas em Python podem armazenar diferentes tipos de variáveis, por exemplo, ``L = [\"Produto\", 45, False]``. Por outro lado, quando se pensa em \"lista\", imaginamos um conjunto de elementos de um mesmo tipo: uma lista de e-mails, uma lista de sequências, uma lista de identificadores, etc. Desta forma, podemos ver intuitivamente a lista como uma estrutura de dados homogênea.\n",
    "\n",
    "Assim como as listas em Python, tuplas podem armazenar valores de diferentes tipos. Neste caso, podemos utilizar tuplas imediatamente para representar conjuntos de elementos de diferentes tipos (estrutura de dados heterogênea).\n",
    "\n",
    "Inclusive tuplas podem ser utilizadas como chaves para dicionários:"
   ]
  },
  {
   "cell_type": "code",
   "execution_count": 78,
   "metadata": {},
   "outputs": [
    {
     "name": "stdout",
     "output_type": "stream",
     "text": [
      "Prêmio = Casa!!!\n"
     ]
    }
   ],
   "source": [
    "## Tuplas como chaves\n",
    "\n",
    "premios = {(44,12,7,8,50,23): \"Carro\",\n",
    "           (24,55,2,48,40,33): \"Casa\",\n",
    "           (15,17,55,1,4,99): \"Moto\"}\n",
    "\n",
    "print(\"Prêmio = %s!!!\" % premios[(24,55,2,48,40,33)])"
   ]
  },
  {
   "cell_type": "markdown",
   "metadata": {},
   "source": [
    "- Embora os parênteses não sejam obrigatórios, quando passadas como argumento para funções, as tuplas necessitam dos parênteses para evitar ambiguidades e, consequentemente, erro sintático. Considere como exemplo a tupla ``3,12,\"Inferior\"`` e queremos usar a função ``len`` para verificar o comprimento da tupla:"
   ]
  },
  {
   "cell_type": "code",
   "execution_count": 79,
   "metadata": {},
   "outputs": [
    {
     "ename": "TypeError",
     "evalue": "len() takes exactly one argument (3 given)",
     "output_type": "error",
     "traceback": [
      "\u001b[1;31m---------------------------------------------------------------------------\u001b[0m",
      "\u001b[1;31mTypeError\u001b[0m                                 Traceback (most recent call last)",
      "\u001b[1;32m<ipython-input-79-52be8df6b9a5>\u001b[0m in \u001b[0;36m<module>\u001b[1;34m\u001b[0m\n\u001b[0;32m      1\u001b[0m \u001b[1;31m## sem parênteses\u001b[0m\u001b[1;33m\u001b[0m\u001b[1;33m\u001b[0m\u001b[1;33m\u001b[0m\u001b[0m\n\u001b[1;32m----> 2\u001b[1;33m \u001b[0mlen\u001b[0m\u001b[1;33m(\u001b[0m\u001b[1;36m3\u001b[0m\u001b[1;33m,\u001b[0m\u001b[1;36m12\u001b[0m\u001b[1;33m,\u001b[0m\u001b[1;34m\"Inferior\"\u001b[0m\u001b[1;33m)\u001b[0m\u001b[1;33m\u001b[0m\u001b[1;33m\u001b[0m\u001b[0m\n\u001b[0m",
      "\u001b[1;31mTypeError\u001b[0m: len() takes exactly one argument (3 given)"
     ]
    }
   ],
   "source": [
    "## sem parênteses\n",
    "len(3,12,\"Inferior\")"
   ]
  },
  {
   "cell_type": "code",
   "execution_count": 80,
   "metadata": {},
   "outputs": [
    {
     "data": {
      "text/plain": [
       "3"
      ]
     },
     "execution_count": 80,
     "metadata": {},
     "output_type": "execute_result"
    }
   ],
   "source": [
    "## com parenteses\n",
    "len((3,12,\"Inferior\"))"
   ]
  },
  {
   "cell_type": "code",
   "execution_count": 81,
   "metadata": {},
   "outputs": [
    {
     "name": "stdout",
     "output_type": "stream",
     "text": [
      "3\n",
      "12\n",
      "Inferior\n"
     ]
    }
   ],
   "source": [
    "## iterando elementos da tupla\n",
    "t = 3,12,\"Inferior\"\n",
    "for i in t:\n",
    "    print(i)"
   ]
  },
  {
   "cell_type": "markdown",
   "metadata": {},
   "source": [
    "### Tuplas e dicionários\n",
    "- Tuplas podem ser usadas para desempacotar elementos de um dicionário usando o método ``items()``: retorna uma lista de tuplas, onde cada tupla é composta por dois valores: a chave e o valor respectivamente."
   ]
  },
  {
   "cell_type": "code",
   "execution_count": 82,
   "metadata": {},
   "outputs": [
    {
     "name": "stdout",
     "output_type": "stream",
     "text": [
      "Funcionario_A 123456\n",
      "Funcionario_B 789456\n",
      "Funcionario_C 654123\n"
     ]
    }
   ],
   "source": [
    "for c,v in relacao.items():\n",
    "    print(c, v)"
   ]
  },
  {
   "cell_type": "code",
   "execution_count": null,
   "metadata": {},
   "outputs": [],
   "source": []
  }
 ],
 "metadata": {
  "kernelspec": {
   "display_name": "Python 3",
   "language": "python",
   "name": "python3"
  },
  "language_info": {
   "codemirror_mode": {
    "name": "ipython",
    "version": 3
   },
   "file_extension": ".py",
   "mimetype": "text/x-python",
   "name": "python",
   "nbconvert_exporter": "python",
   "pygments_lexer": "ipython3",
   "version": "3.8.3"
  }
 },
 "nbformat": 4,
 "nbformat_minor": 4
}
