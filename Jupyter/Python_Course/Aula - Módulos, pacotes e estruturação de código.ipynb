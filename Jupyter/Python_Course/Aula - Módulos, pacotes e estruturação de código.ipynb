{
 "cells": [
  {
   "cell_type": "markdown",
   "metadata": {},
   "source": [
    "# Módulos, pacotes e estruturação do código do Python"
   ]
  },
  {
   "cell_type": "markdown",
   "metadata": {},
   "source": [
    "## Introdução\n",
    "\n",
    "- Boas práticas de programação envolvem a reutilização de código:\n",
    "    - Otimiza o tempo gasto para programação;\n",
    "    - Torna o código mais limpo;\n",
    "    - Reduz a redundância, ou seja, muitas funções que fazem a “mesma coisa”;\n",
    "    - Requer a construção de funções mais genéricas;\n",
    "- A importação de código ou módulos genéricos criados pelo programador podem ser utilizados em diferentes projetos;\n",
    "- Na âmbito profissional, é um processo da engenharia de software que possui um conjunto de boas práticas, processos, técnicas e ferramentas;\n",
    "- Em menor escala, podemos desenvolver módulos que sejam utilizáveis em diferentes aplicações;"
   ]
  },
  {
   "cell_type": "markdown",
   "metadata": {},
   "source": [
    "## Módulos\n",
    "\n",
    "- Basicamente, um módulo é apenas um arquivo que contém a extensão ``.py`` e contém instruções e declarações em Python.\n",
    "    - O termo \"script\" é usado para se referir a um programa que é traduzido e manipulado por outro programa em vez do processador (ou seja, não é compilado);\n",
    "- Podemos reutilizar um módulo desenvolvido previamente usando a palavra ``import`` dentro do nosso código atual; \n",
    "- __Qual a diferença entre módulo e script???__\n",
    "    - Na verdade, a diferença entre os dois termos é apenas a forma como são utilizados em determinado momento. Módulos são importados ou carregados por outros módulos ou scripts. Os scripts são executados diretamente."
   ]
  },
  {
   "cell_type": "markdown",
   "metadata": {},
   "source": [
    "## Exemplo: utilizando um módulo\n",
    "- Criamos um módulo ``verificaEntrada.py`` com as seguintes declarações:"
   ]
  },
  {
   "cell_type": "code",
   "execution_count": null,
   "metadata": {},
   "outputs": [],
   "source": [
    "## verificaEntrada.py\n",
    "\n",
    "def lerEntrada(mensagem=\"\"):\n",
    "    n = int(input(mensagem))\n",
    "    print(\"Valor digitado: \", n)\n",
    "    return n\n",
    "\n",
    "## outras definições de funções"
   ]
  },
  {
   "cell_type": "markdown",
   "metadata": {},
   "source": [
    " 🔮 Vamos observar três casos e refletir qual deles poderia ser considerado o mais apropriado:"
   ]
  },
  {
   "cell_type": "markdown",
   "metadata": {},
   "source": [
    "- __Caso 1:__ explicitando o recurso a ser importado."
   ]
  },
  {
   "cell_type": "code",
   "execution_count": 1,
   "metadata": {},
   "outputs": [
    {
     "name": "stdout",
     "output_type": "stream",
     "text": [
      "3\n",
      "Valor digitado: 3\n",
      "O número 3 é ímpar.\n"
     ]
    }
   ],
   "source": [
    "from verificaEntrada import lerEntrada\n",
    "\n",
    "num = lerEntrada()\n",
    "\n",
    "if num % 2 == 0:\n",
    "    print(\"O número {} é par.\".format(num))\n",
    "else:\n",
    "    print(\"O número {} é ímpar.\".format(num))"
   ]
  },
  {
   "cell_type": "markdown",
   "metadata": {},
   "source": [
    "- __Caso 2:__ importando todos os recursos do módulo."
   ]
  },
  {
   "cell_type": "code",
   "execution_count": 2,
   "metadata": {},
   "outputs": [
    {
     "name": "stdout",
     "output_type": "stream",
     "text": [
      "3\n",
      "Valor digitado: 3\n",
      "O número 3 é ímpar.\n"
     ]
    }
   ],
   "source": [
    "import verificaEntrada\n",
    "\n",
    "num = verificaEntrada.lerEntrada()\n",
    "\n",
    "if num % 2 == 0:\n",
    "    print(\"O número {} é par.\".format(num))\n",
    "else:\n",
    "    print(\"O número {} é ímpar.\".format(num))"
   ]
  },
  {
   "cell_type": "markdown",
   "metadata": {},
   "source": [
    "- __Caso 3__: criando um alias para o módulo."
   ]
  },
  {
   "cell_type": "code",
   "execution_count": 3,
   "metadata": {},
   "outputs": [
    {
     "name": "stdout",
     "output_type": "stream",
     "text": [
      "3\n",
      "Valor digitado: 3\n",
      "O número 3 é ímpar.\n"
     ]
    }
   ],
   "source": [
    "import verificaEntrada as ve\n",
    "\n",
    "num = ve.lerEntrada()\n",
    "\n",
    "if num % 2 == 0:\n",
    "    print(\"O número {} é par.\".format(num))\n",
    "else:\n",
    "    print(\"O número {} é ímpar.\".format(num))"
   ]
  },
  {
   "cell_type": "markdown",
   "metadata": {},
   "source": [
    "- Na verdade, não existe uma regra sobre qual dos casos acima é o certo.\n",
    "- Por outro lado, podemos adotar __boas práticas__ durante a importação.\n",
    "- Quando aumentamos a __escala__ do nosso código ou projeto, torna-se importante aumentar também a clareza de como programamos;\n",
    "- __Funções podem ter nomes semelhantes em diferentes módulos!__\n",
    "- Portanto, utilizar o nome do módulo antes da função chamada auxilia na legibilidade do código; "
   ]
  },
  {
   "cell_type": "markdown",
   "metadata": {},
   "source": [
    "## Exemplo: utilizando módulos em outros diretórios\n",
    "- Nos casos acima, importamos um módulo que estava no mesmo local ou diretório do script executado.\n",
    "- Vamos ver alternativas para importar recursos localizados em diretórios diferentes.\n",
    "- Primeiramente, vamos importar os recursos utilizando a biblioteca ``importlib``:"
   ]
  },
  {
   "cell_type": "code",
   "execution_count": 15,
   "metadata": {},
   "outputs": [
    {
     "name": "stdout",
     "output_type": "stream",
     "text": [
      "2\n",
      "Valor digitado: 2\n",
      "O número 2 é par.\n"
     ]
    }
   ],
   "source": [
    "import importlib.util\n",
    "\n",
    "spec = importlib.util.spec_from_file_location(\"verificaEntrada2\", \"./outroDiretorio/verificaEntrada2.py\")\n",
    "\n",
    "ve = importlib.util.module_from_spec(spec)\n",
    "\n",
    "spec.loader.exec_module(ve)\n",
    "\n",
    "num = ve.lerEntrada()\n",
    "\n",
    "if num % 2 == 0:\n",
    "    print(\"O número {} é par.\".format(num))\n",
    "else:\n",
    "    print(\"O número {} é ímpar.\".format(num))"
   ]
  },
  {
   "cell_type": "markdown",
   "metadata": {},
   "source": [
    "- Agora vamos ver a importação utilizando a biblioteca ``sys``:"
   ]
  },
  {
   "cell_type": "code",
   "execution_count": 4,
   "metadata": {},
   "outputs": [
    {
     "name": "stdout",
     "output_type": "stream",
     "text": [
      "3\n",
      "Valor digitado: 3\n",
      "O número 3 é ímpar.\n"
     ]
    }
   ],
   "source": [
    "import sys\n",
    "\n",
    "sys.path.append(\"./outroDiretorio/\")\n",
    "\n",
    "import verificaEntrada2 as ve\n",
    "\n",
    "num = ve.lerEntrada()\n",
    "\n",
    "if num % 2 == 0:\n",
    "    print(\"O número {} é par.\".format(num))\n",
    "else:\n",
    "    print(\"O número {} é ímpar.\".format(num))"
   ]
  },
  {
   "cell_type": "markdown",
   "metadata": {},
   "source": [
    "## Mais alguns detalhes sobre a importação de recursos\n",
    "\n",
    "- O recurso importado pode ser um módulo, sub-pacote, classe ou função.\n",
    "\n",
    "``## importando um recurso de um pacote em Python\n",
    "from Bio.Seq import Seq                          \n",
    "``\n",
    "\n",
    "- Neste caso em específico, estamos importando do recurso ``Seq`` (classe) da biblioteca ``Bio`` um recurso com o mesmo nome ``Seq`` (construtor da classe ``Seq``). "
   ]
  },
  {
   "cell_type": "markdown",
   "metadata": {},
   "source": [
    "- Ao tentar importar algo em Python, o interpretador executa uma sequência de passos:\n",
    "    - Verifica todos os módulos que já foram importados (sys.modules)\n",
    "    - Verifica os módulos internos (built-in) de Python (Python Standard Library)\n",
    "    - Verifica todos os diretórios visíveis pelo interpretador ( sys.path)\n",
    "        - Por exemplo, este inclui todos os pacotes que foram instalados e foram incluídos no path.\n"
   ]
  },
  {
   "cell_type": "markdown",
   "metadata": {},
   "source": [
    "## Mais um pouco sobre boas práticas\n",
    "\n",
    "- PEP 8 - Guia de Estilo de Codificação para Python (https://www.python.org/dev/peps/pep-0008/);\n",
    "- Importações devem ser escritas no início do arquivo;\n",
    "- Importações devem ser divididas em três grupos na ordem: \n",
    "    - módulos internos do Python (Python’s built-in modules)\n",
    "    - recursos de terceiros (módulos que foram instalados)\n",
    "    - módulos que pertencem à sua aplicação\n",
    "- Cada um destes grupos separados por uma linha em branco.\n",
    "- Exemplo:"
   ]
  },
  {
   "cell_type": "code",
   "execution_count": null,
   "metadata": {},
   "outputs": [],
   "source": [
    "\"\"\"\n",
    "Comentários de documentação:\n",
    "\n",
    "author:\n",
    "date:\n",
    "version:\n",
    "last update:\n",
    "\"\"\"\n",
    "\n",
    "## Importação de módulos internos do Python\n",
    "import os\n",
    "import sys\n",
    "\n",
    "## Importação de recursos de terceiros (módulos que foram instalados)\n",
    "import pandas\n",
    "from Bio.Seq import Seq\n",
    "\n",
    "## Importação de módulos que pertencem à sua aplicação\n",
    "import meuCodigoParaFazerAlgo"
   ]
  },
  {
   "cell_type": "markdown",
   "metadata": {},
   "source": [
    "## Erros comuns\n",
    "\n",
    "- Um módulo importar ele mesmo. Suponha o script ``meuscript1.py`` com as seguintes declarações:"
   ]
  },
  {
   "cell_type": "code",
   "execution_count": 17,
   "metadata": {},
   "outputs": [
    {
     "ename": "ModuleNotFoundError",
     "evalue": "No module named 'meuscript1'",
     "output_type": "error",
     "traceback": [
      "\u001b[1;31m---------------------------------------------------------------------------\u001b[0m",
      "\u001b[1;31mModuleNotFoundError\u001b[0m                       Traceback (most recent call last)",
      "\u001b[1;32m<ipython-input-17-7d6007bd0dbd>\u001b[0m in \u001b[0;36m<module>\u001b[1;34m\u001b[0m\n\u001b[1;32m----> 1\u001b[1;33m \u001b[1;32mimport\u001b[0m \u001b[0mmeuscript1\u001b[0m\u001b[1;33m\u001b[0m\u001b[1;33m\u001b[0m\u001b[0m\n\u001b[0m\u001b[0;32m      2\u001b[0m \u001b[1;33m\u001b[0m\u001b[0m\n\u001b[0;32m      3\u001b[0m \u001b[0mprint\u001b[0m\u001b[1;33m(\u001b[0m\u001b[1;34m\"Olá! Sou eu!\"\u001b[0m\u001b[1;33m)\u001b[0m\u001b[1;33m\u001b[0m\u001b[1;33m\u001b[0m\u001b[0m\n",
      "\u001b[1;31mModuleNotFoundError\u001b[0m: No module named 'meuscript1'"
     ]
    }
   ],
   "source": [
    "## script meuscript1.py\n",
    "\n",
    "import meuscript1\n",
    "\n",
    "print(\"Olá! Sou eu!\")"
   ]
  },
  {
   "cell_type": "markdown",
   "metadata": {},
   "source": [
    "- O output da execução do script acima seria:\n",
    "\n",
    "`` Olá! Sou eu!`` <br>\n",
    "`` Olá! Sou eu!``"
   ]
  },
  {
   "cell_type": "markdown",
   "metadata": {},
   "source": [
    "- Outro erro comum é chamado de _name shadowing_. Ocorre quando criamos um módulo que tem o mesmo nome de um módulo interno de Python. Suponha que você tenha criado um script chamado ``sys.py`` e tenta importar dentro dele algum recurso do módulo ``sys`` que já sabemos que é um módulo interno do Python:"
   ]
  },
  {
   "cell_type": "code",
   "execution_count": null,
   "metadata": {},
   "outputs": [],
   "source": [
    "## dentro do seu script sys.py\n",
    "\n",
    "from sys import argv"
   ]
  },
  {
   "cell_type": "markdown",
   "metadata": {},
   "source": [
    "- O Python não conseguirá importar o recurso e lançará a seguinte mensagem de erro:\n",
    "\n",
    "``ImportError: cannot import name ``\n",
    "\n",
    "- Uma forma de evitar este tipo de situação é adicionar um sufixo \"\\_script\" ao nome dos seus módulos, por exemplo, ``sys_script.py``."
   ]
  },
  {
   "cell_type": "markdown",
   "metadata": {},
   "source": [
    "- Quando um módulo é importado, ele é __totalmente executado__ e adicionado ao ``namespace`` atual do script sendo executado.\n",
    "- Isso pode se tornar um problema em situações em que você deseja importar seu módulo e executá-lo como um script.\n",
    "- Considere o seguinte exemplo:"
   ]
  },
  {
   "cell_type": "code",
   "execution_count": null,
   "metadata": {},
   "outputs": [],
   "source": [
    "## script modulo_inseguro.py\n",
    "\n",
    "nome = \"Vitor\"\n",
    "\n",
    "print(\"Olá, \", nome)"
   ]
  },
  {
   "cell_type": "markdown",
   "metadata": {},
   "source": [
    "- O que acontece se eu criar outro módulo ``adeus_inseguro.py`` e importar ``nome`` de ``modulo_inseguro.py``?"
   ]
  },
  {
   "cell_type": "code",
   "execution_count": null,
   "metadata": {},
   "outputs": [],
   "source": [
    "## script adeus_inseguro.py\n",
    "\n",
    "from modulo_inseguro import nome\n",
    "\n",
    "print(\"Adeus, \", nome)"
   ]
  },
  {
   "cell_type": "markdown",
   "metadata": {},
   "source": [
    "- Lembre que quando importamos um módulo, todo o seu conteúdo é executado. Portanto, a saída da execução do script ``adeus_inseguro.py`` será:\n",
    "\n",
    "``Olá, Vitor`` <br>\n",
    "``Adeus, Vitor``"
   ]
  },
  {
   "cell_type": "markdown",
   "metadata": {},
   "source": [
    "## O padrão __main__\n",
    "\n",
    "- Existem formas de tornar a importação de módulos mais apropriada ou segura.\n",
    "- Vamos alterar o módulo ``modulo_inseguro.py``:"
   ]
  },
  {
   "cell_type": "code",
   "execution_count": null,
   "metadata": {},
   "outputs": [],
   "source": [
    "# script modulo_seguro.py\n",
    "\n",
    "nome = \"Vitor\"\n",
    "\n",
    "if __name__ == \"__main__\":\n",
    "    print(\"Olá, \", nome)"
   ]
  },
  {
   "cell_type": "markdown",
   "metadata": {},
   "source": [
    "- Em Python, o nome do módulo é armazenado na variável interna ``__main__``;\n",
    "- Quando você está executando um script, ``__name__`` tem um valor \"\\_\\_main\\_\\_\". Portanto, aqui verificamos o valor de ``__name__`` e imprimimos a linha apenas se o módulo for executado como um script:"
   ]
  },
  {
   "cell_type": "code",
   "execution_count": null,
   "metadata": {},
   "outputs": [],
   "source": [
    "## script adeus_seguro.py\n",
    "\n",
    "from modulo_seguro import nome\n",
    "\n",
    "print(\"Adeus, \", nome)"
   ]
  },
  {
   "cell_type": "markdown",
   "metadata": {},
   "source": [
    "- Com estas alterações, a saída da execução do script ``adeus_seguro.py`` será apenas ``Adeus, Vitor``.\n",
    "- Em geral, se você tem muitas linhas de instruções para serem executadas, é conveniente criar uma função ``main()`` e mover todo código para dentro dela:"
   ]
  },
  {
   "cell_type": "code",
   "execution_count": null,
   "metadata": {},
   "outputs": [],
   "source": [
    "## script modulo_seguro_main.py\n",
    "\n",
    "nome = \"Vitor\"\n",
    "## definição de outras funções \n",
    "\n",
    "## funcao principal main\n",
    "def main():\n",
    "    print(\"Olá, \", nome)\n",
    "    # instruções #\n",
    "\n",
    "if __name__ == \"__main__\":\n",
    "    main()"
   ]
  },
  {
   "cell_type": "markdown",
   "metadata": {},
   "source": [
    "## Definição e estrutura de pacotes\n",
    "\n",
    "- Com o aumento da escala do nosso programa, fica cada vez mais difícil gerenciar o código produzido.\n",
    "- Uma forma de organizar os módulos é através de pacotes.\n",
    "- Um pacote é uma forma de estruturar módulos de maneira hierárquica utilizando \"nomes de módulos com pontos\". Exemplo: o nome do módulo ``jupiter.lua1`` refere-se a um sub-módulo ``lua1`` em um pacote denominado ``jupiter``.\n",
    "- Uma possível estrutura pode ser:"
   ]
  },
  {
   "cell_type": "code",
   "execution_count": null,
   "metadata": {},
   "outputs": [],
   "source": [
    "pacote/                   ## nome do pacote principal\n",
    "    __init__.py           ## este arquivo indica que este diretório deve ser tratado como um pacote\n",
    "    subpacote1/           ## um sub-pacote com mais módulos\n",
    "        __init__.py       ## novamente, indicação que este diretório deve ser tratado como um pacote\n",
    "        artificial.py\n",
    "        amadores.py\n",
    "        ...\n",
    "    subpacote2/\n",
    "        __init__.py\n",
    "        incrivel.py\n",
    "        animado.py\n",
    "        soberbo.py\n",
    "        ..."
   ]
  },
  {
   "cell_type": "markdown",
   "metadata": {},
   "source": [
    "- o módulo ``__init__.py`` é __obrigatório__ em cada diretório (ou \"pasta\") que queremos que seja tratada como um pacote pelo interpretador do Python. O arquivo pode estar __vazio__."
   ]
  },
  {
   "cell_type": "markdown",
   "metadata": {},
   "source": [
    "## Importando e referenciando pacotes\n",
    "\n",
    "- Vimos anteriormente como importar módulos, mas agora vamos reforçar a importação de recursos provenientes de pacotes.\n",
    "- Considere a estrutura hierárquica exemplificada na seção anterior de ``pacote``.\n",
    "- Suponha que queremos importar um módulo específico de ``pacote``.\n",
    "- Existem algumas formas de importar o sub-módulo ``artificial`` de ``subpacote1``:"
   ]
  },
  {
   "cell_type": "code",
   "execution_count": null,
   "metadata": {},
   "outputs": [],
   "source": [
    "from pacote.subpacote1 import artificial\n",
    "\n",
    "artificial.funcao(arg1, arg2)"
   ]
  },
  {
   "cell_type": "markdown",
   "metadata": {},
   "source": [
    "- A outra alternativa seria:"
   ]
  },
  {
   "cell_type": "code",
   "execution_count": null,
   "metadata": {},
   "outputs": [],
   "source": [
    "import pacote.subpacote1.artificial\n",
    "\n",
    "pacote.subpacote.artificial.funcao(arg1, arg2)"
   ]
  },
  {
   "cell_type": "markdown",
   "metadata": {},
   "source": [
    "- Ou também:"
   ]
  },
  {
   "cell_type": "code",
   "execution_count": null,
   "metadata": {},
   "outputs": [],
   "source": [
    "from pacote.subpacote.artificial import funcao\n",
    "\n",
    "funcao(arg1, arg2)"
   ]
  },
  {
   "cell_type": "markdown",
   "metadata": {},
   "source": [
    "### Última vez: para fixar as boas práticas de importação\n",
    "\n",
    "- Utilizar ``from <módulo> import *`` é considerada uma prática ruim de programação, porque não sabemos exatamente quais nomes estão definidos dentro do módulo, podendo levar ao erro outros programadores ou programas.\n",
    "- Recomenda-se utilizar o caminho absoluto:\n",
    "\n",
    "``import pacote.subpacote.amadores`` <br>\n",
    "``from pacote.subpacote import amadores``"
   ]
  },
  {
   "cell_type": "markdown",
   "metadata": {},
   "source": [
    "## Considerações finais\n",
    "\n",
    "- Reutilização de código é uma prática primordial na progrmação de computadores;\n",
    "- Construir módulos e bibliotecas sem tantas \"amarras\" facilitam sua utilização em diferentes aplicações;\n",
    "- Pacotes são uma ótima maneira estruturar o código;\n",
    "- Existem um conjunto de boas práticas de importação que facilitam a leitura do código e devem ser empregadas!"
   ]
  },
  {
   "cell_type": "markdown",
   "metadata": {},
   "source": [
    "# Conclusão final: vamos organizar nosso código!"
   ]
  },
  {
   "cell_type": "code",
   "execution_count": null,
   "metadata": {},
   "outputs": [],
   "source": [
    "\"\"\"\n",
    "comentário sobre o script\n",
    "\n",
    "autor/autora: Gabriela ...\n",
    "data: 11/02/2021\n",
    "versão: 1\n",
    "\n",
    "\"\"\"\n",
    "\n",
    "### importações de bibliotecas internas do Python. Ex. sys, os, etc\n",
    "\n",
    "### importações de bibliotecas de terceiros. Ex. biopython, numpy, pandas\n",
    "\n",
    "### importações de seus próprios módulos e pacotes\n",
    "\n",
    "### classes de erros e excecoes em um arquivo separado erros.py ou excecoes.py\n",
    "\n",
    "### definição de funções\n",
    "\n",
    "def funcao1():\n",
    "    pass\n",
    "\n",
    "## ...\n",
    "\n",
    "def funcaon():\n",
    "    pass\n",
    "\n",
    "\n",
    "### definição da função main\n",
    "def main():\n",
    "    \"\"\"\n",
    "    Aqui vai o código principal\n",
    "    \"\"\"\n",
    "    pass\n",
    "\n",
    "### usamos teste do __main__ para transforma o script também em um módulo seguro!\n",
    "if __name__ == \"__main__\":\n",
    "    main()\n"
   ]
  }
 ],
 "metadata": {
  "kernelspec": {
   "display_name": "Python 3",
   "language": "python",
   "name": "python3"
  },
  "language_info": {
   "codemirror_mode": {
    "name": "ipython",
    "version": 3
   },
   "file_extension": ".py",
   "mimetype": "text/x-python",
   "name": "python",
   "nbconvert_exporter": "python",
   "pygments_lexer": "ipython3",
   "version": "3.8.3"
  }
 },
 "nbformat": 4,
 "nbformat_minor": 4
}
